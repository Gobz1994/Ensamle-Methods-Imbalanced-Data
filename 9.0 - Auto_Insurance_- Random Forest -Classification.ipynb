{
 "cells": [
  {
   "cell_type": "markdown",
   "metadata": {},
   "source": [
    "<img src= 'http://www.bigbang-datascience.com/wp-content/uploads/2017/09/cropped-Logo-01.jpg' width=500/>"
   ]
  },
  {
   "cell_type": "markdown",
   "metadata": {},
   "source": [
    "## Project Guide  \n",
    "------------  \n",
    "- [Project Overview](#project-overview)  \n",
    "- [Part 1: Reading Data - Exploratory Data Analysis with Pandas](#I)\n",
    "- [Part 2: Visual data analysis in Python](#II)\n",
    "- [Part 3: Data Pre-processing &  Preparation](#III)\n",
    "- [Part 4: Predictive Analytics](#IV)\n",
    "- [Part 5: Optimization (Hyper Parameter Tuning)](#V)"
   ]
  },
  {
   "cell_type": "markdown",
   "metadata": {},
   "source": [
    "<details>\n",
    "<summary>\n",
    "Roadmap for Building Machine Learning Models\n",
    "</summary>\n",
    "<p>\n",
    "\n",
    "\n",
    "    1. Prepare Problem  \n",
    "    a) Define The Business Objective  \n",
    "    b) Select the datasets  \n",
    "    c) Load dataset  \n",
    "    d) Load libraries  \n",
    "\n",
    "\n",
    "**Data Pre-processing**  \n",
    "This is the first step in building a machine learning model. Data pre-processing refers to the transformation of data\n",
    "before feeding it into the model. It deals with the techniques that are used to convert unusable raw data into clean \n",
    "reliable data.  \n",
    "  \n",
    "Since data collection is often not performed in a controlled manner, raw data often contains outliers \n",
    "(for example, age = 120), nonsensical data combinations (for example, model: bicycle, type: 4-wheeler), missing values, \n",
    "scale problems, and so on. Because of this, raw data cannot be fed into a machine learning model because it might \n",
    "compromise the quality of the results. As such, this is the most important step in the process of data science.  \n",
    "  \n",
    "\n",
    "    2. Summarize Data  \n",
    "    a) Descriptive statistics  \n",
    "    b) Data visualizations  \n",
    "\n",
    "    3. Prepare Data  \n",
    "    a) Data Cleaning  \n",
    "    b) Feature Selection  \n",
    "    c) Data Transformation  \n",
    "\n",
    "**Model Learning**  \n",
    "After pre-processing the data and splitting it into train/test sets (more on this later), we move on to modeling. Models \n",
    "are nothing but sets of well-defined methods called algorithms that use pre-processed data to learn patterns, which can \n",
    "later be used to make predictions. There are different types of learning algorithms, including supervised, semi-supervised, \n",
    "unsupervised, and reinforcement learning. These will be discussed later.\n",
    "  \n",
    "    4. Modeling Strategy  \n",
    "    a) Select Suitable Algorithms  \n",
    "    b) Select Training/Testing Approaches  \n",
    "    c) Train   \n",
    "  \n",
    "  \n",
    "**Model Evaluation**  \n",
    "In this stage, the models are evaluated with the help of specific performance metrics. With these metrics, we can go on to \n",
    "tune the hyperparameters of a model in order to improve it. This process is called hyperparameter optimization. We will \n",
    "repeat this step until we are satisfied with the performance.  \n",
    "  \n",
    "    4. Evaluate Algorithms  \n",
    "    a) Split-out validation dataset  \n",
    "    b) Test options and evaluation metric  \n",
    "    c) Spot Check Algorithms  \n",
    "    d) Compare Algorithms  \n",
    "  \n",
    "**Prediction**  \n",
    "Once we are happy with the results from the evaluation step, we will then move on to predictions. Predictions are made \n",
    "by the trained model when it is exposed to a new dataset. In a business setting, these predictions can be shared with \n",
    "decision makers to make effective business choices.  \n",
    "  \n",
    "    5. Improve Accuracy  \n",
    "    a) Algorithm Tuning  \n",
    "    b) Ensembles  \n",
    "\n",
    "**Model Deployment**  \n",
    "The whole process of machine learning does not just stop with model building and prediction. It also involves making use \n",
    "of the model to build an application with the new data. Depending on the business requirements, the deployment may be a \n",
    "report, or it may be some repetitive data science steps that are to be executed. After deployment, a model needs proper \n",
    "management and maintenance at regular intervals to keep it up and running.  \n",
    "\n",
    "    6. Finalize Model  \n",
    "    a) Predictions on validation dataset  \n",
    "    b) Create standalone model on entire training dataset  \n",
    "    c) Save model for later use  \n",
    "\n",
    "\n",
    "</p>\n",
    "</details>"
   ]
  },
  {
   "cell_type": "markdown",
   "metadata": {},
   "source": [
    "<a id=\"I\"></a>\n",
    "\n",
    "# I.  Reading Data - Exploratory Data Analysis with Pandas"
   ]
  },
  {
   "cell_type": "markdown",
   "metadata": {},
   "source": [
    "### Article outline\n",
    "1. Demonstration of main Pandas methods\n",
    "2. First attempt on predicting Auto Insurance Fraud\n",
    "3. Useful resources"
   ]
  },
  {
   "cell_type": "markdown",
   "metadata": {},
   "source": [
    "### Demonstration of main Pandas methods \n",
    "\n",
    "**[Pandas](http://pandas.pydata.org)** is a Python library that provides extensive means for data analysis. Data scientists often work with data stored in table formats like `.csv`, `.tsv`, or `.xlsx`. Pandas makes it very convenient to load, process, and analyze such tabular data using SQL-like queries. In conjunction with `Matplotlib` and `Seaborn`, `Pandas` provides a wide range of opportunities for visual analysis of tabular data.\n",
    "\n",
    "The main data structures in `Pandas` are implemented with **Series** and **DataFrame** classes. The former is a one-dimensional indexed array of some fixed data type. The latter is a two-dimensional data structure - a table - where each column contains data of the same type. You can see it as a dictionary of `Series` instances. `DataFrames` are great for representing real data: rows correspond to instances (examples, observations, etc.), and columns correspond to features of these instances."
   ]
  },
  {
   "cell_type": "code",
   "execution_count": 1,
   "metadata": {},
   "outputs": [],
   "source": [
    "# Importing the libraries\n",
    "import numpy as np\n",
    "import matplotlib.pyplot as plt\n",
    "import pandas as pd\n",
    "\n",
    "import seaborn as sns\n",
    "sns.set()  #  Will import Seaborn functionalities\n",
    "# we don't like warnings\n",
    "# you can comment the following 2 lines if you'd like to\n",
    "import warnings\n",
    "warnings.filterwarnings('ignore')"
   ]
  },
  {
   "cell_type": "markdown",
   "metadata": {},
   "source": [
    "\n",
    "We’ll demonstrate the main methods in action by analyzing a [dataset](https://bigml.com/user/francisco/gallery/dataset/5163ad540c0b5e5b22000383) on the churn rate of telecom operator clients. Let’s read the data (using `read_csv`), and take a look at the first 5 lines using the `head` method:\n"
   ]
  },
  {
   "cell_type": "code",
   "execution_count": 2,
   "metadata": {},
   "outputs": [],
   "source": [
    "# Disply all Columns\n",
    "pd.options.display.max_columns=70"
   ]
  },
  {
   "cell_type": "code",
   "execution_count": 3,
   "metadata": {},
   "outputs": [
    {
     "data": {
      "text/html": [
       "<div>\n",
       "<style scoped>\n",
       "    .dataframe tbody tr th:only-of-type {\n",
       "        vertical-align: middle;\n",
       "    }\n",
       "\n",
       "    .dataframe tbody tr th {\n",
       "        vertical-align: top;\n",
       "    }\n",
       "\n",
       "    .dataframe thead th {\n",
       "        text-align: right;\n",
       "    }\n",
       "</style>\n",
       "<table border=\"1\" class=\"dataframe\">\n",
       "  <thead>\n",
       "    <tr style=\"text-align: right;\">\n",
       "      <th></th>\n",
       "      <th>Unnamed: 0</th>\n",
       "      <th>incident_severity_Total Loss</th>\n",
       "      <th>insured_hobbies_cross-fit</th>\n",
       "      <th>insured_hobbies_chess</th>\n",
       "      <th>incident_severity_Minor Damage</th>\n",
       "      <th>auto_model_X6</th>\n",
       "      <th>auto_make_Volkswagen</th>\n",
       "      <th>insured_occupation_craft-repair</th>\n",
       "      <th>insured_relationship_wife</th>\n",
       "      <th>insured_hobbies_hiking</th>\n",
       "      <th>auto_model_95</th>\n",
       "      <th>auto_model_Neon</th>\n",
       "      <th>insured_relationship_own-child</th>\n",
       "      <th>auto_make_Honda</th>\n",
       "      <th>vehicle_claim</th>\n",
       "      <th>insured_education_level_College</th>\n",
       "      <th>insured_hobbies_reading</th>\n",
       "      <th>insured_relationship_not-in-family</th>\n",
       "      <th>insured_occupation_tech-support</th>\n",
       "      <th>insured_occupation_armed-forces</th>\n",
       "      <th>auto_model_A5</th>\n",
       "      <th>insured_hobbies_camping</th>\n",
       "      <th>auto_model_Malibu</th>\n",
       "      <th>insured_education_level_Masters</th>\n",
       "      <th>incident_state_WV</th>\n",
       "      <th>auto_model_Civic</th>\n",
       "      <th>insured_hobbies_skydiving</th>\n",
       "      <th>insured_occupation_handlers-cleaners</th>\n",
       "      <th>incident_state_VA</th>\n",
       "      <th>insured_relationship_other-relative</th>\n",
       "      <th>insured_hobbies_video-games</th>\n",
       "      <th>collision_type_Rear Collision</th>\n",
       "      <th>collision_type_Side Collision</th>\n",
       "      <th>insured_hobbies_yachting</th>\n",
       "      <th>fraud_reported</th>\n",
       "    </tr>\n",
       "  </thead>\n",
       "  <tbody>\n",
       "    <tr>\n",
       "      <th>0</th>\n",
       "      <td>0</td>\n",
       "      <td>0</td>\n",
       "      <td>0</td>\n",
       "      <td>0</td>\n",
       "      <td>0</td>\n",
       "      <td>0</td>\n",
       "      <td>0</td>\n",
       "      <td>1</td>\n",
       "      <td>0</td>\n",
       "      <td>0</td>\n",
       "      <td>0</td>\n",
       "      <td>0</td>\n",
       "      <td>0</td>\n",
       "      <td>0</td>\n",
       "      <td>52080</td>\n",
       "      <td>0</td>\n",
       "      <td>0</td>\n",
       "      <td>0</td>\n",
       "      <td>0</td>\n",
       "      <td>0</td>\n",
       "      <td>0</td>\n",
       "      <td>0</td>\n",
       "      <td>0</td>\n",
       "      <td>0</td>\n",
       "      <td>0</td>\n",
       "      <td>0</td>\n",
       "      <td>0</td>\n",
       "      <td>0</td>\n",
       "      <td>0</td>\n",
       "      <td>0</td>\n",
       "      <td>0</td>\n",
       "      <td>0</td>\n",
       "      <td>1</td>\n",
       "      <td>0</td>\n",
       "      <td>1</td>\n",
       "    </tr>\n",
       "    <tr>\n",
       "      <th>1</th>\n",
       "      <td>1</td>\n",
       "      <td>0</td>\n",
       "      <td>0</td>\n",
       "      <td>0</td>\n",
       "      <td>1</td>\n",
       "      <td>0</td>\n",
       "      <td>0</td>\n",
       "      <td>0</td>\n",
       "      <td>0</td>\n",
       "      <td>0</td>\n",
       "      <td>0</td>\n",
       "      <td>0</td>\n",
       "      <td>0</td>\n",
       "      <td>0</td>\n",
       "      <td>3510</td>\n",
       "      <td>0</td>\n",
       "      <td>1</td>\n",
       "      <td>0</td>\n",
       "      <td>0</td>\n",
       "      <td>0</td>\n",
       "      <td>0</td>\n",
       "      <td>0</td>\n",
       "      <td>0</td>\n",
       "      <td>0</td>\n",
       "      <td>0</td>\n",
       "      <td>0</td>\n",
       "      <td>0</td>\n",
       "      <td>0</td>\n",
       "      <td>1</td>\n",
       "      <td>1</td>\n",
       "      <td>0</td>\n",
       "      <td>0</td>\n",
       "      <td>0</td>\n",
       "      <td>0</td>\n",
       "      <td>1</td>\n",
       "    </tr>\n",
       "    <tr>\n",
       "      <th>2</th>\n",
       "      <td>2</td>\n",
       "      <td>0</td>\n",
       "      <td>0</td>\n",
       "      <td>0</td>\n",
       "      <td>1</td>\n",
       "      <td>0</td>\n",
       "      <td>0</td>\n",
       "      <td>0</td>\n",
       "      <td>0</td>\n",
       "      <td>0</td>\n",
       "      <td>0</td>\n",
       "      <td>0</td>\n",
       "      <td>1</td>\n",
       "      <td>0</td>\n",
       "      <td>23100</td>\n",
       "      <td>0</td>\n",
       "      <td>0</td>\n",
       "      <td>0</td>\n",
       "      <td>0</td>\n",
       "      <td>0</td>\n",
       "      <td>0</td>\n",
       "      <td>0</td>\n",
       "      <td>0</td>\n",
       "      <td>0</td>\n",
       "      <td>0</td>\n",
       "      <td>0</td>\n",
       "      <td>0</td>\n",
       "      <td>0</td>\n",
       "      <td>0</td>\n",
       "      <td>0</td>\n",
       "      <td>0</td>\n",
       "      <td>1</td>\n",
       "      <td>0</td>\n",
       "      <td>0</td>\n",
       "      <td>0</td>\n",
       "    </tr>\n",
       "    <tr>\n",
       "      <th>3</th>\n",
       "      <td>3</td>\n",
       "      <td>0</td>\n",
       "      <td>0</td>\n",
       "      <td>0</td>\n",
       "      <td>0</td>\n",
       "      <td>0</td>\n",
       "      <td>0</td>\n",
       "      <td>0</td>\n",
       "      <td>0</td>\n",
       "      <td>0</td>\n",
       "      <td>0</td>\n",
       "      <td>0</td>\n",
       "      <td>0</td>\n",
       "      <td>0</td>\n",
       "      <td>50720</td>\n",
       "      <td>0</td>\n",
       "      <td>0</td>\n",
       "      <td>0</td>\n",
       "      <td>0</td>\n",
       "      <td>1</td>\n",
       "      <td>0</td>\n",
       "      <td>0</td>\n",
       "      <td>0</td>\n",
       "      <td>0</td>\n",
       "      <td>0</td>\n",
       "      <td>0</td>\n",
       "      <td>0</td>\n",
       "      <td>0</td>\n",
       "      <td>0</td>\n",
       "      <td>0</td>\n",
       "      <td>0</td>\n",
       "      <td>0</td>\n",
       "      <td>0</td>\n",
       "      <td>0</td>\n",
       "      <td>1</td>\n",
       "    </tr>\n",
       "    <tr>\n",
       "      <th>4</th>\n",
       "      <td>4</td>\n",
       "      <td>0</td>\n",
       "      <td>0</td>\n",
       "      <td>0</td>\n",
       "      <td>1</td>\n",
       "      <td>0</td>\n",
       "      <td>0</td>\n",
       "      <td>0</td>\n",
       "      <td>0</td>\n",
       "      <td>0</td>\n",
       "      <td>0</td>\n",
       "      <td>0</td>\n",
       "      <td>0</td>\n",
       "      <td>0</td>\n",
       "      <td>4550</td>\n",
       "      <td>0</td>\n",
       "      <td>0</td>\n",
       "      <td>0</td>\n",
       "      <td>0</td>\n",
       "      <td>0</td>\n",
       "      <td>0</td>\n",
       "      <td>0</td>\n",
       "      <td>0</td>\n",
       "      <td>0</td>\n",
       "      <td>0</td>\n",
       "      <td>0</td>\n",
       "      <td>0</td>\n",
       "      <td>0</td>\n",
       "      <td>0</td>\n",
       "      <td>0</td>\n",
       "      <td>0</td>\n",
       "      <td>0</td>\n",
       "      <td>0</td>\n",
       "      <td>0</td>\n",
       "      <td>0</td>\n",
       "    </tr>\n",
       "  </tbody>\n",
       "</table>\n",
       "</div>"
      ],
      "text/plain": [
       "   Unnamed: 0  incident_severity_Total Loss  insured_hobbies_cross-fit  \\\n",
       "0           0                             0                          0   \n",
       "1           1                             0                          0   \n",
       "2           2                             0                          0   \n",
       "3           3                             0                          0   \n",
       "4           4                             0                          0   \n",
       "\n",
       "   insured_hobbies_chess  incident_severity_Minor Damage  auto_model_X6  \\\n",
       "0                      0                               0              0   \n",
       "1                      0                               1              0   \n",
       "2                      0                               1              0   \n",
       "3                      0                               0              0   \n",
       "4                      0                               1              0   \n",
       "\n",
       "   auto_make_Volkswagen  insured_occupation_craft-repair  \\\n",
       "0                     0                                1   \n",
       "1                     0                                0   \n",
       "2                     0                                0   \n",
       "3                     0                                0   \n",
       "4                     0                                0   \n",
       "\n",
       "   insured_relationship_wife  insured_hobbies_hiking  auto_model_95  \\\n",
       "0                          0                       0              0   \n",
       "1                          0                       0              0   \n",
       "2                          0                       0              0   \n",
       "3                          0                       0              0   \n",
       "4                          0                       0              0   \n",
       "\n",
       "   auto_model_Neon  insured_relationship_own-child  auto_make_Honda  \\\n",
       "0                0                               0                0   \n",
       "1                0                               0                0   \n",
       "2                0                               1                0   \n",
       "3                0                               0                0   \n",
       "4                0                               0                0   \n",
       "\n",
       "   vehicle_claim  insured_education_level_College  insured_hobbies_reading  \\\n",
       "0          52080                                0                        0   \n",
       "1           3510                                0                        1   \n",
       "2          23100                                0                        0   \n",
       "3          50720                                0                        0   \n",
       "4           4550                                0                        0   \n",
       "\n",
       "   insured_relationship_not-in-family  insured_occupation_tech-support  \\\n",
       "0                                   0                                0   \n",
       "1                                   0                                0   \n",
       "2                                   0                                0   \n",
       "3                                   0                                0   \n",
       "4                                   0                                0   \n",
       "\n",
       "   insured_occupation_armed-forces  auto_model_A5  insured_hobbies_camping  \\\n",
       "0                                0              0                        0   \n",
       "1                                0              0                        0   \n",
       "2                                0              0                        0   \n",
       "3                                1              0                        0   \n",
       "4                                0              0                        0   \n",
       "\n",
       "   auto_model_Malibu  insured_education_level_Masters  incident_state_WV  \\\n",
       "0                  0                                0                  0   \n",
       "1                  0                                0                  0   \n",
       "2                  0                                0                  0   \n",
       "3                  0                                0                  0   \n",
       "4                  0                                0                  0   \n",
       "\n",
       "   auto_model_Civic  insured_hobbies_skydiving  \\\n",
       "0                 0                          0   \n",
       "1                 0                          0   \n",
       "2                 0                          0   \n",
       "3                 0                          0   \n",
       "4                 0                          0   \n",
       "\n",
       "   insured_occupation_handlers-cleaners  incident_state_VA  \\\n",
       "0                                     0                  0   \n",
       "1                                     0                  1   \n",
       "2                                     0                  0   \n",
       "3                                     0                  0   \n",
       "4                                     0                  0   \n",
       "\n",
       "   insured_relationship_other-relative  insured_hobbies_video-games  \\\n",
       "0                                    0                            0   \n",
       "1                                    1                            0   \n",
       "2                                    0                            0   \n",
       "3                                    0                            0   \n",
       "4                                    0                            0   \n",
       "\n",
       "   collision_type_Rear Collision  collision_type_Side Collision  \\\n",
       "0                              0                              1   \n",
       "1                              0                              0   \n",
       "2                              1                              0   \n",
       "3                              0                              0   \n",
       "4                              0                              0   \n",
       "\n",
       "   insured_hobbies_yachting  fraud_reported  \n",
       "0                         0               1  \n",
       "1                         0               1  \n",
       "2                         0               0  \n",
       "3                         0               1  \n",
       "4                         0               0  "
      ]
     },
     "execution_count": 3,
     "metadata": {},
     "output_type": "execute_result"
    }
   ],
   "source": [
    "autinsurance = pd.read_csv('insurance_claimsV4.csv')\n",
    "autinsurance.head()"
   ]
  },
  {
   "cell_type": "code",
   "execution_count": 4,
   "metadata": {},
   "outputs": [],
   "source": [
    "autinsurance = autinsurance.drop('Unnamed: 0', axis = 1)"
   ]
  },
  {
   "cell_type": "code",
   "execution_count": 5,
   "metadata": {},
   "outputs": [
    {
     "data": {
      "text/plain": [
       "0    0.753\n",
       "1    0.247\n",
       "Name: fraud_reported, dtype: float64"
      ]
     },
     "execution_count": 5,
     "metadata": {},
     "output_type": "execute_result"
    }
   ],
   "source": [
    "autinsurance['fraud_reported'].value_counts(normalize=True)"
   ]
  },
  {
   "cell_type": "code",
   "execution_count": 6,
   "metadata": {},
   "outputs": [
    {
     "data": {
      "text/plain": [
       "<AxesSubplot:>"
      ]
     },
     "execution_count": 6,
     "metadata": {},
     "output_type": "execute_result"
    },
    {
     "data": {
      "image/png": "[encoded data removed]",
      "text/plain": [
       "<Figure size 432x288 with 1 Axes>"
      ]
     },
     "metadata": {},
     "output_type": "display_data"
    }
   ],
   "source": [
    "autinsurance['fraud_reported'].hist()"
   ]
  },
  {
   "cell_type": "code",
   "execution_count": 7,
   "metadata": {},
   "outputs": [
    {
     "data": {
      "text/plain": [
       "(1000, 34)"
      ]
     },
     "execution_count": 7,
     "metadata": {},
     "output_type": "execute_result"
    }
   ],
   "source": [
    "autinsurance.shape"
   ]
  },
  {
   "cell_type": "code",
   "execution_count": 8,
   "metadata": {},
   "outputs": [
    {
     "data": {
      "text/plain": [
       "Index(['incident_severity_Total Loss', 'insured_hobbies_cross-fit',\n",
       "       'insured_hobbies_chess', 'incident_severity_Minor Damage',\n",
       "       'auto_model_X6', 'auto_make_Volkswagen',\n",
       "       'insured_occupation_craft-repair', 'insured_relationship_wife',\n",
       "       'insured_hobbies_hiking', 'auto_model_95', 'auto_model_Neon',\n",
       "       'insured_relationship_own-child', 'auto_make_Honda', 'vehicle_claim',\n",
       "       'insured_education_level_College', 'insured_hobbies_reading',\n",
       "       'insured_relationship_not-in-family', 'insured_occupation_tech-support',\n",
       "       'insured_occupation_armed-forces', 'auto_model_A5',\n",
       "       'insured_hobbies_camping', 'auto_model_Malibu',\n",
       "       'insured_education_level_Masters', 'incident_state_WV',\n",
       "       'auto_model_Civic', 'insured_hobbies_skydiving',\n",
       "       'insured_occupation_handlers-cleaners', 'incident_state_VA',\n",
       "       'insured_relationship_other-relative', 'insured_hobbies_video-games',\n",
       "       'collision_type_Rear Collision', 'collision_type_Side Collision',\n",
       "       'insured_hobbies_yachting', 'fraud_reported'],\n",
       "      dtype='object')"
      ]
     },
     "execution_count": 8,
     "metadata": {},
     "output_type": "execute_result"
    }
   ],
   "source": [
    "autinsurance.columns"
   ]
  },
  {
   "cell_type": "code",
   "execution_count": 9,
   "metadata": {},
   "outputs": [],
   "source": [
    " X = autinsurance.drop('fraud_reported', axis = 1)\n",
    " y = autinsurance.fraud_reported"
   ]
  },
  {
   "cell_type": "markdown",
   "metadata": {},
   "source": [
    "### Data split & Scaling Data Preprocessing"
   ]
  },
  {
   "cell_type": "code",
   "execution_count": 10,
   "metadata": {},
   "outputs": [],
   "source": [
    "# Splitting the dataset into the Training set and Test set\n",
    "from sklearn.model_selection import train_test_split\n",
    "\n",
    "training_features, test_features, \\\n",
    "training_target, test_target, = train_test_split(X,y,\n",
    "                                               test_size = .2,\n",
    "                                               random_state= 45)\n"
   ]
  },
  {
   "cell_type": "code",
   "execution_count": 11,
   "metadata": {},
   "outputs": [
    {
     "data": {
      "text/html": [
       "<div>\n",
       "<style scoped>\n",
       "    .dataframe tbody tr th:only-of-type {\n",
       "        vertical-align: middle;\n",
       "    }\n",
       "\n",
       "    .dataframe tbody tr th {\n",
       "        vertical-align: top;\n",
       "    }\n",
       "\n",
       "    .dataframe thead th {\n",
       "        text-align: right;\n",
       "    }\n",
       "</style>\n",
       "<table border=\"1\" class=\"dataframe\">\n",
       "  <thead>\n",
       "    <tr style=\"text-align: right;\">\n",
       "      <th></th>\n",
       "      <th>incident_severity_Total Loss</th>\n",
       "      <th>insured_hobbies_cross-fit</th>\n",
       "      <th>insured_hobbies_chess</th>\n",
       "      <th>incident_severity_Minor Damage</th>\n",
       "      <th>auto_model_X6</th>\n",
       "      <th>auto_make_Volkswagen</th>\n",
       "      <th>insured_occupation_craft-repair</th>\n",
       "      <th>insured_relationship_wife</th>\n",
       "      <th>insured_hobbies_hiking</th>\n",
       "      <th>auto_model_95</th>\n",
       "      <th>auto_model_Neon</th>\n",
       "      <th>insured_relationship_own-child</th>\n",
       "      <th>auto_make_Honda</th>\n",
       "      <th>vehicle_claim</th>\n",
       "      <th>insured_education_level_College</th>\n",
       "      <th>insured_hobbies_reading</th>\n",
       "      <th>insured_relationship_not-in-family</th>\n",
       "      <th>insured_occupation_tech-support</th>\n",
       "      <th>insured_occupation_armed-forces</th>\n",
       "      <th>auto_model_A5</th>\n",
       "      <th>insured_hobbies_camping</th>\n",
       "      <th>auto_model_Malibu</th>\n",
       "      <th>insured_education_level_Masters</th>\n",
       "      <th>incident_state_WV</th>\n",
       "      <th>auto_model_Civic</th>\n",
       "      <th>insured_hobbies_skydiving</th>\n",
       "      <th>insured_occupation_handlers-cleaners</th>\n",
       "      <th>incident_state_VA</th>\n",
       "      <th>insured_relationship_other-relative</th>\n",
       "      <th>insured_hobbies_video-games</th>\n",
       "      <th>collision_type_Rear Collision</th>\n",
       "      <th>collision_type_Side Collision</th>\n",
       "      <th>insured_hobbies_yachting</th>\n",
       "    </tr>\n",
       "  </thead>\n",
       "  <tbody>\n",
       "    <tr>\n",
       "      <th>791</th>\n",
       "      <td>1</td>\n",
       "      <td>1</td>\n",
       "      <td>0</td>\n",
       "      <td>0</td>\n",
       "      <td>1</td>\n",
       "      <td>0</td>\n",
       "      <td>0</td>\n",
       "      <td>0</td>\n",
       "      <td>0</td>\n",
       "      <td>0</td>\n",
       "      <td>0</td>\n",
       "      <td>0</td>\n",
       "      <td>0</td>\n",
       "      <td>42930</td>\n",
       "      <td>0</td>\n",
       "      <td>0</td>\n",
       "      <td>0</td>\n",
       "      <td>0</td>\n",
       "      <td>0</td>\n",
       "      <td>0</td>\n",
       "      <td>0</td>\n",
       "      <td>0</td>\n",
       "      <td>0</td>\n",
       "      <td>0</td>\n",
       "      <td>0</td>\n",
       "      <td>0</td>\n",
       "      <td>0</td>\n",
       "      <td>0</td>\n",
       "      <td>0</td>\n",
       "      <td>0</td>\n",
       "      <td>1</td>\n",
       "      <td>0</td>\n",
       "      <td>0</td>\n",
       "    </tr>\n",
       "  </tbody>\n",
       "</table>\n",
       "</div>"
      ],
      "text/plain": [
       "     incident_severity_Total Loss  insured_hobbies_cross-fit  \\\n",
       "791                             1                          1   \n",
       "\n",
       "     insured_hobbies_chess  incident_severity_Minor Damage  auto_model_X6  \\\n",
       "791                      0                               0              1   \n",
       "\n",
       "     auto_make_Volkswagen  insured_occupation_craft-repair  \\\n",
       "791                     0                                0   \n",
       "\n",
       "     insured_relationship_wife  insured_hobbies_hiking  auto_model_95  \\\n",
       "791                          0                       0              0   \n",
       "\n",
       "     auto_model_Neon  insured_relationship_own-child  auto_make_Honda  \\\n",
       "791                0                               0                0   \n",
       "\n",
       "     vehicle_claim  insured_education_level_College  insured_hobbies_reading  \\\n",
       "791          42930                                0                        0   \n",
       "\n",
       "     insured_relationship_not-in-family  insured_occupation_tech-support  \\\n",
       "791                                   0                                0   \n",
       "\n",
       "     insured_occupation_armed-forces  auto_model_A5  insured_hobbies_camping  \\\n",
       "791                                0              0                        0   \n",
       "\n",
       "     auto_model_Malibu  insured_education_level_Masters  incident_state_WV  \\\n",
       "791                  0                                0                  0   \n",
       "\n",
       "     auto_model_Civic  insured_hobbies_skydiving  \\\n",
       "791                 0                          0   \n",
       "\n",
       "     insured_occupation_handlers-cleaners  incident_state_VA  \\\n",
       "791                                     0                  0   \n",
       "\n",
       "     insured_relationship_other-relative  insured_hobbies_video-games  \\\n",
       "791                                    0                            0   \n",
       "\n",
       "     collision_type_Rear Collision  collision_type_Side Collision  \\\n",
       "791                              1                              0   \n",
       "\n",
       "     insured_hobbies_yachting  \n",
       "791                         0  "
      ]
     },
     "execution_count": 11,
     "metadata": {},
     "output_type": "execute_result"
    }
   ],
   "source": [
    "training_features[:1]"
   ]
  },
  {
   "cell_type": "code",
   "execution_count": 12,
   "metadata": {},
   "outputs": [
    {
     "data": {
      "text/plain": [
       "(200, 33)"
      ]
     },
     "execution_count": 12,
     "metadata": {},
     "output_type": "execute_result"
    }
   ],
   "source": [
    "test_features.shape"
   ]
  },
  {
   "cell_type": "code",
   "execution_count": 13,
   "metadata": {},
   "outputs": [
    {
     "data": {
      "text/plain": [
       "(800,)"
      ]
     },
     "execution_count": 13,
     "metadata": {},
     "output_type": "execute_result"
    }
   ],
   "source": [
    "training_target.shape"
   ]
  },
  {
   "cell_type": "markdown",
   "metadata": {},
   "source": [
    "<a id=\"I\"></a>\n",
    "\n",
    "# II.  Modeling with Machine Learning"
   ]
  },
  {
   "cell_type": "markdown",
   "metadata": {},
   "source": [
    "## Baseline Model"
   ]
  },
  {
   "cell_type": "markdown",
   "metadata": {},
   "source": [
    "### Establishing a Baseline\n",
    "Establishing a baseline is one of the first steps that should be done in any machine learning\n",
    "project. A baseline is a simple model we train in the data in order to determine accuracy and\n",
    "compare to the real models we're going to try. This helps us determine whether the models\n",
    "we try are actually providing any kind of improvements or not.  \n",
    "One type of model that we can use as a baselines is called a dummy model. Dummy\n",
    "models do not learn anything from the data, they just generate their decision by following a\n",
    "rule that may or may not be related to the data. For example, a dummy model for our\n",
    "problem here is one that outputs 0 or 1 at random with a 50% chance for each; this is an\n",
    "example of a dummy rule that is not related to the data. Another dummy model is one that\n",
    "always outputs the most frequent label in the training data; this dummy model is related to\n",
    "the data, but it does not learn anything from it.  \n",
    "These kinds of dummy models are provided in scikit-learn under the dummy module. All\n",
    "of them are implemented in the DummyClassifier class, which accepts a strategy\n",
    "parameter at initialization. This strategy parameter determines which rule the model is going\n",
    "to use. Here, we're going to use the most_frequent strategy, which always returns the most\n",
    "frequent label in the training data.\n"
   ]
  },
  {
   "cell_type": "markdown",
   "metadata": {},
   "source": [
    "\n",
    "### Using a Dummy Classifier\n",
    "\n",
    "As a first classifier, you can apply the built-in [`DummyClassifier` class from `sklearn.dummy`](https://scikit-learn.org/stable/modules/generated/sklearn.dummy.DummyClassifier.html) to set a baseline for performance of our future models.  This classifier does not actually use the feature matrix `X_digits_train`; classification decisions are made using the target vector `y_digits_train` only.  There are a few strategies, but we'll start with the `'most_frequent'` strategy.  That is, the `predict` method always returns the majority class. For our binary digit classification problem, this would be `-1` (because the `1` classification is reserved for `9`s and most of the digits are not `9`s)."
   ]
  },
  {
   "cell_type": "code",
   "execution_count": 14,
   "metadata": {},
   "outputs": [
    {
     "data": {
      "text/plain": [
       "0    0.753\n",
       "1    0.247\n",
       "Name: fraud_reported, dtype: float64"
      ]
     },
     "execution_count": 14,
     "metadata": {},
     "output_type": "execute_result"
    }
   ],
   "source": [
    "autinsurance['fraud_reported'].value_counts(normalize=True)"
   ]
  },
  {
   "cell_type": "code",
   "execution_count": 15,
   "metadata": {},
   "outputs": [
    {
     "data": {
      "text/plain": [
       "DummyClassifier(strategy='most_frequent')"
      ]
     },
     "execution_count": 15,
     "metadata": {},
     "output_type": "execute_result"
    }
   ],
   "source": [
    "from sklearn.dummy import DummyClassifier\n",
    "\n",
    "dummy_baseline = DummyClassifier(strategy=\"most_frequent\")\n",
    "\n",
    "dummy_baseline.fit(test_features, test_target)\n"
   ]
  },
  {
   "cell_type": "markdown",
   "metadata": {},
   "source": [
    "Having applied the `fit` method to the training data, you can use the `predict` method to see how this estimator classifies the data. Unsurprisingly, it returns a vector of all `-1`s (because that is the majority class for this data)."
   ]
  },
  {
   "cell_type": "code",
   "execution_count": 16,
   "metadata": {},
   "outputs": [
    {
     "name": "stdout",
     "output_type": "stream",
     "text": [
      "[0 0 0 0 0 0 0 0 0 0 0 0 0 0 0 0 0 0 0 0 0 0 0 0 0 0 0 0 0 0 0 0 0 0 0 0 0\n",
      " 0 0 0 0 0 0 0 0 0 0 0 0 0 0 0 0 0 0 0 0 0 0 0 0 0 0 0 0 0 0 0 0 0 0 0 0 0\n",
      " 0 0 0 0 0 0 0 0 0 0 0 0 0 0 0 0 0 0 0 0 0 0 0 0 0 0 0 0 0 0 0 0 0 0 0 0 0\n",
      " 0 0 0 0 0 0 0 0 0 0 0 0 0 0 0 0 0 0 0 0 0 0 0 0 0 0 0 0 0 0 0 0 0 0 0 0 0\n",
      " 0 0 0 0 0 0 0 0 0 0 0 0 0 0 0 0 0 0 0 0 0 0 0 0 0 0 0 0 0 0 0 0 0 0 0 0 0\n",
      " 0 0 0 0 0 0 0 0 0 0 0 0 0 0 0]\n"
     ]
    }
   ],
   "source": [
    "test_target_pred = dummy_baseline.predict(test_features)\n",
    "print(test_target_pred)"
   ]
  },
  {
   "cell_type": "markdown",
   "metadata": {},
   "source": [
    "You can find the fraction of correct classifications using the method `score` with the test data:"
   ]
  },
  {
   "cell_type": "code",
   "execution_count": 17,
   "metadata": {},
   "outputs": [
    {
     "name": "stdout",
     "output_type": "stream",
     "text": [
      "The fraction of correct classifications is: 0.755\n"
     ]
    }
   ],
   "source": [
    "score = dummy_baseline.score(test_features, test_target)\n",
    "print('The fraction of correct classifications is: {:5.3f}'.format(score))"
   ]
  },
  {
   "cell_type": "markdown",
   "metadata": {},
   "source": [
    "Using `dummy.score` is equivalent to explicitly comparing the entries of `y_digits_pred` to `y_digits_test`, counting the number of correct classifications, and dividing by the number of classifications in total. "
   ]
  },
  {
   "cell_type": "markdown",
   "metadata": {},
   "source": [
    "For classification problems, a *confusion matrix* is a more detailed description of the accuracy of a classifier. It contains entries for the actual values as rows and predicted values as columns. This means we have:\n",
    "\n",
    "| $~$ | **predicted  (-1)** | **predicted (+1)** |\n",
    "| ---- | ----------- | ---------- |\n",
    "| **actual (-1)** |  true negative | false positive |\n",
    "| **actual (+1)** |  false negative | true positive |\n",
    "\n",
    "\n",
    "The preceding definition generalizes to the multi-class classification problems as well.\n",
    "In *Scikit-Learn*, the `confusion_matrix` function takes as arguments the actual labels followed by the predicted labels (labelled in ascending order according to the class labels). From the [documentation](https://scikit-learn.org/stable/modules/generated/sklearn.metrics.confusion_matrix.html):\n",
    "\n",
    "> `sklearn.metrics.confusion_matrix(y_true, y_pred, labels=None, sample_weight=None)`\n",
    ">\n",
    "> Compute confusion matrix to evaluate the accuracy of a classification\n",
    ">\n",
    "> By definition a confusion matrix $C$ is such that $C_{i,j}$ is equal to the number of observations known to be in group $i$ but predicted to be in group $j$.\n",
    ">\n",
    "> Thus in binary classification, the count of true negatives is $C_{0,0}$, false negatives is $C_{1,0}$, true positives is $C_{1,1}$, and false positives is $C_{0,1}$."
   ]
  },
  {
   "cell_type": "code",
   "execution_count": 18,
   "metadata": {},
   "outputs": [
    {
     "data": {
      "text/plain": [
       "array([[151,   0],\n",
       "       [ 49,   0]], dtype=int64)"
      ]
     },
     "execution_count": 18,
     "metadata": {},
     "output_type": "execute_result"
    }
   ],
   "source": [
    "# This is the long way of computing the accuracy score\n",
    "from sklearn.metrics import  confusion_matrix\n",
    "dummy_baselineCM = confusion_matrix(test_target,test_target_pred)\n",
    "dummy_baselineCM"
   ]
  },
  {
   "cell_type": "code",
   "execution_count": 19,
   "metadata": {},
   "outputs": [],
   "source": [
    "# from sklearn.linear_model import Perceptron\n",
    "\n",
    "# classifier = Perceptron() \n",
    "# classifier.fit(training_features, training_target)\n",
    "\n",
    "# accuracy = classifier.score(test_features, test_target) \n",
    "# print(\"Prediction Accuracy:{:.2f}%\".format(accuracy * 100))"
   ]
  },
  {
   "cell_type": "markdown",
   "metadata": {},
   "source": [
    "## Decision Tree Model"
   ]
  },
  {
   "cell_type": "markdown",
   "metadata": {},
   "source": [
    "### Building Model (Decision Tree)\n",
    "\n",
    "\n",
    "The decision tree classes have an optional hyperparameter `criterion` that has one of two values, **`gini`** and **`entropy`**. These refer to the quantitative measure that is used to compare putative splittings of the data.\n",
    "\n",
    "<a href=\"https://en.wikipedia.org/wiki/Entropy_(information_theory)\">**Entropy**</a>: *Information entropy* is the average rate at which information is produced by a stochastic source of data.\n",
    "\n",
    "The measure of information entropy associated with each possible data value is the negative logarithm of the probability mass function for the value:\n",
    "\n",
    "$$S = - \\sum_{i = 1}  p_i \\log{ p_i} $$\n",
    "\n",
    "-----\n",
    "\n",
    "[**Gini Impurity**](https://en.wikipedia.org/wiki/Decision_tree_learning#Gini_impurity): Used by the CART (classification and regression tree) algorithm for classification trees, *Gini impurity* is a measure of how often a randomly chosen element from the set would be incorrectly labeled if it were randomly labelled according to the distribution of labels in the subset. The Gini impurity can be computed by summing the probability ${\\displaystyle p_{i}}$ of an item with label ${\\displaystyle i}$ being chosen multiplied by the probability $\\displaystyle \\sum _{k\\neq i}p_{k}=1-p_{i}$  of a mistake in categorizing that item. It reaches its minimum (zero) when all cases in the node fall into a single target category.\n",
    "\n",
    "To compute Gini impurity for a set of items with $\\displaystyle J$, classes, suppose $\\displaystyle i\\in \\{1,2,...,J\\}$ and let $\\displaystyle p_{i} $ be the fraction of items labeled with class $\\displaystyle i$ in the set.\n",
    "\n",
    "$${\\displaystyle \\operatorname {I} _{G}(p)=\\sum _{i=1}^{J}p_{i}\\sum _{k\\neq i}p_{k}=\\sum _{i=1}^{J}p_{i}(1-p_{i})=\\sum _{i=1}^{J}(p_{i}-{p_{i}}^{2})=\\sum _{i=1}^{J}p_{i}-\\sum _{i=1}^{J}{p_{i}}^{2}=1-\\sum _{i=1}^{J}{p_{i}}^{2}}$$.\n"
   ]
  },
  {
   "cell_type": "code",
   "execution_count": 20,
   "metadata": {},
   "outputs": [],
   "source": [
    "from sklearn.tree import DecisionTreeClassifier"
   ]
  },
  {
   "cell_type": "code",
   "execution_count": 21,
   "metadata": {},
   "outputs": [],
   "source": [
    "DecisionTreeModel = DecisionTreeClassifier(criterion='entropy', random_state=45  , max_depth=4)\n",
    "\n",
    "#DecisionTreeModel"
   ]
  },
  {
   "cell_type": "code",
   "execution_count": 22,
   "metadata": {},
   "outputs": [
    {
     "name": "stdout",
     "output_type": "stream",
     "text": [
      "Wall time: 5.99 ms\n"
     ]
    },
    {
     "data": {
      "text/plain": [
       "DecisionTreeClassifier(criterion='entropy', max_depth=4, random_state=45)"
      ]
     },
     "execution_count": 22,
     "metadata": {},
     "output_type": "execute_result"
    }
   ],
   "source": [
    "%%time\n",
    "DecisionTreeModel.fit(training_features, training_target)  # Training input and its Target variables"
   ]
  },
  {
   "cell_type": "code",
   "execution_count": 23,
   "metadata": {},
   "outputs": [
    {
     "name": "stdout",
     "output_type": "stream",
     "text": [
      "Wall time: 3.99 ms\n"
     ]
    }
   ],
   "source": [
    "%%time\n",
    "DT_Pred = DecisionTreeModel.predict(test_features) # I already Know y_test  # 200 variables "
   ]
  },
  {
   "cell_type": "code",
   "execution_count": 24,
   "metadata": {},
   "outputs": [
    {
     "data": {
      "text/plain": [
       "array([0, 0, 1, 1, 1, 0, 1, 1, 1, 0, 1, 0, 0, 1, 0, 0, 0, 1, 0, 1, 0, 1,\n",
       "       1, 1, 0, 1, 1, 1, 0, 0, 0, 0, 0, 0, 0, 1, 1, 0, 1, 1, 0, 0, 0, 0,\n",
       "       0, 0, 0, 0, 0, 1, 1, 0, 1, 0, 0, 0, 0, 1, 0, 0, 1, 1, 0, 1, 1, 1,\n",
       "       0, 0, 1, 1, 0, 0, 0, 1, 0, 0, 0, 1, 0, 0, 1, 0, 0, 0, 1, 0, 1, 0,\n",
       "       1, 0, 0, 1, 0, 0, 1, 0, 0, 1, 1, 0, 0, 0, 0, 0, 0, 1, 0, 0, 0, 0,\n",
       "       0, 0, 0, 0, 0, 1, 0, 1, 1, 0, 1, 1, 0, 1, 0, 0, 0, 0, 0, 0, 0, 1,\n",
       "       0, 0, 0, 0, 1, 0, 0, 0, 1, 0, 0, 0, 0, 0, 0, 0, 0, 0, 0, 0, 0, 0,\n",
       "       0, 1, 0, 1, 1, 0, 0, 1, 0, 1, 0, 1, 0, 0, 0, 1, 0, 0, 0, 1, 0, 0,\n",
       "       1, 1, 0, 0, 0, 1, 0, 0, 0, 1, 0, 0, 1, 1, 1, 0, 1, 1, 0, 0, 0, 0,\n",
       "       0, 0], dtype=int64)"
      ]
     },
     "execution_count": 24,
     "metadata": {},
     "output_type": "execute_result"
    }
   ],
   "source": [
    "DT_Pred"
   ]
  },
  {
   "cell_type": "code",
   "execution_count": 25,
   "metadata": {},
   "outputs": [
    {
     "data": {
      "text/plain": [
       "726    0\n",
       "243    0\n",
       "342    1\n",
       "976    0\n",
       "919    1\n",
       "      ..\n",
       "458    0\n",
       "169    0\n",
       "297    0\n",
       "10     0\n",
       "212    0\n",
       "Name: fraud_reported, Length: 200, dtype: int64"
      ]
     },
     "execution_count": 25,
     "metadata": {},
     "output_type": "execute_result"
    }
   ],
   "source": [
    "test_target"
   ]
  },
  {
   "cell_type": "markdown",
   "metadata": {},
   "source": [
    "### Making the Confusion Matrix\n",
    "**Accuracy** is perhaps the most intuitive performance measure. It is simply the ratio of correctly predicted observations.  \n",
    "**Precision**: Precision looks at the ratio of correct positive observations   \n",
    "**Recall** : Recall is also known as sensitivity or true positive rate. It is the ratio of correctly predicted positive events   \n",
    "**F1 Score** : The F1 Score is the weighted average of Precision and recall. Therefore, this score takes both false postives and false negatives into account   "
   ]
  },
  {
   "cell_type": "code",
   "execution_count": 26,
   "metadata": {},
   "outputs": [],
   "source": [
    "# Confusion Matrix\n",
    "#from sklearn.model_selection import cross_val_score, cross_val_predict\n",
    "from sklearn.metrics import accuracy_score, classification_report, confusion_matrix"
   ]
  },
  {
   "cell_type": "code",
   "execution_count": 27,
   "metadata": {},
   "outputs": [
    {
     "data": {
      "text/plain": [
       "array([[126,  25],\n",
       "       [  6,  43]], dtype=int64)"
      ]
     },
     "execution_count": 27,
     "metadata": {},
     "output_type": "execute_result"
    }
   ],
   "source": [
    "# Confusion Matrix\n",
    "CMTD = confusion_matrix(test_target,DT_Pred) # Compare the predicted target varaible to the orginal target variable\n",
    "CMTD"
   ]
  },
  {
   "cell_type": "code",
   "execution_count": 28,
   "metadata": {},
   "outputs": [
    {
     "data": {
      "image/png": "[encoded data removed]",
      "text/plain": [
       "<Figure size 432x216 with 2 Axes>"
      ]
     },
     "metadata": {},
     "output_type": "display_data"
    }
   ],
   "source": [
    "target = 'fraud_reported'\n",
    "CMTD = pd.crosstab(test_target,DT_Pred, rownames=['Actual'], colnames=['Predicted'])\n",
    "fig, (ax1) = plt.subplots(ncols=1, figsize=(6,3))\n",
    "sns.heatmap(CMTD, \n",
    "            xticklabels=['Fraudulant', 'Legit'],\n",
    "            yticklabels=['Fraudulant', 'Legit'],\n",
    "            annot=True,ax=ax1,\n",
    "            linewidths=2,linecolor=\"Darkblue\", cmap=\"Blues\")\n",
    "plt.title('Confusion Matrix', fontsize=14)\n",
    "plt.show()"
   ]
  },
  {
   "cell_type": "code",
   "execution_count": 29,
   "metadata": {},
   "outputs": [
    {
     "data": {
      "text/plain": [
       "<AxesSubplot:xlabel='Predicted', ylabel='Actual'>"
      ]
     },
     "execution_count": 29,
     "metadata": {},
     "output_type": "execute_result"
    },
    {
     "data": {
      "image/png": "[encoded data removed]",
      "text/plain": [
       "<Figure size 432x288 with 2 Axes>"
      ]
     },
     "metadata": {},
     "output_type": "display_data"
    }
   ],
   "source": [
    "sns.heatmap(CMTD/np.sum(CMTD), annot=True, \n",
    "            fmt='.2%', cmap='Blues')"
   ]
  },
  {
   "cell_type": "code",
   "execution_count": 30,
   "metadata": {
    "scrolled": true
   },
   "outputs": [
    {
     "name": "stdout",
     "output_type": "stream",
     "text": [
      " Decision Tree Prediction Accuracy : 84.50%\n"
     ]
    }
   ],
   "source": [
    "# Accuracy Score\n",
    "ADT= accuracy_score(test_target, DT_Pred)\n",
    "\n",
    "print(\" Decision Tree Prediction Accuracy : {:.2f}%\".format(ADT * 100))\n",
    "# print()\n"
   ]
  },
  {
   "cell_type": "markdown",
   "metadata": {},
   "source": [
    "## Naive Bayes Model"
   ]
  },
  {
   "cell_type": "markdown",
   "metadata": {},
   "source": [
    "### Building Model ( Naive Bayes )\n",
    "\n",
    "<br id=\"sequence-preprocessing\">\n",
    "\n",
    "The Naive Bayes algorithm is a very simple algorithm for **classification**. We won't go into the theory behind it here, but the basic intuition is that it generates **probability distributions** for different classes based on your training data and categorizes new observations based on those distributions.\n",
    "* There are no hyperparameters to tune.\n",
    "* One of the assumptions for *Gaussian Naive Bayes* is that your features are **normally distributed**.\n",
    "* Therefore, applying the **Box-Cox transformation before Naive Bayes** tends to improve performance.\n",
    "* There's a great read [here](http://stackoverflow.com/questions/10059594/a-simple-explanation-of-naive-bayes-classification) that further breaks down the intuition behind Naive Bayes.\n",
    "\n",
    "Let's import the tools we'll need:"
   ]
  },
  {
   "cell_type": "code",
   "execution_count": 31,
   "metadata": {},
   "outputs": [
    {
     "data": {
      "text/plain": [
       "array([[ 1.60356745,  5.6862407 , -0.20742414, ...,  1.4832397 ,\n",
       "        -0.59852677, -0.24413654],\n",
       "       [-0.62360956, -0.17586311, -0.20742414, ...,  1.4832397 ,\n",
       "        -0.59852677,  4.09606858],\n",
       "       [-0.62360956, -0.17586311, -0.20742414, ..., -0.67419986,\n",
       "        -0.59852677, -0.24413654],\n",
       "       ...,\n",
       "       [-0.62360956, -0.17586311, -0.20742414, ..., -0.67419986,\n",
       "         1.67076904, -0.24413654],\n",
       "       [-0.62360956, -0.17586311, -0.20742414, ..., -0.67419986,\n",
       "        -0.59852677, -0.24413654],\n",
       "       [ 1.60356745, -0.17586311, -0.20742414, ..., -0.67419986,\n",
       "        -0.59852677, -0.24413654]])"
      ]
     },
     "execution_count": 31,
     "metadata": {},
     "output_type": "execute_result"
    }
   ],
   "source": [
    "# Feature Scaling\n",
    "from sklearn.preprocessing import StandardScaler\n",
    "\n",
    "sc = StandardScaler()\n",
    "\n",
    "training_features = sc.fit_transform(training_features)\n",
    "\n",
    "test_features = sc.transform(test_features)\n",
    "training_features\n",
    "\n",
    "# Min-Max scaler (slightly different than StandardScaler!)\n",
    "#from sklearn.preprocessing import MinMaxScaler"
   ]
  },
  {
   "cell_type": "code",
   "execution_count": null,
   "metadata": {},
   "outputs": [],
   "source": []
  },
  {
   "cell_type": "code",
   "execution_count": 32,
   "metadata": {},
   "outputs": [
    {
     "data": {
      "text/plain": [
       "GaussianNB()"
      ]
     },
     "execution_count": 32,
     "metadata": {},
     "output_type": "execute_result"
    }
   ],
   "source": [
    "# Fitting Naive Bayes to the Training set\n",
    "from sklearn.naive_bayes import GaussianNB\n",
    "\n",
    "NBModel = GaussianNB()\n",
    "\n",
    "NBModel.fit(training_features, training_target)"
   ]
  },
  {
   "cell_type": "code",
   "execution_count": 33,
   "metadata": {},
   "outputs": [
    {
     "name": "stdout",
     "output_type": "stream",
     "text": [
      "Wall time: 996 µs\n"
     ]
    }
   ],
   "source": [
    "%%time\n",
    "\n",
    "# Predicting the Test set results\n",
    "NB_pred = NBModel.predict(test_features)"
   ]
  },
  {
   "cell_type": "markdown",
   "metadata": {},
   "source": [
    "### NB Accuracy - Confusion Matrix"
   ]
  },
  {
   "cell_type": "code",
   "execution_count": 34,
   "metadata": {},
   "outputs": [
    {
     "data": {
      "text/plain": [
       "array([[137,  14],\n",
       "       [ 23,  26]], dtype=int64)"
      ]
     },
     "execution_count": 34,
     "metadata": {},
     "output_type": "execute_result"
    }
   ],
   "source": [
    "# Making the Confusion Matrix\n",
    "CMNB= confusion_matrix(test_target, NB_pred)\n",
    "CMNB"
   ]
  },
  {
   "cell_type": "code",
   "execution_count": 35,
   "metadata": {},
   "outputs": [
    {
     "data": {
      "image/png": "[encoded data removed]",
      "text/plain": [
       "<Figure size 360x216 with 2 Axes>"
      ]
     },
     "metadata": {},
     "output_type": "display_data"
    }
   ],
   "source": [
    "target = 'fraud_reported'\n",
    "CMTD = pd.crosstab(test_target,NB_pred, rownames=['Actual'], colnames=['Predicted'])\n",
    "fig, (ax1) = plt.subplots(ncols=1, figsize=(5,3))\n",
    "sns.heatmap(CMTD, \n",
    "            xticklabels=['Fraudulant', 'Legit'],\n",
    "            yticklabels=['Fraudulant', 'Legit'],\n",
    "            annot=True,ax=ax1,\n",
    "            linewidths=2,linecolor=\"Darkblue\", cmap=\"Blues\")\n",
    "plt.title('Confusion Matrix', fontsize=14)\n",
    "plt.show()"
   ]
  },
  {
   "cell_type": "code",
   "execution_count": 36,
   "metadata": {},
   "outputs": [
    {
     "data": {
      "text/plain": [
       "<AxesSubplot:>"
      ]
     },
     "execution_count": 36,
     "metadata": {},
     "output_type": "execute_result"
    },
    {
     "data": {
      "image/png": "[encoded data removed]",
      "text/plain": [
       "<Figure size 432x288 with 2 Axes>"
      ]
     },
     "metadata": {},
     "output_type": "display_data"
    }
   ],
   "source": [
    "sns.heatmap(CMNB/np.sum(CMNB), annot=True, \n",
    "            fmt='.2%', cmap='Blues')"
   ]
  },
  {
   "cell_type": "code",
   "execution_count": 37,
   "metadata": {},
   "outputs": [
    {
     "data": {
      "text/plain": [
       "<AxesSubplot:>"
      ]
     },
     "execution_count": 37,
     "metadata": {},
     "output_type": "execute_result"
    },
    {
     "data": {
      "image/png": "[encoded data removed]",
      "text/plain": [
       "<Figure size 432x288 with 2 Axes>"
      ]
     },
     "metadata": {},
     "output_type": "display_data"
    }
   ],
   "source": [
    "labels = ['True Neg','False Pos','False Neg','True Pos']\n",
    "labels = np.asarray(labels).reshape(2,2)\n",
    "sns.heatmap(CMNB, annot=labels, fmt='', cmap='Blues')"
   ]
  },
  {
   "cell_type": "code",
   "execution_count": 38,
   "metadata": {},
   "outputs": [
    {
     "name": "stdout",
     "output_type": "stream",
     "text": [
      " NB Prediction Accuracy : 81.50%\n"
     ]
    }
   ],
   "source": [
    "# Accuracy Score\n",
    "ACNB= accuracy_score(test_target, NB_pred)\n",
    "\n",
    "print(\" NB Prediction Accuracy : {:.2f}%\".format(ACNB * 100))\n",
    "# print()"
   ]
  },
  {
   "cell_type": "markdown",
   "metadata": {},
   "source": [
    "## Logistic Regression Model"
   ]
  },
  {
   "cell_type": "markdown",
   "metadata": {},
   "source": [
    "### Logistic Regression\n",
    "\n",
    "\n",
    "We move on now to estimators for classification problems that actually use the input data (unlike the `DummyClassifier`).  To begin, let's examine the [`LogisticRegression` estimator](https://scikit-learn.org/stable/modules/linear_model.html#logistic-regression). In order to determine a logistic regression model, a nonlinear system of equations needs to be solved iteratively; thus, when we instantiate the esitmator, we can specify the solver and the maximum number of iterations. For instance:\n",
    "\n",
    "```python\n",
    ">>> from sklearn.linear_model import LogisticRegression\n",
    ">>> clf = LogisticRegression(solver='newton-cg', max_iter=1000)\n",
    "```\n",
    "Don't worry about what these particular optional parameters mean; other choices exist, but we'll use these for now.\n",
    "\n",
    "As with other *Scikit-Learn*'s estimator classes, the `.fit` and `.predict` methods are used to construct the model and make predictions."
   ]
  },
  {
   "cell_type": "code",
   "execution_count": 39,
   "metadata": {},
   "outputs": [],
   "source": [
    "# Fitting Decision Tree Classification to the Training set\n",
    "from sklearn.linear_model import LogisticRegression  # Class\n"
   ]
  },
  {
   "cell_type": "code",
   "execution_count": 40,
   "metadata": {},
   "outputs": [],
   "source": [
    "# Create the model using LogisticRegression class\n",
    "LRModel = LogisticRegression(random_state = 45) # SEED. IN R\n",
    "\n",
    "#, solver='newton-cg', max_iter=1000"
   ]
  },
  {
   "cell_type": "code",
   "execution_count": 41,
   "metadata": {},
   "outputs": [
    {
     "data": {
      "text/plain": [
       "LogisticRegression(random_state=45)"
      ]
     },
     "execution_count": 41,
     "metadata": {},
     "output_type": "execute_result"
    }
   ],
   "source": [
    "# Fitting the Model\n",
    "LRModel.fit(training_features, training_target)"
   ]
  },
  {
   "cell_type": "code",
   "execution_count": 42,
   "metadata": {},
   "outputs": [
    {
     "name": "stdout",
     "output_type": "stream",
     "text": [
      "Wall time: 0 ns\n"
     ]
    }
   ],
   "source": [
    "%%time\n",
    "\n",
    "# Predicting the Test set results\n",
    "\n",
    "LR_pred =LRModel.predict(test_features)"
   ]
  },
  {
   "cell_type": "markdown",
   "metadata": {},
   "source": [
    "### Logistic Regression Accuracy - Confusion Matrix"
   ]
  },
  {
   "cell_type": "code",
   "execution_count": 43,
   "metadata": {},
   "outputs": [
    {
     "data": {
      "text/plain": [
       "array([[137,  14],\n",
       "       [ 16,  33]], dtype=int64)"
      ]
     },
     "execution_count": 43,
     "metadata": {},
     "output_type": "execute_result"
    }
   ],
   "source": [
    "# Making the Confusion Matrix\n",
    "CMLR= confusion_matrix(test_target, LR_pred)\n",
    "CMLR"
   ]
  },
  {
   "cell_type": "code",
   "execution_count": 44,
   "metadata": {},
   "outputs": [
    {
     "name": "stdout",
     "output_type": "stream",
     "text": [
      " LGR Prediction Accuracy : 85.00%\n"
     ]
    }
   ],
   "source": [
    "# Accuracy Score\n",
    "ACLR= accuracy_score(test_target, LR_pred )\n",
    "\n",
    "print(\" LGR Prediction Accuracy : {:.2f}%\".format(ACLR * 100))\n"
   ]
  },
  {
   "cell_type": "markdown",
   "metadata": {},
   "source": [
    "For classifications, we can also access the *probabilities* of correctness. That is, for a given observation (i.e., row of `X`), there is not only the class prediction (i.e., corresponding row of `y`), but there are associated *probabilities of that observation belonging to each class*. These probabilites are accessible by the method `predict_proba`; for each observation, this returns a row vector of nonnegative values that sum to 1 where the entry in column $k$ is the probability of belonging to class $k$. Thus, for this binary classification problem, after fitting a classifier (e.g., `LogisticRegression`) to the training data, the method `predict_proba` returns an $n_{\\text{test}}\\times2$ matrix of probabilities (where $n_{\\text{test}}$ is the number of observations in the testing set) whose rows all sum to one.\n",
    "\n",
    "Your task here is to  construct a function `prob_table` encapsulating the previous computations. It accepts the test data `X_test`, and `y_test`, followed by a classifier (e.g., `DummyClassifier`, `LogisticRegression`, etc.) as arguments. The classifier should already have been fit to data (e.g., `classifier.fit(X_train, y_train)` should already have been invoked). The result returned should be a DataFrame:\n",
    "\n",
    "\n",
    "\n",
    "|  $~$ | prob_0 | prob_1 | predicted_value | actual_value |\n",
    "| ---- | ----------- | ----------- | ------------------ | ------------ |\n",
    "| **0** |  $p_0$ | ($1-{}$ $p_0$) | $y^{\\text{pred}}_0$ | $y^{\\text{test}}_{0}$ |\n",
    "| **1** |  $p_1$ | ($1-{}$ $p_1$) | $y^{\\text{pred}}_1$ | $y^{\\text{test}}_{1}$ |\n",
    "| $\\vdots$ | $\\vdots$ | $\\vdots$ | $\\vdots$ | $\\vdots$ |\n",
    "\n"
   ]
  },
  {
   "cell_type": "markdown",
   "metadata": {},
   "source": [
    "## Support Vector Machine Model"
   ]
  },
  {
   "cell_type": "markdown",
   "metadata": {},
   "source": [
    "### SVM Model"
   ]
  },
  {
   "cell_type": "code",
   "execution_count": 45,
   "metadata": {},
   "outputs": [],
   "source": [
    "# Fitting SVM to the Training set\n",
    "from sklearn.svm import SVC  # SVR"
   ]
  },
  {
   "cell_type": "code",
   "execution_count": 46,
   "metadata": {},
   "outputs": [],
   "source": [
    "from sklearn.preprocessing import StandardScaler\n",
    "\n",
    "scaler = StandardScaler()\n",
    "scaler.fit(training_features)\n",
    "X_t_train = scaler.transform(training_features)\n",
    "X_t_test  = scaler.transform(test_features)"
   ]
  },
  {
   "cell_type": "code",
   "execution_count": 47,
   "metadata": {},
   "outputs": [],
   "source": [
    "SVMModel = SVC(kernel = 'linear', random_state = 45)# Linearily Separable "
   ]
  },
  {
   "cell_type": "code",
   "execution_count": 48,
   "metadata": {},
   "outputs": [
    {
     "data": {
      "text/plain": [
       "SVC(kernel='linear', random_state=45)"
      ]
     },
     "execution_count": 48,
     "metadata": {},
     "output_type": "execute_result"
    }
   ],
   "source": [
    "SVMModel.fit(training_features, training_target)"
   ]
  },
  {
   "cell_type": "code",
   "execution_count": 49,
   "metadata": {},
   "outputs": [
    {
     "name": "stdout",
     "output_type": "stream",
     "text": [
      "Wall time: 1.99 ms\n"
     ]
    }
   ],
   "source": [
    "%%time\n",
    "\n",
    "# Predicting the Test set results\n",
    "SVM_pred = SVMModel.predict(test_features)"
   ]
  },
  {
   "cell_type": "markdown",
   "metadata": {},
   "source": [
    "### SVM Accuracy - Confusion Matrix"
   ]
  },
  {
   "cell_type": "code",
   "execution_count": 50,
   "metadata": {},
   "outputs": [
    {
     "data": {
      "text/plain": [
       "array([[130,  21],\n",
       "       [ 14,  35]], dtype=int64)"
      ]
     },
     "execution_count": 50,
     "metadata": {},
     "output_type": "execute_result"
    }
   ],
   "source": [
    "# Making the Confusion Matrix\n",
    "CMSVM= confusion_matrix(test_target, SVM_pred)\n",
    "CMSVM"
   ]
  },
  {
   "cell_type": "code",
   "execution_count": 51,
   "metadata": {},
   "outputs": [
    {
     "name": "stdout",
     "output_type": "stream",
     "text": [
      " SVM Prediction Accuracy : 82.50%\n"
     ]
    }
   ],
   "source": [
    "# Accuracy Score\n",
    "ACSVM= accuracy_score(test_target, SVM_pred )\n",
    "\n",
    "print(\" SVM Prediction Accuracy : {:.2f}%\".format(ACSVM * 100))\n"
   ]
  },
  {
   "cell_type": "markdown",
   "metadata": {},
   "source": [
    "## Kernel Support Vector Machine Model"
   ]
  },
  {
   "cell_type": "markdown",
   "metadata": {},
   "source": [
    "### Kernel SVM Model"
   ]
  },
  {
   "cell_type": "code",
   "execution_count": 52,
   "metadata": {},
   "outputs": [
    {
     "data": {
      "text/plain": [
       "SVC(random_state=0)"
      ]
     },
     "execution_count": 52,
     "metadata": {},
     "output_type": "execute_result"
    }
   ],
   "source": [
    "# Fitting Kernel SVM to the Training set\n",
    "from sklearn.svm import SVC\n",
    "KSVMModel = SVC(kernel = 'rbf', random_state = 0)\n",
    "KSVMModel.fit(training_features, training_target)"
   ]
  },
  {
   "cell_type": "code",
   "execution_count": 53,
   "metadata": {},
   "outputs": [
    {
     "name": "stdout",
     "output_type": "stream",
     "text": [
      "Wall time: 5.98 ms\n"
     ]
    }
   ],
   "source": [
    "%%time\n",
    "\n",
    "# Predicting the Test set results\n",
    "KSVM_pred = KSVMModel.predict(test_features)"
   ]
  },
  {
   "cell_type": "markdown",
   "metadata": {},
   "source": [
    "### Kernel SVM Accuracy - Confusion Matrix"
   ]
  },
  {
   "cell_type": "code",
   "execution_count": 54,
   "metadata": {},
   "outputs": [
    {
     "data": {
      "text/plain": [
       "array([[140,  11],\n",
       "       [ 22,  27]], dtype=int64)"
      ]
     },
     "execution_count": 54,
     "metadata": {},
     "output_type": "execute_result"
    }
   ],
   "source": [
    "# Making the Confusion Matrix\n",
    "CMKSVM = confusion_matrix(test_target, KSVM_pred)\n",
    "CMKSVM"
   ]
  },
  {
   "cell_type": "code",
   "execution_count": 55,
   "metadata": {},
   "outputs": [
    {
     "name": "stdout",
     "output_type": "stream",
     "text": [
      "0.835\n"
     ]
    }
   ],
   "source": [
    "# Accuracy Score\n",
    "ACKSVM= accuracy_score(test_target, KSVM_pred)\n",
    "print(ACKSVM)"
   ]
  },
  {
   "cell_type": "markdown",
   "metadata": {},
   "source": [
    "[Back to top](#Project-Guide)\n",
    "<a id=\"IV\"></a>"
   ]
  },
  {
   "cell_type": "markdown",
   "metadata": {},
   "source": [
    "### Emssemble Methods - Random Forest"
   ]
  },
  {
   "cell_type": "code",
   "execution_count": 57,
   "metadata": {},
   "outputs": [
    {
     "data": {
      "text/plain": [
       "RandomForestClassifier(max_features=7, n_estimators=80, oob_score=True,\n",
       "                       random_state=42)"
      ]
     },
     "execution_count": 57,
     "metadata": {},
     "output_type": "execute_result"
    }
   ],
   "source": [
    "# Fitting Decision Tree Classification to the Training set\n",
    "from sklearn.ensemble import RandomForestClassifier\n",
    "RFModel = RandomForestClassifier( n_estimators=80, max_features=7, oob_score= True, random_state= 42)\n",
    "\n",
    "RFModel.fit(training_features, training_target)\n"
   ]
  },
  {
   "cell_type": "code",
   "execution_count": 58,
   "metadata": {},
   "outputs": [],
   "source": [
    "# Predicting the Test set results\n",
    "RF_pred = RFModel.predict(test_features)"
   ]
  },
  {
   "cell_type": "markdown",
   "metadata": {},
   "source": [
    "### Random Forest Accuracy - Confusion Matrix"
   ]
  },
  {
   "cell_type": "code",
   "execution_count": 59,
   "metadata": {},
   "outputs": [
    {
     "data": {
      "text/plain": [
       "array([[131,  20],\n",
       "       [ 14,  35]], dtype=int64)"
      ]
     },
     "execution_count": 59,
     "metadata": {},
     "output_type": "execute_result"
    }
   ],
   "source": [
    "# Making the Confusion Matrix\n",
    "CMRF= confusion_matrix(test_target, RF_pred)\n",
    "CMRF"
   ]
  },
  {
   "cell_type": "code",
   "execution_count": 60,
   "metadata": {},
   "outputs": [
    {
     "name": "stdout",
     "output_type": "stream",
     "text": [
      "0.83\n"
     ]
    }
   ],
   "source": [
    "# Accuracy Score\n",
    "ACRF= accuracy_score(test_target, RF_pred )\n",
    "print(ACRF)"
   ]
  },
  {
   "cell_type": "markdown",
   "metadata": {},
   "source": [
    "<a id = \"oob\"></a>\n",
    "### 11.3.  Out-of-Bag Evaluation\n",
    "\n",
    "Through the process of bootstrap sampling, some instances can be sampled multiple times, while other instances are left out of the sample altogether. The samples that are left out of the bootstrap sample are known as \"out-of_bag\" (oob) samples. Since these observations are not used during the training of a particular base learner, the oob instances can be used as testing samples. This eliminates the need to withhold data from training for the purpose of evaluation.\n",
    "\n",
    "Ensemble models in `scikit-learn` contain a parameter in the model constructors called `oob_score`. Setting `oob_score=True` will enable this implementation. After fitting the model, the evaluation results can be found in the attribute `.oob_score_`."
   ]
  },
  {
   "cell_type": "code",
   "execution_count": 61,
   "metadata": {},
   "outputs": [
    {
     "name": "stdout",
     "output_type": "stream",
     "text": [
      "Training Accuracy:\t\t 0.83\n",
      "Validation Accuracy(OOB Score):\t 0.8225\n",
      "Testing Accuracy:\t\t 0.83\n",
      "Accuracy Difference:\t\t -0.007499999999999951\n"
     ]
    }
   ],
   "source": [
    "RFModel.fit(training_features, training_target)\n",
    "print('Training Accuracy:\\t\\t',ACRF)\n",
    "print('Validation Accuracy(OOB Score):\\t',RFModel.oob_score_)\n",
    "print('Testing Accuracy:\\t\\t',RFModel.score(test_features , test_target))\n",
    "print('Accuracy Difference:\\t\\t', RFModel.oob_score_ - RFModel.score(test_features , test_target))\n",
    "#round(RFModel2.abs(ans6b - ans6c),4)"
   ]
  },
  {
   "cell_type": "markdown",
   "metadata": {},
   "source": [
    "### 12. Models Compared"
   ]
  },
  {
   "cell_type": "code",
   "execution_count": 62,
   "metadata": {
    "scrolled": true
   },
   "outputs": [
    {
     "name": "stdout",
     "output_type": "stream",
     "text": [
      " Random Prediction on frequency                         : 75.50%\n",
      " Decision Tree Prediction Accuracy                      : 84.50%\n",
      " Random Forest Prediction Accuracy                      : 83.00%\n",
      " Naive Byes Prediction Accuracy                         : 81.50%\n",
      " Logistic Regression Prediction Accuracy                : 85.00%\n",
      " Support Vector Machine Prediction Accuracy             : 82.50%\n",
      " K-Support Vector Machine Prediction Accuracy           : 83.50%\n"
     ]
    }
   ],
   "source": [
    "# Accuracy Score\n",
    "print(\" Random Prediction on frequency                         : {:.2f}%\".format(score   * 100))\n",
    "print(\" Decision Tree Prediction Accuracy                      : {:.2f}%\".format(ADT     * 100))\n",
    "print(\" Random Forest Prediction Accuracy                      : {:.2f}%\".format(ACRF    * 100))\n",
    "print(\" Naive Byes Prediction Accuracy                         : {:.2f}%\".format(ACNB    *   100))\n",
    "print(\" Logistic Regression Prediction Accuracy                : {:.2f}%\".format(ACLR    *   100))\n",
    "print(\" Support Vector Machine Prediction Accuracy             : {:.2f}%\".format(ACSVM   *   100))\n",
    "print(\" K-Support Vector Machine Prediction Accuracy           : {:.2f}%\".format(ACKSVM  *   100))\n",
    "\n"
   ]
  }
 ],
 "metadata": {
  "kernelspec": {
   "display_name": "Python 3",
   "language": "python",
   "name": "python3"
  },
  "language_info": {
   "codemirror_mode": {
    "name": "ipython",
    "version": 3
   },
   "file_extension": ".py",
   "mimetype": "text/x-python",
   "name": "python",
   "nbconvert_exporter": "python",
   "pygments_lexer": "ipython3",
   "version": "3.7.3"
  },
  "toc": {
   "base_numbering": 1,
   "nav_menu": {},
   "number_sections": true,
   "sideBar": true,
   "skip_h1_title": false,
   "title_cell": "Table of Contents",
   "title_sidebar": "Contents",
   "toc_cell": false,
   "toc_position": {},
   "toc_section_display": true,
   "toc_window_display": false
  }
 },
 "nbformat": 4,
 "nbformat_minor": 2
}
