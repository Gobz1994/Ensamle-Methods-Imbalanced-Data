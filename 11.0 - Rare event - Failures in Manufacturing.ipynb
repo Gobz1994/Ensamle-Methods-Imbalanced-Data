{
 "cells": [
  {
   "cell_type": "markdown",
   "metadata": {},
   "source": [
    "<img src= 'http://www.bigbang-datascience.com/wp-content/uploads/2017/09/cropped-Logo-01.jpg' width=500/>"
   ]
  },
  {
   "cell_type": "markdown",
   "metadata": {
    "_cell_guid": "7c102692-5b43-4f97-8394-f36ed52dbb23",
    "_uuid": "9fa43627b6ebc212b8d2aebae60ef6ef16fcc76a"
   },
   "source": [
    "# Underlying Statistical Process"
   ]
  },
  {
   "cell_type": "markdown",
   "metadata": {},
   "source": [
    "### Problem definition\n",
    "\n",
    "Rare event problems demand an early detection or prediction to prevent the event or minimize its impact.  \n",
    "\n",
    "In literature, detection and prediction are considered as different problems. However, in the problems discussed here, early detection eventually becomes a prediction. For example, early detection of a condition that would lead to a sheet-break is essentially predicting an imminent sheet-break. This can, therefore, be formulated as a **“prediction”** problem."
   ]
  },
  {
   "cell_type": "markdown",
   "metadata": {},
   "source": [
    "First, the statistical process behind a rare event problem is understood.\n",
    "This helps in selecting an appropriate approach\n",
    "\n",
    "The process and data commonalities in the rare event examples in are  \n",
    ">\u000f time series,  \n",
    ">\u000f multivariate, and  \n",
    ">\u000f imbalanced binary labels.  \n",
    "    \n",
    "Consider our working example of a sheet-break problem. It is from a continuous paper manufacturing process that generates a data stream.This makes the underlying process a stochastic time series.  \n",
    "\n",
    "Additionally, this is a multivariate data streamed from multiple sensors placed in different parts of the machine. These sensors collect the process variables, such as temperature, pressure, chemical dose, etc.  \n",
    "\n",
    "Thus, at any time t, a vector of observations xt is recorded. Here, xt is a vector of length equal to the number of sensors and xit the reading of the i-th sensor at time t. Such a process is known as a multivariate time series.\n",
    "\n",
    ">Putting them together, we have an imbalanced multivariate stochastic time series process."
   ]
  },
  {
   "cell_type": "markdown",
   "metadata": {},
   "source": [
    "### Challenges\n",
    "The step after formulating a problem is to identify the modeling challenges. Challenges, if identified, enable a better modeling direction. It\n",
    "tells a practitioner the issues to address during the modeling.  \n",
    "\n",
    "A few acute challenges posed by a rare event problem are,\n",
    ">\u000f high-dimensional multivariate time series process,  \n",
    ">\u000f early prediction, and  \n",
    ">\u000f imbalanced data."
   ]
  },
  {
   "cell_type": "markdown",
   "metadata": {},
   "source": [
    "<details>\n",
    "<summary>\n",
    "Roadmap for Building Machine Learning Models\n",
    "</summary>\n",
    "<p>\n",
    "\n",
    "\n",
    "    1. Prepare Problem  \n",
    "    a) Define The Business Objective  \n",
    "    b) Select the datasets  \n",
    "    c) Load dataset  \n",
    "    d) Load libraries  \n",
    "\n",
    "\n",
    "**Data Pre-processing**  \n",
    "This is the first step in building a machine learning model. Data pre-processing refers to the transformation of data\n",
    "before feeding it into the model. It deals with the techniques that are used to convert unusable raw data into clean \n",
    "reliable data.  \n",
    "  \n",
    "Since data collection is often not performed in a controlled manner, raw data often contains outliers \n",
    "(for example, age = 120), nonsensical data combinations (for example, model: bicycle, type: 4-wheeler), missing values, \n",
    "scale problems, and so on. Because of this, raw data cannot be fed into a machine learning model because it might \n",
    "compromise the quality of the results. As such, this is the most important step in the process of data science.  \n",
    "  \n",
    "\n",
    "    2. Summarize Data  \n",
    "    a) Descriptive statistics  \n",
    "    b) Data visualizations  \n",
    "\n",
    "    3. Prepare Data  \n",
    "    a) Data Cleaning  \n",
    "    b) Feature Selection  \n",
    "    c) Data Transformation  \n",
    "\n",
    "**Model Learning**  \n",
    "After pre-processing the data and splitting it into train/test sets (more on this later), we move on to modeling. Models \n",
    "are nothing but sets of well-defined methods called algorithms that use pre-processed data to learn patterns, which can \n",
    "later be used to make predictions. There are different types of learning algorithms, including supervised, semi-supervised, \n",
    "unsupervised, and reinforcement learning. These will be discussed later.\n",
    "  \n",
    "    4. Modeling Strategy  \n",
    "    a) Select Suitable Algorithms  \n",
    "    b) Select Training/Testing Approaches  \n",
    "    c) Train   \n",
    "  \n",
    "  \n",
    "**Model Evaluation**  \n",
    "In this stage, the models are evaluated with the help of specific performance metrics. With these metrics, we can go on to \n",
    "tune the hyperparameters of a model in order to improve it. This process is called hyperparameter optimization. We will \n",
    "repeat this step until we are satisfied with the performance.  \n",
    "  \n",
    "    4. Evaluate Algorithms  \n",
    "    a) Split-out validation dataset  \n",
    "    b) Test options and evaluation metric  \n",
    "    c) Spot Check Algorithms  \n",
    "    d) Compare Algorithms  \n",
    "  \n",
    "**Prediction**  \n",
    "Once we are happy with the results from the evaluation step, we will then move on to predictions. Predictions are made \n",
    "by the trained model when it is exposed to a new dataset. In a business setting, these predictions can be shared with \n",
    "decision makers to make effective business choices.  \n",
    "  \n",
    "    5. Improve Accuracy  \n",
    "    a) Algorithm Tuning  \n",
    "    b) Ensembles  \n",
    "\n",
    "**Model Deployment**  \n",
    "The whole process of machine learning does not just stop with model building and prediction. It also involves making use \n",
    "of the model to build an application with the new data. Depending on the business requirements, the deployment may be a \n",
    "report, or it may be some repetitive data science steps that are to be executed. After deployment, a model needs proper \n",
    "management and maintenance at regular intervals to keep it up and running.  \n",
    "\n",
    "    6. Finalize Model  \n",
    "    a) Predictions on validation dataset  \n",
    "    b) Create standalone model on entire training dataset  \n",
    "    c) Save model for later use  \n",
    "\n",
    "\n",
    "</p>\n",
    "</details>"
   ]
  },
  {
   "cell_type": "markdown",
   "metadata": {},
   "source": [
    "<a id=\"I\"></a>\n",
    "\n",
    "# Sheet Break Problem Dataset\n",
    "\n",
    "An anonymized data from the paper manufacturing plant for sheet break. It contains data at two minutes frequency with the time information present in the DateTime column. The system’s status with regards to normal versus break is present in the SheetBreak column with the corresponding values as 0 and 1.   \n",
    "\n",
    "These remaining columns include timestamped measurements for the predictors. The predictors include raw materials, such as the amount of pulp fiber, chemicals, etc., and the process variables, such as blade type, couch vacuum, rotor speed, etc."
   ]
  },
  {
   "cell_type": "code",
   "execution_count": 1,
   "metadata": {},
   "outputs": [],
   "source": [
    "# Importing the libraries\n",
    "import numpy as np\n",
    "import matplotlib.pyplot as plt\n",
    "import pandas as pd\n",
    "\n",
    "import seaborn as sns\n",
    "sns.set()  #  Will import Seaborn functionalities\n",
    "# we don't like warnings\n",
    "# you can comment the following 2 lines if you'd like to\n",
    "import warnings\n",
    "warnings.filterwarnings('ignore')"
   ]
  },
  {
   "cell_type": "code",
   "execution_count": 2,
   "metadata": {},
   "outputs": [],
   "source": [
    "# Import Classifiers packages\n",
    "\n",
    "from sklearn.tree import DecisionTreeClassifier\n",
    "from sklearn.neighbors import KNeighborsClassifier\n",
    "from sklearn.naive_bayes import GaussianNB\n",
    "from sklearn.linear_model import LogisticRegression  # Class\n",
    "from sklearn.svm import SVC\n",
    "from sklearn.ensemble import RandomForestClassifier\n",
    "from sklearn.ensemble import BaggingClassifier\n",
    "from sklearn import tree\n",
    "from sklearn.ensemble import AdaBoostClassifier #For Classification\n",
    "from sklearn.ensemble import ExtraTreesClassifier\n",
    "from sklearn.linear_model import RidgeClassifier\n",
    "from sklearn.ensemble import GradientBoostingClassifier\n",
    "from sklearn.discriminant_analysis import LinearDiscriminantAnalysis"
   ]
  },
  {
   "cell_type": "code",
   "execution_count": 3,
   "metadata": {},
   "outputs": [],
   "source": [
    "# Disply all Columns\n",
    "pd.options.display.max_columns=70"
   ]
  },
  {
   "cell_type": "code",
   "execution_count": 4,
   "metadata": {},
   "outputs": [
    {
     "data": {
      "text/html": [
       "<div>\n",
       "<style scoped>\n",
       "    .dataframe tbody tr th:only-of-type {\n",
       "        vertical-align: middle;\n",
       "    }\n",
       "\n",
       "    .dataframe tbody tr th {\n",
       "        vertical-align: top;\n",
       "    }\n",
       "\n",
       "    .dataframe thead th {\n",
       "        text-align: right;\n",
       "    }\n",
       "</style>\n",
       "<table border=\"1\" class=\"dataframe\">\n",
       "  <thead>\n",
       "    <tr style=\"text-align: right;\">\n",
       "      <th></th>\n",
       "      <th>DateTime</th>\n",
       "      <th>SheetBreak</th>\n",
       "      <th>RSashScanAvg</th>\n",
       "      <th>CT#1 BLADE PSI</th>\n",
       "      <th>P4 CT#2 BLADE PSI</th>\n",
       "      <th>Bleached GWD Flow</th>\n",
       "      <th>ShwerTemp</th>\n",
       "      <th>BlndStckFloTPD</th>\n",
       "      <th>C1 BW SPREAD CD</th>\n",
       "      <th>RS BW SPREAD CD</th>\n",
       "      <th>C1 BW SPREAD MD</th>\n",
       "      <th>RS BW SPREAD MD</th>\n",
       "      <th>C1 BW SCAN AVG</th>\n",
       "      <th>RS BW SCAN AVG</th>\n",
       "      <th>CoatBrkFlo</th>\n",
       "      <th>Clay Flow</th>\n",
       "      <th>CouchLoVac</th>\n",
       "      <th>COUCH VAC</th>\n",
       "      <th>4PrsTopLd</th>\n",
       "      <th>4PrsBotLod</th>\n",
       "      <th>CalndrDrw</th>\n",
       "      <th>2DryrDrw</th>\n",
       "      <th>3DryrDrw</th>\n",
       "      <th>4DryrDraw</th>\n",
       "      <th>1PrsTopDrw</th>\n",
       "      <th>4PrsBotDrw</th>\n",
       "      <th>FanPmpSpd</th>\n",
       "      <th>FlBxHdrVac</th>\n",
       "      <th>FlatBxVac</th>\n",
       "      <th>Grade&amp;Bwt</th>\n",
       "      <th>UnblGWDFlo</th>\n",
       "      <th>Hdbox pH</th>\n",
       "      <th>HdBxLiqLvl</th>\n",
       "      <th>TotHead\"</th>\n",
       "      <th>HorzSlcPos</th>\n",
       "      <th>KraftFlow</th>\n",
       "      <th>CouchLoad</th>\n",
       "      <th>C1MoSprdCD</th>\n",
       "      <th>RSMoSprdCD</th>\n",
       "      <th>C1MoSprdMD</th>\n",
       "      <th>RSMoSprdMD</th>\n",
       "      <th>RL MoisAct</th>\n",
       "      <th>PrScrRjFlo</th>\n",
       "      <th>RwBrkFlo</th>\n",
       "      <th>RcycFbrFlo</th>\n",
       "      <th>RetnAidFlo</th>\n",
       "      <th>RUSH DRAG</th>\n",
       "      <th>Rush/Drag</th>\n",
       "      <th>SilicaFlo</th>\n",
       "      <th>HBxSlcTemp</th>\n",
       "      <th>SodAlumFlo</th>\n",
       "      <th>CouchSpd</th>\n",
       "      <th>MachSpd</th>\n",
       "      <th>1PrsTopSpd</th>\n",
       "      <th>4PrsBotSpd</th>\n",
       "      <th>WtNStarFlo</th>\n",
       "      <th>BasWgtFlo</th>\n",
       "      <th>TMP Flow</th>\n",
       "      <th>HBxTotHead</th>\n",
       "      <th>TrayCons</th>\n",
       "      <th>UpprHdTmpRL</th>\n",
       "      <th>VertSlcPos</th>\n",
       "      <th>EventPress</th>\n",
       "    </tr>\n",
       "  </thead>\n",
       "  <tbody>\n",
       "    <tr>\n",
       "      <th>0</th>\n",
       "      <td>5/1/99 0:00</td>\n",
       "      <td>0</td>\n",
       "      <td>0.376665</td>\n",
       "      <td>-4.596435</td>\n",
       "      <td>-4.095756</td>\n",
       "      <td>13.497687</td>\n",
       "      <td>-0.118830</td>\n",
       "      <td>-20.669883</td>\n",
       "      <td>0.000732</td>\n",
       "      <td>-0.061114</td>\n",
       "      <td>-0.059966</td>\n",
       "      <td>-0.038189</td>\n",
       "      <td>0.877951</td>\n",
       "      <td>-0.052959</td>\n",
       "      <td>-13.306135</td>\n",
       "      <td>0.101068</td>\n",
       "      <td>0.041800</td>\n",
       "      <td>0.199901</td>\n",
       "      <td>-2.327329</td>\n",
       "      <td>-0.944167</td>\n",
       "      <td>3.075199</td>\n",
       "      <td>0.123154</td>\n",
       "      <td>-0.104334</td>\n",
       "      <td>-0.570710</td>\n",
       "      <td>-9.784456</td>\n",
       "      <td>0.355960</td>\n",
       "      <td>15.842819</td>\n",
       "      <td>-0.451974</td>\n",
       "      <td>-0.105282</td>\n",
       "      <td>96</td>\n",
       "      <td>-134.277862</td>\n",
       "      <td>0.058726</td>\n",
       "      <td>-0.021645</td>\n",
       "      <td>9.366755</td>\n",
       "      <td>0.002151</td>\n",
       "      <td>-69.187583</td>\n",
       "      <td>4.232571</td>\n",
       "      <td>-0.225267</td>\n",
       "      <td>-0.196872</td>\n",
       "      <td>-0.072449</td>\n",
       "      <td>-0.103732</td>\n",
       "      <td>-0.720746</td>\n",
       "      <td>-5.412436</td>\n",
       "      <td>76.679042</td>\n",
       "      <td>-0.632727</td>\n",
       "      <td>1351.632859</td>\n",
       "      <td>-0.657095</td>\n",
       "      <td>-0.434947</td>\n",
       "      <td>-108.775969</td>\n",
       "      <td>0.084856</td>\n",
       "      <td>10.210182</td>\n",
       "      <td>11.295155</td>\n",
       "      <td>29.984624</td>\n",
       "      <td>10.091721</td>\n",
       "      <td>0.053279</td>\n",
       "      <td>-4.936434</td>\n",
       "      <td>-24.590146</td>\n",
       "      <td>18.515436</td>\n",
       "      <td>3.473400</td>\n",
       "      <td>0.033444</td>\n",
       "      <td>0.953219</td>\n",
       "      <td>0.006076</td>\n",
       "      <td>0</td>\n",
       "    </tr>\n",
       "    <tr>\n",
       "      <th>1</th>\n",
       "      <td>5/1/99 0:02</td>\n",
       "      <td>0</td>\n",
       "      <td>0.475720</td>\n",
       "      <td>-4.542502</td>\n",
       "      <td>-4.018359</td>\n",
       "      <td>16.230658</td>\n",
       "      <td>-0.128733</td>\n",
       "      <td>-18.758079</td>\n",
       "      <td>0.000732</td>\n",
       "      <td>-0.061114</td>\n",
       "      <td>-0.059966</td>\n",
       "      <td>-0.038189</td>\n",
       "      <td>0.873273</td>\n",
       "      <td>-0.014244</td>\n",
       "      <td>-13.306135</td>\n",
       "      <td>0.101108</td>\n",
       "      <td>0.041447</td>\n",
       "      <td>0.304313</td>\n",
       "      <td>-2.340627</td>\n",
       "      <td>-0.939994</td>\n",
       "      <td>3.075199</td>\n",
       "      <td>0.123154</td>\n",
       "      <td>-0.104334</td>\n",
       "      <td>-0.574861</td>\n",
       "      <td>-9.784456</td>\n",
       "      <td>0.360160</td>\n",
       "      <td>16.491684</td>\n",
       "      <td>-0.450451</td>\n",
       "      <td>-0.092430</td>\n",
       "      <td>96</td>\n",
       "      <td>-134.480194</td>\n",
       "      <td>0.058759</td>\n",
       "      <td>-0.004579</td>\n",
       "      <td>9.350215</td>\n",
       "      <td>0.002149</td>\n",
       "      <td>-68.585197</td>\n",
       "      <td>4.311490</td>\n",
       "      <td>-0.225267</td>\n",
       "      <td>-0.196872</td>\n",
       "      <td>-0.059103</td>\n",
       "      <td>-0.083895</td>\n",
       "      <td>-0.720746</td>\n",
       "      <td>-8.343222</td>\n",
       "      <td>78.181598</td>\n",
       "      <td>-0.632727</td>\n",
       "      <td>1370.378949</td>\n",
       "      <td>-0.875628</td>\n",
       "      <td>-1.125819</td>\n",
       "      <td>-108.848967</td>\n",
       "      <td>0.085146</td>\n",
       "      <td>12.534340</td>\n",
       "      <td>11.290761</td>\n",
       "      <td>29.984624</td>\n",
       "      <td>10.095871</td>\n",
       "      <td>0.062801</td>\n",
       "      <td>-4.937179</td>\n",
       "      <td>-32.413266</td>\n",
       "      <td>22.760065</td>\n",
       "      <td>2.682933</td>\n",
       "      <td>0.033536</td>\n",
       "      <td>1.090502</td>\n",
       "      <td>0.006083</td>\n",
       "      <td>0</td>\n",
       "    </tr>\n",
       "    <tr>\n",
       "      <th>2</th>\n",
       "      <td>5/1/99 0:04</td>\n",
       "      <td>0</td>\n",
       "      <td>0.363848</td>\n",
       "      <td>-4.681394</td>\n",
       "      <td>-4.353147</td>\n",
       "      <td>14.127997</td>\n",
       "      <td>-0.138636</td>\n",
       "      <td>-17.836632</td>\n",
       "      <td>0.010803</td>\n",
       "      <td>-0.061114</td>\n",
       "      <td>-0.030057</td>\n",
       "      <td>-0.018352</td>\n",
       "      <td>1.004910</td>\n",
       "      <td>0.065150</td>\n",
       "      <td>-9.619596</td>\n",
       "      <td>0.101148</td>\n",
       "      <td>0.041095</td>\n",
       "      <td>0.252839</td>\n",
       "      <td>-2.353925</td>\n",
       "      <td>-0.935824</td>\n",
       "      <td>3.075199</td>\n",
       "      <td>0.123154</td>\n",
       "      <td>-0.104334</td>\n",
       "      <td>-0.579013</td>\n",
       "      <td>-9.784456</td>\n",
       "      <td>0.364356</td>\n",
       "      <td>15.972885</td>\n",
       "      <td>-0.448927</td>\n",
       "      <td>-0.097144</td>\n",
       "      <td>96</td>\n",
       "      <td>-133.946587</td>\n",
       "      <td>0.058791</td>\n",
       "      <td>-0.084658</td>\n",
       "      <td>9.037409</td>\n",
       "      <td>0.002148</td>\n",
       "      <td>-67.838187</td>\n",
       "      <td>4.809914</td>\n",
       "      <td>-0.225267</td>\n",
       "      <td>-0.186801</td>\n",
       "      <td>-0.048696</td>\n",
       "      <td>-0.073823</td>\n",
       "      <td>-0.720746</td>\n",
       "      <td>-1.085166</td>\n",
       "      <td>79.684154</td>\n",
       "      <td>-0.632727</td>\n",
       "      <td>1368.123089</td>\n",
       "      <td>-0.037775</td>\n",
       "      <td>-0.519541</td>\n",
       "      <td>-109.086577</td>\n",
       "      <td>0.085436</td>\n",
       "      <td>18.582893</td>\n",
       "      <td>11.286366</td>\n",
       "      <td>29.984624</td>\n",
       "      <td>10.100265</td>\n",
       "      <td>0.072322</td>\n",
       "      <td>-4.937924</td>\n",
       "      <td>-34.183774</td>\n",
       "      <td>27.004663</td>\n",
       "      <td>3.537487</td>\n",
       "      <td>0.033629</td>\n",
       "      <td>1.840540</td>\n",
       "      <td>0.006090</td>\n",
       "      <td>0</td>\n",
       "    </tr>\n",
       "    <tr>\n",
       "      <th>3</th>\n",
       "      <td>5/1/99 0:06</td>\n",
       "      <td>0</td>\n",
       "      <td>0.301590</td>\n",
       "      <td>-4.758934</td>\n",
       "      <td>-4.023612</td>\n",
       "      <td>13.161566</td>\n",
       "      <td>-0.148142</td>\n",
       "      <td>-18.517601</td>\n",
       "      <td>0.002075</td>\n",
       "      <td>-0.061114</td>\n",
       "      <td>-0.019986</td>\n",
       "      <td>-0.008280</td>\n",
       "      <td>0.930037</td>\n",
       "      <td>-0.067199</td>\n",
       "      <td>-15.196531</td>\n",
       "      <td>0.101188</td>\n",
       "      <td>0.040742</td>\n",
       "      <td>0.072873</td>\n",
       "      <td>-2.367223</td>\n",
       "      <td>-0.931651</td>\n",
       "      <td>3.075199</td>\n",
       "      <td>0.123154</td>\n",
       "      <td>-0.104334</td>\n",
       "      <td>-0.583165</td>\n",
       "      <td>-9.784456</td>\n",
       "      <td>0.368556</td>\n",
       "      <td>15.608688</td>\n",
       "      <td>-0.447404</td>\n",
       "      <td>-0.160073</td>\n",
       "      <td>96</td>\n",
       "      <td>-134.002586</td>\n",
       "      <td>0.058824</td>\n",
       "      <td>-0.055118</td>\n",
       "      <td>9.020625</td>\n",
       "      <td>0.002146</td>\n",
       "      <td>-67.091148</td>\n",
       "      <td>5.308343</td>\n",
       "      <td>-0.225267</td>\n",
       "      <td>-0.186801</td>\n",
       "      <td>-0.047017</td>\n",
       "      <td>-0.063752</td>\n",
       "      <td>-0.720746</td>\n",
       "      <td>6.172891</td>\n",
       "      <td>81.186702</td>\n",
       "      <td>-0.632727</td>\n",
       "      <td>1365.691449</td>\n",
       "      <td>-0.987410</td>\n",
       "      <td>0.674524</td>\n",
       "      <td>-109.562774</td>\n",
       "      <td>0.085726</td>\n",
       "      <td>17.719032</td>\n",
       "      <td>11.281972</td>\n",
       "      <td>29.984624</td>\n",
       "      <td>10.104660</td>\n",
       "      <td>0.081600</td>\n",
       "      <td>-4.938669</td>\n",
       "      <td>-35.954281</td>\n",
       "      <td>21.672449</td>\n",
       "      <td>3.986095</td>\n",
       "      <td>0.033721</td>\n",
       "      <td>2.554880</td>\n",
       "      <td>0.006097</td>\n",
       "      <td>0</td>\n",
       "    </tr>\n",
       "    <tr>\n",
       "      <th>4</th>\n",
       "      <td>5/1/99 0:08</td>\n",
       "      <td>0</td>\n",
       "      <td>0.265578</td>\n",
       "      <td>-4.749928</td>\n",
       "      <td>-4.333150</td>\n",
       "      <td>15.267340</td>\n",
       "      <td>-0.155314</td>\n",
       "      <td>-17.505913</td>\n",
       "      <td>0.000732</td>\n",
       "      <td>-0.061114</td>\n",
       "      <td>-0.030057</td>\n",
       "      <td>-0.008280</td>\n",
       "      <td>0.828410</td>\n",
       "      <td>-0.018472</td>\n",
       "      <td>-14.609266</td>\n",
       "      <td>0.101229</td>\n",
       "      <td>0.040390</td>\n",
       "      <td>0.171033</td>\n",
       "      <td>-2.380521</td>\n",
       "      <td>-0.927478</td>\n",
       "      <td>3.075199</td>\n",
       "      <td>0.123154</td>\n",
       "      <td>-0.104334</td>\n",
       "      <td>-0.587316</td>\n",
       "      <td>-9.784456</td>\n",
       "      <td>0.372756</td>\n",
       "      <td>15.606125</td>\n",
       "      <td>-0.445880</td>\n",
       "      <td>-0.131630</td>\n",
       "      <td>96</td>\n",
       "      <td>-133.145706</td>\n",
       "      <td>0.058856</td>\n",
       "      <td>-0.153851</td>\n",
       "      <td>9.344233</td>\n",
       "      <td>0.002145</td>\n",
       "      <td>-65.991813</td>\n",
       "      <td>5.806771</td>\n",
       "      <td>-0.225267</td>\n",
       "      <td>-0.186801</td>\n",
       "      <td>-0.057088</td>\n",
       "      <td>-0.063752</td>\n",
       "      <td>-0.720746</td>\n",
       "      <td>-3.379599</td>\n",
       "      <td>82.689258</td>\n",
       "      <td>-0.632727</td>\n",
       "      <td>1363.257859</td>\n",
       "      <td>-0.238444</td>\n",
       "      <td>-0.063044</td>\n",
       "      <td>-110.038909</td>\n",
       "      <td>0.086016</td>\n",
       "      <td>16.855202</td>\n",
       "      <td>11.277577</td>\n",
       "      <td>29.984624</td>\n",
       "      <td>10.109054</td>\n",
       "      <td>0.091121</td>\n",
       "      <td>-4.939414</td>\n",
       "      <td>-37.724789</td>\n",
       "      <td>21.907251</td>\n",
       "      <td>3.601573</td>\n",
       "      <td>0.033777</td>\n",
       "      <td>1.410494</td>\n",
       "      <td>0.006105</td>\n",
       "      <td>0</td>\n",
       "    </tr>\n",
       "  </tbody>\n",
       "</table>\n",
       "</div>"
      ],
      "text/plain": [
       "      DateTime  SheetBreak  RSashScanAvg  CT#1 BLADE PSI  P4 CT#2 BLADE PSI  \\\n",
       "0  5/1/99 0:00           0      0.376665       -4.596435          -4.095756   \n",
       "1  5/1/99 0:02           0      0.475720       -4.542502          -4.018359   \n",
       "2  5/1/99 0:04           0      0.363848       -4.681394          -4.353147   \n",
       "3  5/1/99 0:06           0      0.301590       -4.758934          -4.023612   \n",
       "4  5/1/99 0:08           0      0.265578       -4.749928          -4.333150   \n",
       "\n",
       "   Bleached GWD Flow  ShwerTemp  BlndStckFloTPD  C1 BW SPREAD CD  \\\n",
       "0          13.497687  -0.118830      -20.669883         0.000732   \n",
       "1          16.230658  -0.128733      -18.758079         0.000732   \n",
       "2          14.127997  -0.138636      -17.836632         0.010803   \n",
       "3          13.161566  -0.148142      -18.517601         0.002075   \n",
       "4          15.267340  -0.155314      -17.505913         0.000732   \n",
       "\n",
       "   RS BW SPREAD CD  C1 BW SPREAD MD  RS BW SPREAD MD  C1 BW SCAN AVG  \\\n",
       "0        -0.061114        -0.059966        -0.038189        0.877951   \n",
       "1        -0.061114        -0.059966        -0.038189        0.873273   \n",
       "2        -0.061114        -0.030057        -0.018352        1.004910   \n",
       "3        -0.061114        -0.019986        -0.008280        0.930037   \n",
       "4        -0.061114        -0.030057        -0.008280        0.828410   \n",
       "\n",
       "   RS BW SCAN AVG  CoatBrkFlo  Clay Flow  CouchLoVac  COUCH VAC  4PrsTopLd  \\\n",
       "0       -0.052959  -13.306135   0.101068    0.041800   0.199901  -2.327329   \n",
       "1       -0.014244  -13.306135   0.101108    0.041447   0.304313  -2.340627   \n",
       "2        0.065150   -9.619596   0.101148    0.041095   0.252839  -2.353925   \n",
       "3       -0.067199  -15.196531   0.101188    0.040742   0.072873  -2.367223   \n",
       "4       -0.018472  -14.609266   0.101229    0.040390   0.171033  -2.380521   \n",
       "\n",
       "   4PrsBotLod  CalndrDrw  2DryrDrw  3DryrDrw  4DryrDraw  1PrsTopDrw  \\\n",
       "0   -0.944167   3.075199  0.123154 -0.104334  -0.570710   -9.784456   \n",
       "1   -0.939994   3.075199  0.123154 -0.104334  -0.574861   -9.784456   \n",
       "2   -0.935824   3.075199  0.123154 -0.104334  -0.579013   -9.784456   \n",
       "3   -0.931651   3.075199  0.123154 -0.104334  -0.583165   -9.784456   \n",
       "4   -0.927478   3.075199  0.123154 -0.104334  -0.587316   -9.784456   \n",
       "\n",
       "   4PrsBotDrw  FanPmpSpd  FlBxHdrVac  FlatBxVac  Grade&Bwt  UnblGWDFlo  \\\n",
       "0    0.355960  15.842819   -0.451974  -0.105282         96 -134.277862   \n",
       "1    0.360160  16.491684   -0.450451  -0.092430         96 -134.480194   \n",
       "2    0.364356  15.972885   -0.448927  -0.097144         96 -133.946587   \n",
       "3    0.368556  15.608688   -0.447404  -0.160073         96 -134.002586   \n",
       "4    0.372756  15.606125   -0.445880  -0.131630         96 -133.145706   \n",
       "\n",
       "   Hdbox pH  HdBxLiqLvl  TotHead\"  HorzSlcPos  KraftFlow  CouchLoad  \\\n",
       "0  0.058726   -0.021645  9.366755    0.002151 -69.187583   4.232571   \n",
       "1  0.058759   -0.004579  9.350215    0.002149 -68.585197   4.311490   \n",
       "2  0.058791   -0.084658  9.037409    0.002148 -67.838187   4.809914   \n",
       "3  0.058824   -0.055118  9.020625    0.002146 -67.091148   5.308343   \n",
       "4  0.058856   -0.153851  9.344233    0.002145 -65.991813   5.806771   \n",
       "\n",
       "   C1MoSprdCD  RSMoSprdCD  C1MoSprdMD  RSMoSprdMD  RL MoisAct  PrScrRjFlo  \\\n",
       "0   -0.225267   -0.196872   -0.072449   -0.103732   -0.720746   -5.412436   \n",
       "1   -0.225267   -0.196872   -0.059103   -0.083895   -0.720746   -8.343222   \n",
       "2   -0.225267   -0.186801   -0.048696   -0.073823   -0.720746   -1.085166   \n",
       "3   -0.225267   -0.186801   -0.047017   -0.063752   -0.720746    6.172891   \n",
       "4   -0.225267   -0.186801   -0.057088   -0.063752   -0.720746   -3.379599   \n",
       "\n",
       "    RwBrkFlo  RcycFbrFlo   RetnAidFlo  RUSH DRAG  Rush/Drag   SilicaFlo  \\\n",
       "0  76.679042   -0.632727  1351.632859  -0.657095  -0.434947 -108.775969   \n",
       "1  78.181598   -0.632727  1370.378949  -0.875628  -1.125819 -108.848967   \n",
       "2  79.684154   -0.632727  1368.123089  -0.037775  -0.519541 -109.086577   \n",
       "3  81.186702   -0.632727  1365.691449  -0.987410   0.674524 -109.562774   \n",
       "4  82.689258   -0.632727  1363.257859  -0.238444  -0.063044 -110.038909   \n",
       "\n",
       "   HBxSlcTemp  SodAlumFlo   CouchSpd    MachSpd  1PrsTopSpd  4PrsBotSpd  \\\n",
       "0    0.084856   10.210182  11.295155  29.984624   10.091721    0.053279   \n",
       "1    0.085146   12.534340  11.290761  29.984624   10.095871    0.062801   \n",
       "2    0.085436   18.582893  11.286366  29.984624   10.100265    0.072322   \n",
       "3    0.085726   17.719032  11.281972  29.984624   10.104660    0.081600   \n",
       "4    0.086016   16.855202  11.277577  29.984624   10.109054    0.091121   \n",
       "\n",
       "   WtNStarFlo  BasWgtFlo   TMP Flow  HBxTotHead  TrayCons  UpprHdTmpRL  \\\n",
       "0   -4.936434 -24.590146  18.515436    3.473400  0.033444     0.953219   \n",
       "1   -4.937179 -32.413266  22.760065    2.682933  0.033536     1.090502   \n",
       "2   -4.937924 -34.183774  27.004663    3.537487  0.033629     1.840540   \n",
       "3   -4.938669 -35.954281  21.672449    3.986095  0.033721     2.554880   \n",
       "4   -4.939414 -37.724789  21.907251    3.601573  0.033777     1.410494   \n",
       "\n",
       "   VertSlcPos  EventPress  \n",
       "0    0.006076           0  \n",
       "1    0.006083           0  \n",
       "2    0.006090           0  \n",
       "3    0.006097           0  \n",
       "4    0.006105           0  "
      ]
     },
     "execution_count": 4,
     "metadata": {},
     "output_type": "execute_result"
    }
   ],
   "source": [
    "papermf = pd.read_csv('processminer-sheet-break-rare-event-dataset.csv')\n",
    "papermf.head()"
   ]
  },
  {
   "cell_type": "code",
   "execution_count": 5,
   "metadata": {},
   "outputs": [
    {
     "data": {
      "text/plain": [
       "Index(['DateTime', 'SheetBreak', 'RSashScanAvg', 'CT#1 BLADE PSI',\n",
       "       'P4 CT#2 BLADE PSI', 'Bleached GWD Flow', 'ShwerTemp', 'BlndStckFloTPD',\n",
       "       'C1 BW SPREAD CD', 'RS BW SPREAD CD', 'C1 BW SPREAD MD',\n",
       "       'RS BW SPREAD MD', 'C1 BW SCAN AVG', 'RS BW SCAN AVG', 'CoatBrkFlo',\n",
       "       'Clay Flow', 'CouchLoVac', 'COUCH VAC', '4PrsTopLd', '4PrsBotLod',\n",
       "       'CalndrDrw', '2DryrDrw', '3DryrDrw', '4DryrDraw', '1PrsTopDrw',\n",
       "       '4PrsBotDrw', 'FanPmpSpd', 'FlBxHdrVac', 'FlatBxVac', 'Grade&Bwt',\n",
       "       'UnblGWDFlo', 'Hdbox pH', 'HdBxLiqLvl', 'TotHead\"', 'HorzSlcPos',\n",
       "       'KraftFlow', 'CouchLoad', 'C1MoSprdCD', 'RSMoSprdCD', 'C1MoSprdMD',\n",
       "       'RSMoSprdMD', 'RL MoisAct', 'PrScrRjFlo', 'RwBrkFlo', 'RcycFbrFlo',\n",
       "       'RetnAidFlo', 'RUSH DRAG', 'Rush/Drag', 'SilicaFlo', 'HBxSlcTemp',\n",
       "       'SodAlumFlo', 'CouchSpd', 'MachSpd', '1PrsTopSpd', '4PrsBotSpd',\n",
       "       'WtNStarFlo', 'BasWgtFlo', 'TMP Flow', 'HBxTotHead', 'TrayCons',\n",
       "       'UpprHdTmpRL', 'VertSlcPos', 'EventPress'],\n",
       "      dtype='object')"
      ]
     },
     "execution_count": 5,
     "metadata": {},
     "output_type": "execute_result"
    }
   ],
   "source": [
    "papermf.columns"
   ]
  },
  {
   "cell_type": "code",
   "execution_count": 6,
   "metadata": {},
   "outputs": [
    {
     "name": "stdout",
     "output_type": "stream",
     "text": [
      "<class 'pandas.core.frame.DataFrame'>\n",
      "RangeIndex: 20458 entries, 0 to 20457\n",
      "Data columns (total 63 columns):\n",
      " #   Column             Non-Null Count  Dtype  \n",
      "---  ------             --------------  -----  \n",
      " 0   DateTime           20458 non-null  object \n",
      " 1   SheetBreak         20458 non-null  int64  \n",
      " 2   RSashScanAvg       20458 non-null  float64\n",
      " 3   CT#1 BLADE PSI     20458 non-null  float64\n",
      " 4   P4 CT#2 BLADE PSI  20458 non-null  float64\n",
      " 5   Bleached GWD Flow  20458 non-null  float64\n",
      " 6   ShwerTemp          20458 non-null  float64\n",
      " 7   BlndStckFloTPD     20458 non-null  float64\n",
      " 8   C1 BW SPREAD CD    20458 non-null  float64\n",
      " 9   RS BW SPREAD CD    20458 non-null  float64\n",
      " 10  C1 BW SPREAD MD    20458 non-null  float64\n",
      " 11  RS BW SPREAD MD    20458 non-null  float64\n",
      " 12  C1 BW SCAN AVG     20458 non-null  float64\n",
      " 13  RS BW SCAN AVG     20458 non-null  float64\n",
      " 14  CoatBrkFlo         20458 non-null  float64\n",
      " 15  Clay Flow          20458 non-null  float64\n",
      " 16  CouchLoVac         20458 non-null  float64\n",
      " 17  COUCH VAC          20458 non-null  float64\n",
      " 18  4PrsTopLd          20458 non-null  float64\n",
      " 19  4PrsBotLod         20458 non-null  float64\n",
      " 20  CalndrDrw          20458 non-null  float64\n",
      " 21  2DryrDrw           20458 non-null  float64\n",
      " 22  3DryrDrw           20458 non-null  float64\n",
      " 23  4DryrDraw          20458 non-null  float64\n",
      " 24  1PrsTopDrw         20458 non-null  float64\n",
      " 25  4PrsBotDrw         20458 non-null  float64\n",
      " 26  FanPmpSpd          20458 non-null  float64\n",
      " 27  FlBxHdrVac         20458 non-null  float64\n",
      " 28  FlatBxVac          20458 non-null  float64\n",
      " 29  Grade&Bwt          20458 non-null  int64  \n",
      " 30  UnblGWDFlo         20458 non-null  float64\n",
      " 31  Hdbox pH           20458 non-null  float64\n",
      " 32  HdBxLiqLvl         20458 non-null  float64\n",
      " 33  TotHead\"           20458 non-null  float64\n",
      " 34  HorzSlcPos         20458 non-null  float64\n",
      " 35  KraftFlow          20458 non-null  float64\n",
      " 36  CouchLoad          20458 non-null  float64\n",
      " 37  C1MoSprdCD         20458 non-null  float64\n",
      " 38  RSMoSprdCD         20458 non-null  float64\n",
      " 39  C1MoSprdMD         20458 non-null  float64\n",
      " 40  RSMoSprdMD         20458 non-null  float64\n",
      " 41  RL MoisAct         20458 non-null  float64\n",
      " 42  PrScrRjFlo         20458 non-null  float64\n",
      " 43  RwBrkFlo           20458 non-null  float64\n",
      " 44  RcycFbrFlo         20458 non-null  float64\n",
      " 45  RetnAidFlo         20458 non-null  float64\n",
      " 46  RUSH DRAG          20458 non-null  float64\n",
      " 47  Rush/Drag          20458 non-null  float64\n",
      " 48  SilicaFlo          20458 non-null  float64\n",
      " 49  HBxSlcTemp         20458 non-null  float64\n",
      " 50  SodAlumFlo         20458 non-null  float64\n",
      " 51  CouchSpd           20458 non-null  float64\n",
      " 52  MachSpd            20458 non-null  float64\n",
      " 53  1PrsTopSpd         20458 non-null  float64\n",
      " 54  4PrsBotSpd         20458 non-null  float64\n",
      " 55  WtNStarFlo         20458 non-null  float64\n",
      " 56  BasWgtFlo          20458 non-null  float64\n",
      " 57  TMP Flow           20458 non-null  float64\n",
      " 58  HBxTotHead         20458 non-null  float64\n",
      " 59  TrayCons           20458 non-null  float64\n",
      " 60  UpprHdTmpRL        20458 non-null  float64\n",
      " 61  VertSlcPos         20458 non-null  float64\n",
      " 62  EventPress         20458 non-null  int64  \n",
      "dtypes: float64(59), int64(3), object(1)\n",
      "memory usage: 9.8+ MB\n"
     ]
    }
   ],
   "source": [
    "papermf.info()"
   ]
  },
  {
   "cell_type": "code",
   "execution_count": 7,
   "metadata": {},
   "outputs": [
    {
     "data": {
      "text/html": [
       "<div>\n",
       "<style scoped>\n",
       "    .dataframe tbody tr th:only-of-type {\n",
       "        vertical-align: middle;\n",
       "    }\n",
       "\n",
       "    .dataframe tbody tr th {\n",
       "        vertical-align: top;\n",
       "    }\n",
       "\n",
       "    .dataframe thead th {\n",
       "        text-align: right;\n",
       "    }\n",
       "</style>\n",
       "<table border=\"1\" class=\"dataframe\">\n",
       "  <thead>\n",
       "    <tr style=\"text-align: right;\">\n",
       "      <th></th>\n",
       "      <th>SheetBreak</th>\n",
       "      <th>RSashScanAvg</th>\n",
       "      <th>CT#1 BLADE PSI</th>\n",
       "      <th>P4 CT#2 BLADE PSI</th>\n",
       "      <th>Bleached GWD Flow</th>\n",
       "      <th>ShwerTemp</th>\n",
       "      <th>BlndStckFloTPD</th>\n",
       "      <th>C1 BW SPREAD CD</th>\n",
       "      <th>RS BW SPREAD CD</th>\n",
       "      <th>C1 BW SPREAD MD</th>\n",
       "      <th>RS BW SPREAD MD</th>\n",
       "      <th>C1 BW SCAN AVG</th>\n",
       "      <th>RS BW SCAN AVG</th>\n",
       "      <th>CoatBrkFlo</th>\n",
       "      <th>Clay Flow</th>\n",
       "      <th>CouchLoVac</th>\n",
       "      <th>COUCH VAC</th>\n",
       "      <th>4PrsTopLd</th>\n",
       "      <th>4PrsBotLod</th>\n",
       "      <th>CalndrDrw</th>\n",
       "      <th>2DryrDrw</th>\n",
       "      <th>3DryrDrw</th>\n",
       "      <th>4DryrDraw</th>\n",
       "      <th>1PrsTopDrw</th>\n",
       "      <th>4PrsBotDrw</th>\n",
       "      <th>FanPmpSpd</th>\n",
       "      <th>FlBxHdrVac</th>\n",
       "      <th>FlatBxVac</th>\n",
       "      <th>Grade&amp;Bwt</th>\n",
       "      <th>UnblGWDFlo</th>\n",
       "      <th>Hdbox pH</th>\n",
       "      <th>HdBxLiqLvl</th>\n",
       "      <th>TotHead\"</th>\n",
       "      <th>HorzSlcPos</th>\n",
       "      <th>KraftFlow</th>\n",
       "      <th>CouchLoad</th>\n",
       "      <th>C1MoSprdCD</th>\n",
       "      <th>RSMoSprdCD</th>\n",
       "      <th>C1MoSprdMD</th>\n",
       "      <th>RSMoSprdMD</th>\n",
       "      <th>RL MoisAct</th>\n",
       "      <th>PrScrRjFlo</th>\n",
       "      <th>RwBrkFlo</th>\n",
       "      <th>RcycFbrFlo</th>\n",
       "      <th>RetnAidFlo</th>\n",
       "      <th>RUSH DRAG</th>\n",
       "      <th>Rush/Drag</th>\n",
       "      <th>SilicaFlo</th>\n",
       "      <th>HBxSlcTemp</th>\n",
       "      <th>SodAlumFlo</th>\n",
       "      <th>CouchSpd</th>\n",
       "      <th>MachSpd</th>\n",
       "      <th>1PrsTopSpd</th>\n",
       "      <th>4PrsBotSpd</th>\n",
       "      <th>WtNStarFlo</th>\n",
       "      <th>BasWgtFlo</th>\n",
       "      <th>TMP Flow</th>\n",
       "      <th>HBxTotHead</th>\n",
       "      <th>TrayCons</th>\n",
       "      <th>UpprHdTmpRL</th>\n",
       "      <th>VertSlcPos</th>\n",
       "      <th>EventPress</th>\n",
       "    </tr>\n",
       "  </thead>\n",
       "  <tbody>\n",
       "    <tr>\n",
       "      <th>count</th>\n",
       "      <td>20458.000000</td>\n",
       "      <td>2.045800e+04</td>\n",
       "      <td>2.045800e+04</td>\n",
       "      <td>2.045800e+04</td>\n",
       "      <td>2.045800e+04</td>\n",
       "      <td>2.045800e+04</td>\n",
       "      <td>2.045800e+04</td>\n",
       "      <td>2.045800e+04</td>\n",
       "      <td>2.045800e+04</td>\n",
       "      <td>2.045800e+04</td>\n",
       "      <td>2.045800e+04</td>\n",
       "      <td>2.045800e+04</td>\n",
       "      <td>2.045800e+04</td>\n",
       "      <td>2.045800e+04</td>\n",
       "      <td>2.045800e+04</td>\n",
       "      <td>2.045800e+04</td>\n",
       "      <td>2.045800e+04</td>\n",
       "      <td>2.045800e+04</td>\n",
       "      <td>2.045800e+04</td>\n",
       "      <td>2.045800e+04</td>\n",
       "      <td>2.045800e+04</td>\n",
       "      <td>2.045800e+04</td>\n",
       "      <td>2.045800e+04</td>\n",
       "      <td>2.045800e+04</td>\n",
       "      <td>2.045800e+04</td>\n",
       "      <td>2.045800e+04</td>\n",
       "      <td>2.045800e+04</td>\n",
       "      <td>2.045800e+04</td>\n",
       "      <td>20458.000000</td>\n",
       "      <td>2.045800e+04</td>\n",
       "      <td>2.045800e+04</td>\n",
       "      <td>2.045800e+04</td>\n",
       "      <td>2.045800e+04</td>\n",
       "      <td>2.045800e+04</td>\n",
       "      <td>2.045800e+04</td>\n",
       "      <td>2.045800e+04</td>\n",
       "      <td>2.045800e+04</td>\n",
       "      <td>2.045800e+04</td>\n",
       "      <td>2.045800e+04</td>\n",
       "      <td>2.045800e+04</td>\n",
       "      <td>2.045800e+04</td>\n",
       "      <td>2.045800e+04</td>\n",
       "      <td>2.045800e+04</td>\n",
       "      <td>2.045800e+04</td>\n",
       "      <td>2.045800e+04</td>\n",
       "      <td>2.045800e+04</td>\n",
       "      <td>2.045800e+04</td>\n",
       "      <td>2.045800e+04</td>\n",
       "      <td>2.045800e+04</td>\n",
       "      <td>2.045800e+04</td>\n",
       "      <td>2.045800e+04</td>\n",
       "      <td>2.045800e+04</td>\n",
       "      <td>2.045800e+04</td>\n",
       "      <td>2.045800e+04</td>\n",
       "      <td>2.045800e+04</td>\n",
       "      <td>2.045800e+04</td>\n",
       "      <td>2.045800e+04</td>\n",
       "      <td>2.045800e+04</td>\n",
       "      <td>2.045800e+04</td>\n",
       "      <td>2.045800e+04</td>\n",
       "      <td>2.045800e+04</td>\n",
       "      <td>20458.000000</td>\n",
       "    </tr>\n",
       "    <tr>\n",
       "      <th>mean</th>\n",
       "      <td>0.006599</td>\n",
       "      <td>2.913974e-10</td>\n",
       "      <td>1.099848e-11</td>\n",
       "      <td>5.088529e-11</td>\n",
       "      <td>6.756306e-09</td>\n",
       "      <td>3.128003e-12</td>\n",
       "      <td>-1.005711e-09</td>\n",
       "      <td>-1.850231e-10</td>\n",
       "      <td>-2.371488e-10</td>\n",
       "      <td>-2.532051e-11</td>\n",
       "      <td>3.730370e-10</td>\n",
       "      <td>-3.010899e-10</td>\n",
       "      <td>-4.545902e-10</td>\n",
       "      <td>1.188054e-10</td>\n",
       "      <td>-6.814100e-11</td>\n",
       "      <td>2.152342e-10</td>\n",
       "      <td>-5.751833e-11</td>\n",
       "      <td>3.712181e-11</td>\n",
       "      <td>-6.570805e-11</td>\n",
       "      <td>-2.692942e-10</td>\n",
       "      <td>-3.807781e-10</td>\n",
       "      <td>-4.289949e-10</td>\n",
       "      <td>-4.796007e-10</td>\n",
       "      <td>4.975410e-11</td>\n",
       "      <td>-9.036595e-11</td>\n",
       "      <td>3.753557e-10</td>\n",
       "      <td>-3.760881e-10</td>\n",
       "      <td>2.906303e-10</td>\n",
       "      <td>99.724607</td>\n",
       "      <td>-1.480006e-08</td>\n",
       "      <td>1.130018e-10</td>\n",
       "      <td>-4.522436e-10</td>\n",
       "      <td>3.431373e-10</td>\n",
       "      <td>1.714727e-10</td>\n",
       "      <td>1.883570e-09</td>\n",
       "      <td>1.500841e-10</td>\n",
       "      <td>-4.265126e-10</td>\n",
       "      <td>4.927157e-10</td>\n",
       "      <td>3.159352e-10</td>\n",
       "      <td>4.644636e-10</td>\n",
       "      <td>-4.412949e-10</td>\n",
       "      <td>-4.462307e-11</td>\n",
       "      <td>-3.363126e-09</td>\n",
       "      <td>-3.675240e-10</td>\n",
       "      <td>-3.343282e-07</td>\n",
       "      <td>-2.386152e-10</td>\n",
       "      <td>1.018681e-10</td>\n",
       "      <td>7.218659e-09</td>\n",
       "      <td>-4.472109e-10</td>\n",
       "      <td>1.083245e-08</td>\n",
       "      <td>-4.022267e-10</td>\n",
       "      <td>1.057937e-09</td>\n",
       "      <td>6.115555e-11</td>\n",
       "      <td>-5.653446e-10</td>\n",
       "      <td>-3.799060e-10</td>\n",
       "      <td>9.841947e-10</td>\n",
       "      <td>-2.829806e-09</td>\n",
       "      <td>-2.358813e-10</td>\n",
       "      <td>3.002738e-10</td>\n",
       "      <td>-3.317807e-10</td>\n",
       "      <td>6.318039e-11</td>\n",
       "      <td>0.000978</td>\n",
       "    </tr>\n",
       "    <tr>\n",
       "      <th>std</th>\n",
       "      <td>0.080967</td>\n",
       "      <td>7.241616e-01</td>\n",
       "      <td>4.743495e+00</td>\n",
       "      <td>5.940876e+00</td>\n",
       "      <td>1.305132e+02</td>\n",
       "      <td>6.109013e-01</td>\n",
       "      <td>3.770566e+01</td>\n",
       "      <td>1.068156e-01</td>\n",
       "      <td>7.524209e-02</td>\n",
       "      <td>1.587650e-01</td>\n",
       "      <td>1.161067e-01</td>\n",
       "      <td>3.065846e+00</td>\n",
       "      <td>2.271078e+00</td>\n",
       "      <td>4.594000e+01</td>\n",
       "      <td>1.544631e-01</td>\n",
       "      <td>4.128981e-02</td>\n",
       "      <td>2.178070e+00</td>\n",
       "      <td>2.112472e+00</td>\n",
       "      <td>1.879027e+00</td>\n",
       "      <td>4.846239e+00</td>\n",
       "      <td>2.975618e-01</td>\n",
       "      <td>1.276814e+00</td>\n",
       "      <td>8.061252e-01</td>\n",
       "      <td>5.711631e+00</td>\n",
       "      <td>4.657300e+00</td>\n",
       "      <td>5.678789e+01</td>\n",
       "      <td>9.574867e-01</td>\n",
       "      <td>4.381534e-01</td>\n",
       "      <td>16.776643</td>\n",
       "      <td>1.278716e+02</td>\n",
       "      <td>8.464996e-02</td>\n",
       "      <td>1.255287e-01</td>\n",
       "      <td>5.926233e+01</td>\n",
       "      <td>1.050234e-03</td>\n",
       "      <td>7.690507e+01</td>\n",
       "      <td>1.822667e+00</td>\n",
       "      <td>2.661529e-01</td>\n",
       "      <td>2.794558e-01</td>\n",
       "      <td>2.054231e-01</td>\n",
       "      <td>1.925144e-01</td>\n",
       "      <td>9.257905e-01</td>\n",
       "      <td>4.869099e+00</td>\n",
       "      <td>5.650546e+01</td>\n",
       "      <td>4.709512e+00</td>\n",
       "      <td>2.373620e+03</td>\n",
       "      <td>3.827783e+00</td>\n",
       "      <td>7.363803e-01</td>\n",
       "      <td>7.035301e+01</td>\n",
       "      <td>1.045235e+00</td>\n",
       "      <td>1.035970e+02</td>\n",
       "      <td>6.550561e+00</td>\n",
       "      <td>3.304094e+02</td>\n",
       "      <td>6.049953e+00</td>\n",
       "      <td>1.349154e+01</td>\n",
       "      <td>3.093382e+00</td>\n",
       "      <td>6.729890e+01</td>\n",
       "      <td>8.251883e+01</td>\n",
       "      <td>2.345617e+00</td>\n",
       "      <td>4.665090e-02</td>\n",
       "      <td>9.859455e+00</td>\n",
       "      <td>5.867505e-03</td>\n",
       "      <td>0.031252</td>\n",
       "    </tr>\n",
       "    <tr>\n",
       "      <th>min</th>\n",
       "      <td>0.000000</td>\n",
       "      <td>-3.787280e+00</td>\n",
       "      <td>-1.731655e+01</td>\n",
       "      <td>-1.819851e+01</td>\n",
       "      <td>-3.227816e+02</td>\n",
       "      <td>-1.623988e+00</td>\n",
       "      <td>-2.794084e+02</td>\n",
       "      <td>-4.292735e-01</td>\n",
       "      <td>-4.511407e-01</td>\n",
       "      <td>-1.200866e-01</td>\n",
       "      <td>-9.831040e-02</td>\n",
       "      <td>-2.619115e+01</td>\n",
       "      <td>-2.222343e+01</td>\n",
       "      <td>-1.648977e+02</td>\n",
       "      <td>-2.877469e-02</td>\n",
       "      <td>-6.237301e-01</td>\n",
       "      <td>-1.990114e+01</td>\n",
       "      <td>-1.408154e+01</td>\n",
       "      <td>-1.831301e+01</td>\n",
       "      <td>-1.569297e+02</td>\n",
       "      <td>-1.520451e+00</td>\n",
       "      <td>-7.106501e+00</td>\n",
       "      <td>-3.228480e+00</td>\n",
       "      <td>-2.367836e+02</td>\n",
       "      <td>-1.241132e+01</td>\n",
       "      <td>-5.794127e+02</td>\n",
       "      <td>-2.333211e+00</td>\n",
       "      <td>-1.807603e+00</td>\n",
       "      <td>51.000000</td>\n",
       "      <td>-2.283022e+02</td>\n",
       "      <td>-2.628924e-01</td>\n",
       "      <td>-5.391169e-01</td>\n",
       "      <td>-6.083729e+02</td>\n",
       "      <td>-1.809348e-03</td>\n",
       "      <td>-5.086389e+02</td>\n",
       "      <td>-4.764285e+00</td>\n",
       "      <td>-9.451989e-01</td>\n",
       "      <td>-1.706928e+00</td>\n",
       "      <td>-1.471184e-01</td>\n",
       "      <td>-1.638529e-01</td>\n",
       "      <td>-5.700757e+00</td>\n",
       "      <td>-5.818343e+01</td>\n",
       "      <td>-3.959277e+01</td>\n",
       "      <td>-6.327275e-01</td>\n",
       "      <td>-3.768477e+03</td>\n",
       "      <td>-2.753966e+00</td>\n",
       "      <td>-2.453742e+00</td>\n",
       "      <td>-8.024558e+02</td>\n",
       "      <td>-5.484846e+00</td>\n",
       "      <td>-4.507443e+02</td>\n",
       "      <td>-2.344899e+01</td>\n",
       "      <td>-3.652989e+03</td>\n",
       "      <td>-1.879434e+02</td>\n",
       "      <td>-1.817596e+03</td>\n",
       "      <td>-8.210370e+00</td>\n",
       "      <td>-2.305740e+02</td>\n",
       "      <td>-2.690395e+02</td>\n",
       "      <td>-1.264037e+01</td>\n",
       "      <td>-1.497897e-01</td>\n",
       "      <td>-1.008105e+02</td>\n",
       "      <td>-1.448822e-02</td>\n",
       "      <td>0.000000</td>\n",
       "    </tr>\n",
       "    <tr>\n",
       "      <th>25%</th>\n",
       "      <td>0.000000</td>\n",
       "      <td>-4.220608e-01</td>\n",
       "      <td>-2.019812e+00</td>\n",
       "      <td>-4.278840e+00</td>\n",
       "      <td>-1.048950e+02</td>\n",
       "      <td>-4.306202e-01</td>\n",
       "      <td>-3.234352e+01</td>\n",
       "      <td>-5.938952e-02</td>\n",
       "      <td>-4.127669e-02</td>\n",
       "      <td>-5.996557e-02</td>\n",
       "      <td>-4.826040e-02</td>\n",
       "      <td>-2.411848e-01</td>\n",
       "      <td>-2.517091e-01</td>\n",
       "      <td>-3.086114e+01</td>\n",
       "      <td>-2.877469e-02</td>\n",
       "      <td>-2.081512e-02</td>\n",
       "      <td>-2.234017e-01</td>\n",
       "      <td>-1.458453e+00</td>\n",
       "      <td>-1.321521e+00</td>\n",
       "      <td>-3.941073e+00</td>\n",
       "      <td>1.231537e-01</td>\n",
       "      <td>-7.390657e-01</td>\n",
       "      <td>-5.051673e-01</td>\n",
       "      <td>-4.784303e+00</td>\n",
       "      <td>-2.731976e+00</td>\n",
       "      <td>2.505463e+00</td>\n",
       "      <td>-7.307635e-01</td>\n",
       "      <td>-2.369190e-01</td>\n",
       "      <td>84.000000</td>\n",
       "      <td>-9.937926e+01</td>\n",
       "      <td>-8.058694e-02</td>\n",
       "      <td>-7.008686e-02</td>\n",
       "      <td>3.794520e+00</td>\n",
       "      <td>-9.903480e-04</td>\n",
       "      <td>-6.802663e+01</td>\n",
       "      <td>-7.602571e-01</td>\n",
       "      <td>-1.651459e-01</td>\n",
       "      <td>-1.770352e-01</td>\n",
       "      <td>-8.699739e-02</td>\n",
       "      <td>-1.037319e-01</td>\n",
       "      <td>-2.007112e-01</td>\n",
       "      <td>-2.986869e+00</td>\n",
       "      <td>-3.899143e+01</td>\n",
       "      <td>-6.327275e-01</td>\n",
       "      <td>-3.086211e+03</td>\n",
       "      <td>-8.203275e-01</td>\n",
       "      <td>-4.505070e-01</td>\n",
       "      <td>-2.192335e+01</td>\n",
       "      <td>-1.823616e-02</td>\n",
       "      <td>-6.618082e+01</td>\n",
       "      <td>-4.319896e+00</td>\n",
       "      <td>2.998462e+01</td>\n",
       "      <td>-4.144668e+00</td>\n",
       "      <td>-2.736027e+00</td>\n",
       "      <td>-4.824553e+00</td>\n",
       "      <td>-4.251086e+01</td>\n",
       "      <td>-5.392365e+01</td>\n",
       "      <td>-1.983326e+00</td>\n",
       "      <td>2.113508e-03</td>\n",
       "      <td>2.862190e-01</td>\n",
       "      <td>-2.857222e-03</td>\n",
       "      <td>0.000000</td>\n",
       "    </tr>\n",
       "    <tr>\n",
       "      <th>50%</th>\n",
       "      <td>0.000000</td>\n",
       "      <td>1.091590e-01</td>\n",
       "      <td>-2.587548e-01</td>\n",
       "      <td>-9.192043e-01</td>\n",
       "      <td>-2.772027e+00</td>\n",
       "      <td>-1.129707e-01</td>\n",
       "      <td>9.338570e+00</td>\n",
       "      <td>-9.338517e-03</td>\n",
       "      <td>-9.926940e-04</td>\n",
       "      <td>-3.005657e-02</td>\n",
       "      <td>-1.835240e-02</td>\n",
       "      <td>3.385880e-01</td>\n",
       "      <td>3.735586e-01</td>\n",
       "      <td>-2.839994e+00</td>\n",
       "      <td>-2.877469e-02</td>\n",
       "      <td>1.408383e-03</td>\n",
       "      <td>2.514001e-01</td>\n",
       "      <td>-5.277838e-01</td>\n",
       "      <td>-7.231371e-01</td>\n",
       "      <td>3.075199e+00</td>\n",
       "      <td>1.231537e-01</td>\n",
       "      <td>-1.043342e-01</td>\n",
       "      <td>-2.303418e-01</td>\n",
       "      <td>8.980784e-02</td>\n",
       "      <td>6.126950e-01</td>\n",
       "      <td>7.166763e+00</td>\n",
       "      <td>-2.759455e-01</td>\n",
       "      <td>1.047410e-01</td>\n",
       "      <td>96.000000</td>\n",
       "      <td>1.561666e+01</td>\n",
       "      <td>5.704756e-02</td>\n",
       "      <td>-2.967863e-03</td>\n",
       "      <td>5.303706e+00</td>\n",
       "      <td>2.606520e-04</td>\n",
       "      <td>2.342210e+01</td>\n",
       "      <td>-9.291808e-02</td>\n",
       "      <td>-1.529995e-02</td>\n",
       "      <td>-1.681324e-02</td>\n",
       "      <td>-5.176789e-02</td>\n",
       "      <td>-5.398588e-02</td>\n",
       "      <td>2.793448e-01</td>\n",
       "      <td>-6.984633e-02</td>\n",
       "      <td>-3.650791e+01</td>\n",
       "      <td>-6.327275e-01</td>\n",
       "      <td>8.882276e+02</td>\n",
       "      <td>-4.604270e-01</td>\n",
       "      <td>-1.060740e-01</td>\n",
       "      <td>2.992816e+01</td>\n",
       "      <td>4.444309e-02</td>\n",
       "      <td>9.982658e+00</td>\n",
       "      <td>-1.680431e+00</td>\n",
       "      <td>2.998462e+01</td>\n",
       "      <td>-1.172806e+00</td>\n",
       "      <td>-4.750409e-01</td>\n",
       "      <td>6.311626e-01</td>\n",
       "      <td>1.537500e+01</td>\n",
       "      <td>-1.597230e+01</td>\n",
       "      <td>-4.909555e-01</td>\n",
       "      <td>1.371576e-02</td>\n",
       "      <td>7.052215e-01</td>\n",
       "      <td>1.822780e-04</td>\n",
       "      <td>0.000000</td>\n",
       "    </tr>\n",
       "    <tr>\n",
       "      <th>75%</th>\n",
       "      <td>0.000000</td>\n",
       "      <td>4.082172e-01</td>\n",
       "      <td>1.863183e+00</td>\n",
       "      <td>2.975745e+00</td>\n",
       "      <td>1.000309e+02</td>\n",
       "      <td>2.916733e-01</td>\n",
       "      <td>3.037013e+01</td>\n",
       "      <td>5.078248e-02</td>\n",
       "      <td>4.875231e-02</td>\n",
       "      <td>9.922429e-03</td>\n",
       "      <td>1.155660e-02</td>\n",
       "      <td>8.036910e-01</td>\n",
       "      <td>7.408592e-01</td>\n",
       "      <td>3.700791e+01</td>\n",
       "      <td>-2.877469e-02</td>\n",
       "      <td>2.027163e-02</td>\n",
       "      <td>7.140358e-01</td>\n",
       "      <td>1.148490e+00</td>\n",
       "      <td>1.079568e+00</td>\n",
       "      <td>3.075199e+00</td>\n",
       "      <td>1.231537e-01</td>\n",
       "      <td>9.015548e-01</td>\n",
       "      <td>7.755482e-01</td>\n",
       "      <td>4.219877e+00</td>\n",
       "      <td>2.589141e+00</td>\n",
       "      <td>1.043187e+01</td>\n",
       "      <td>6.222307e-01</td>\n",
       "      <td>3.713838e-01</td>\n",
       "      <td>112.000000</td>\n",
       "      <td>8.638068e+01</td>\n",
       "      <td>6.853531e-02</td>\n",
       "      <td>7.017589e-02</td>\n",
       "      <td>7.648569e+00</td>\n",
       "      <td>5.666520e-04</td>\n",
       "      <td>5.923498e+01</td>\n",
       "      <td>1.241757e+00</td>\n",
       "      <td>1.247801e-01</td>\n",
       "      <td>1.784008e-01</td>\n",
       "      <td>3.637358e-03</td>\n",
       "      <td>1.549912e-02</td>\n",
       "      <td>3.791398e-01</td>\n",
       "      <td>3.008553e+00</td>\n",
       "      <td>3.027706e+01</td>\n",
       "      <td>-6.327275e-01</td>\n",
       "      <td>2.237097e+03</td>\n",
       "      <td>-2.246496e-02</td>\n",
       "      <td>3.405320e-01</td>\n",
       "      <td>4.419434e+01</td>\n",
       "      <td>1.000391e-01</td>\n",
       "      <td>7.246865e+01</td>\n",
       "      <td>4.715260e+00</td>\n",
       "      <td>2.998462e+01</td>\n",
       "      <td>4.262131e+00</td>\n",
       "      <td>3.075436e+00</td>\n",
       "      <td>2.660704e+00</td>\n",
       "      <td>4.217261e+01</td>\n",
       "      <td>5.444663e+01</td>\n",
       "      <td>1.916942e+00</td>\n",
       "      <td>2.081001e-02</td>\n",
       "      <td>1.222019e+00</td>\n",
       "      <td>3.280278e-03</td>\n",
       "      <td>0.000000</td>\n",
       "    </tr>\n",
       "    <tr>\n",
       "      <th>max</th>\n",
       "      <td>1.000000</td>\n",
       "      <td>3.054156e+00</td>\n",
       "      <td>1.674211e+01</td>\n",
       "      <td>1.590012e+01</td>\n",
       "      <td>3.346941e+02</td>\n",
       "      <td>4.239385e+00</td>\n",
       "      <td>9.606077e+01</td>\n",
       "      <td>1.705590e+00</td>\n",
       "      <td>7.888263e-01</td>\n",
       "      <td>4.060033e+00</td>\n",
       "      <td>2.921802e+00</td>\n",
       "      <td>5.774670e+00</td>\n",
       "      <td>3.813738e+00</td>\n",
       "      <td>1.438764e+02</td>\n",
       "      <td>1.999404e+00</td>\n",
       "      <td>1.990212e+00</td>\n",
       "      <td>2.036784e+00</td>\n",
       "      <td>1.181799e+01</td>\n",
       "      <td>1.173820e+01</td>\n",
       "      <td>2.506806e+01</td>\n",
       "      <td>6.512321e+00</td>\n",
       "      <td>6.678016e+00</td>\n",
       "      <td>1.771673e+00</td>\n",
       "      <td>2.741785e+01</td>\n",
       "      <td>1.095846e+02</td>\n",
       "      <td>1.976769e+01</td>\n",
       "      <td>3.917840e+00</td>\n",
       "      <td>1.165952e+00</td>\n",
       "      <td>139.000000</td>\n",
       "      <td>3.126350e+02</td>\n",
       "      <td>6.332166e-01</td>\n",
       "      <td>5.185321e-01</td>\n",
       "      <td>1.215789e+01</td>\n",
       "      <td>2.292652e-03</td>\n",
       "      <td>1.432365e+02</td>\n",
       "      <td>6.829778e+00</td>\n",
       "      <td>6.258630e+00</td>\n",
       "      <td>9.231568e-01</td>\n",
       "      <td>5.344958e+00</td>\n",
       "      <td>2.756158e+00</td>\n",
       "      <td>1.069164e+00</td>\n",
       "      <td>5.319694e+01</td>\n",
       "      <td>2.381357e+02</td>\n",
       "      <td>4.248448e+01</td>\n",
       "      <td>4.051738e+03</td>\n",
       "      <td>3.859286e+01</td>\n",
       "      <td>9.591302e+00</td>\n",
       "      <td>1.413228e+02</td>\n",
       "      <td>4.003038e+00</td>\n",
       "      <td>5.334105e+02</td>\n",
       "      <td>1.782885e+01</td>\n",
       "      <td>4.015235e+01</td>\n",
       "      <td>1.418059e+01</td>\n",
       "      <td>1.114801e+01</td>\n",
       "      <td>6.637265e+00</td>\n",
       "      <td>2.872520e+02</td>\n",
       "      <td>2.521475e+02</td>\n",
       "      <td>6.922008e+00</td>\n",
       "      <td>6.724926e-02</td>\n",
       "      <td>6.985460e+00</td>\n",
       "      <td>2.050978e-02</td>\n",
       "      <td>1.000000</td>\n",
       "    </tr>\n",
       "  </tbody>\n",
       "</table>\n",
       "</div>"
      ],
      "text/plain": [
       "         SheetBreak  RSashScanAvg  CT#1 BLADE PSI  P4 CT#2 BLADE PSI  \\\n",
       "count  20458.000000  2.045800e+04    2.045800e+04       2.045800e+04   \n",
       "mean       0.006599  2.913974e-10    1.099848e-11       5.088529e-11   \n",
       "std        0.080967  7.241616e-01    4.743495e+00       5.940876e+00   \n",
       "min        0.000000 -3.787280e+00   -1.731655e+01      -1.819851e+01   \n",
       "25%        0.000000 -4.220608e-01   -2.019812e+00      -4.278840e+00   \n",
       "50%        0.000000  1.091590e-01   -2.587548e-01      -9.192043e-01   \n",
       "75%        0.000000  4.082172e-01    1.863183e+00       2.975745e+00   \n",
       "max        1.000000  3.054156e+00    1.674211e+01       1.590012e+01   \n",
       "\n",
       "       Bleached GWD Flow     ShwerTemp  BlndStckFloTPD  C1 BW SPREAD CD  \\\n",
       "count       2.045800e+04  2.045800e+04    2.045800e+04     2.045800e+04   \n",
       "mean        6.756306e-09  3.128003e-12   -1.005711e-09    -1.850231e-10   \n",
       "std         1.305132e+02  6.109013e-01    3.770566e+01     1.068156e-01   \n",
       "min        -3.227816e+02 -1.623988e+00   -2.794084e+02    -4.292735e-01   \n",
       "25%        -1.048950e+02 -4.306202e-01   -3.234352e+01    -5.938952e-02   \n",
       "50%        -2.772027e+00 -1.129707e-01    9.338570e+00    -9.338517e-03   \n",
       "75%         1.000309e+02  2.916733e-01    3.037013e+01     5.078248e-02   \n",
       "max         3.346941e+02  4.239385e+00    9.606077e+01     1.705590e+00   \n",
       "\n",
       "       RS BW SPREAD CD  C1 BW SPREAD MD  RS BW SPREAD MD  C1 BW SCAN AVG  \\\n",
       "count     2.045800e+04     2.045800e+04     2.045800e+04    2.045800e+04   \n",
       "mean     -2.371488e-10    -2.532051e-11     3.730370e-10   -3.010899e-10   \n",
       "std       7.524209e-02     1.587650e-01     1.161067e-01    3.065846e+00   \n",
       "min      -4.511407e-01    -1.200866e-01    -9.831040e-02   -2.619115e+01   \n",
       "25%      -4.127669e-02    -5.996557e-02    -4.826040e-02   -2.411848e-01   \n",
       "50%      -9.926940e-04    -3.005657e-02    -1.835240e-02    3.385880e-01   \n",
       "75%       4.875231e-02     9.922429e-03     1.155660e-02    8.036910e-01   \n",
       "max       7.888263e-01     4.060033e+00     2.921802e+00    5.774670e+00   \n",
       "\n",
       "       RS BW SCAN AVG    CoatBrkFlo     Clay Flow    CouchLoVac     COUCH VAC  \\\n",
       "count    2.045800e+04  2.045800e+04  2.045800e+04  2.045800e+04  2.045800e+04   \n",
       "mean    -4.545902e-10  1.188054e-10 -6.814100e-11  2.152342e-10 -5.751833e-11   \n",
       "std      2.271078e+00  4.594000e+01  1.544631e-01  4.128981e-02  2.178070e+00   \n",
       "min     -2.222343e+01 -1.648977e+02 -2.877469e-02 -6.237301e-01 -1.990114e+01   \n",
       "25%     -2.517091e-01 -3.086114e+01 -2.877469e-02 -2.081512e-02 -2.234017e-01   \n",
       "50%      3.735586e-01 -2.839994e+00 -2.877469e-02  1.408383e-03  2.514001e-01   \n",
       "75%      7.408592e-01  3.700791e+01 -2.877469e-02  2.027163e-02  7.140358e-01   \n",
       "max      3.813738e+00  1.438764e+02  1.999404e+00  1.990212e+00  2.036784e+00   \n",
       "\n",
       "          4PrsTopLd    4PrsBotLod     CalndrDrw      2DryrDrw      3DryrDrw  \\\n",
       "count  2.045800e+04  2.045800e+04  2.045800e+04  2.045800e+04  2.045800e+04   \n",
       "mean   3.712181e-11 -6.570805e-11 -2.692942e-10 -3.807781e-10 -4.289949e-10   \n",
       "std    2.112472e+00  1.879027e+00  4.846239e+00  2.975618e-01  1.276814e+00   \n",
       "min   -1.408154e+01 -1.831301e+01 -1.569297e+02 -1.520451e+00 -7.106501e+00   \n",
       "25%   -1.458453e+00 -1.321521e+00 -3.941073e+00  1.231537e-01 -7.390657e-01   \n",
       "50%   -5.277838e-01 -7.231371e-01  3.075199e+00  1.231537e-01 -1.043342e-01   \n",
       "75%    1.148490e+00  1.079568e+00  3.075199e+00  1.231537e-01  9.015548e-01   \n",
       "max    1.181799e+01  1.173820e+01  2.506806e+01  6.512321e+00  6.678016e+00   \n",
       "\n",
       "          4DryrDraw    1PrsTopDrw    4PrsBotDrw     FanPmpSpd    FlBxHdrVac  \\\n",
       "count  2.045800e+04  2.045800e+04  2.045800e+04  2.045800e+04  2.045800e+04   \n",
       "mean  -4.796007e-10  4.975410e-11 -9.036595e-11  3.753557e-10 -3.760881e-10   \n",
       "std    8.061252e-01  5.711631e+00  4.657300e+00  5.678789e+01  9.574867e-01   \n",
       "min   -3.228480e+00 -2.367836e+02 -1.241132e+01 -5.794127e+02 -2.333211e+00   \n",
       "25%   -5.051673e-01 -4.784303e+00 -2.731976e+00  2.505463e+00 -7.307635e-01   \n",
       "50%   -2.303418e-01  8.980784e-02  6.126950e-01  7.166763e+00 -2.759455e-01   \n",
       "75%    7.755482e-01  4.219877e+00  2.589141e+00  1.043187e+01  6.222307e-01   \n",
       "max    1.771673e+00  2.741785e+01  1.095846e+02  1.976769e+01  3.917840e+00   \n",
       "\n",
       "          FlatBxVac     Grade&Bwt    UnblGWDFlo      Hdbox pH    HdBxLiqLvl  \\\n",
       "count  2.045800e+04  20458.000000  2.045800e+04  2.045800e+04  2.045800e+04   \n",
       "mean   2.906303e-10     99.724607 -1.480006e-08  1.130018e-10 -4.522436e-10   \n",
       "std    4.381534e-01     16.776643  1.278716e+02  8.464996e-02  1.255287e-01   \n",
       "min   -1.807603e+00     51.000000 -2.283022e+02 -2.628924e-01 -5.391169e-01   \n",
       "25%   -2.369190e-01     84.000000 -9.937926e+01 -8.058694e-02 -7.008686e-02   \n",
       "50%    1.047410e-01     96.000000  1.561666e+01  5.704756e-02 -2.967863e-03   \n",
       "75%    3.713838e-01    112.000000  8.638068e+01  6.853531e-02  7.017589e-02   \n",
       "max    1.165952e+00    139.000000  3.126350e+02  6.332166e-01  5.185321e-01   \n",
       "\n",
       "           TotHead\"    HorzSlcPos     KraftFlow     CouchLoad    C1MoSprdCD  \\\n",
       "count  2.045800e+04  2.045800e+04  2.045800e+04  2.045800e+04  2.045800e+04   \n",
       "mean   3.431373e-10  1.714727e-10  1.883570e-09  1.500841e-10 -4.265126e-10   \n",
       "std    5.926233e+01  1.050234e-03  7.690507e+01  1.822667e+00  2.661529e-01   \n",
       "min   -6.083729e+02 -1.809348e-03 -5.086389e+02 -4.764285e+00 -9.451989e-01   \n",
       "25%    3.794520e+00 -9.903480e-04 -6.802663e+01 -7.602571e-01 -1.651459e-01   \n",
       "50%    5.303706e+00  2.606520e-04  2.342210e+01 -9.291808e-02 -1.529995e-02   \n",
       "75%    7.648569e+00  5.666520e-04  5.923498e+01  1.241757e+00  1.247801e-01   \n",
       "max    1.215789e+01  2.292652e-03  1.432365e+02  6.829778e+00  6.258630e+00   \n",
       "\n",
       "         RSMoSprdCD    C1MoSprdMD    RSMoSprdMD    RL MoisAct    PrScrRjFlo  \\\n",
       "count  2.045800e+04  2.045800e+04  2.045800e+04  2.045800e+04  2.045800e+04   \n",
       "mean   4.927157e-10  3.159352e-10  4.644636e-10 -4.412949e-10 -4.462307e-11   \n",
       "std    2.794558e-01  2.054231e-01  1.925144e-01  9.257905e-01  4.869099e+00   \n",
       "min   -1.706928e+00 -1.471184e-01 -1.638529e-01 -5.700757e+00 -5.818343e+01   \n",
       "25%   -1.770352e-01 -8.699739e-02 -1.037319e-01 -2.007112e-01 -2.986869e+00   \n",
       "50%   -1.681324e-02 -5.176789e-02 -5.398588e-02  2.793448e-01 -6.984633e-02   \n",
       "75%    1.784008e-01  3.637358e-03  1.549912e-02  3.791398e-01  3.008553e+00   \n",
       "max    9.231568e-01  5.344958e+00  2.756158e+00  1.069164e+00  5.319694e+01   \n",
       "\n",
       "           RwBrkFlo    RcycFbrFlo    RetnAidFlo     RUSH DRAG     Rush/Drag  \\\n",
       "count  2.045800e+04  2.045800e+04  2.045800e+04  2.045800e+04  2.045800e+04   \n",
       "mean  -3.363126e-09 -3.675240e-10 -3.343282e-07 -2.386152e-10  1.018681e-10   \n",
       "std    5.650546e+01  4.709512e+00  2.373620e+03  3.827783e+00  7.363803e-01   \n",
       "min   -3.959277e+01 -6.327275e-01 -3.768477e+03 -2.753966e+00 -2.453742e+00   \n",
       "25%   -3.899143e+01 -6.327275e-01 -3.086211e+03 -8.203275e-01 -4.505070e-01   \n",
       "50%   -3.650791e+01 -6.327275e-01  8.882276e+02 -4.604270e-01 -1.060740e-01   \n",
       "75%    3.027706e+01 -6.327275e-01  2.237097e+03 -2.246496e-02  3.405320e-01   \n",
       "max    2.381357e+02  4.248448e+01  4.051738e+03  3.859286e+01  9.591302e+00   \n",
       "\n",
       "          SilicaFlo    HBxSlcTemp    SodAlumFlo      CouchSpd       MachSpd  \\\n",
       "count  2.045800e+04  2.045800e+04  2.045800e+04  2.045800e+04  2.045800e+04   \n",
       "mean   7.218659e-09 -4.472109e-10  1.083245e-08 -4.022267e-10  1.057937e-09   \n",
       "std    7.035301e+01  1.045235e+00  1.035970e+02  6.550561e+00  3.304094e+02   \n",
       "min   -8.024558e+02 -5.484846e+00 -4.507443e+02 -2.344899e+01 -3.652989e+03   \n",
       "25%   -2.192335e+01 -1.823616e-02 -6.618082e+01 -4.319896e+00  2.998462e+01   \n",
       "50%    2.992816e+01  4.444309e-02  9.982658e+00 -1.680431e+00  2.998462e+01   \n",
       "75%    4.419434e+01  1.000391e-01  7.246865e+01  4.715260e+00  2.998462e+01   \n",
       "max    1.413228e+02  4.003038e+00  5.334105e+02  1.782885e+01  4.015235e+01   \n",
       "\n",
       "         1PrsTopSpd    4PrsBotSpd    WtNStarFlo     BasWgtFlo      TMP Flow  \\\n",
       "count  2.045800e+04  2.045800e+04  2.045800e+04  2.045800e+04  2.045800e+04   \n",
       "mean   6.115555e-11 -5.653446e-10 -3.799060e-10  9.841947e-10 -2.829806e-09   \n",
       "std    6.049953e+00  1.349154e+01  3.093382e+00  6.729890e+01  8.251883e+01   \n",
       "min   -1.879434e+02 -1.817596e+03 -8.210370e+00 -2.305740e+02 -2.690395e+02   \n",
       "25%   -4.144668e+00 -2.736027e+00 -4.824553e+00 -4.251086e+01 -5.392365e+01   \n",
       "50%   -1.172806e+00 -4.750409e-01  6.311626e-01  1.537500e+01 -1.597230e+01   \n",
       "75%    4.262131e+00  3.075436e+00  2.660704e+00  4.217261e+01  5.444663e+01   \n",
       "max    1.418059e+01  1.114801e+01  6.637265e+00  2.872520e+02  2.521475e+02   \n",
       "\n",
       "         HBxTotHead      TrayCons   UpprHdTmpRL    VertSlcPos    EventPress  \n",
       "count  2.045800e+04  2.045800e+04  2.045800e+04  2.045800e+04  20458.000000  \n",
       "mean  -2.358813e-10  3.002738e-10 -3.317807e-10  6.318039e-11      0.000978  \n",
       "std    2.345617e+00  4.665090e-02  9.859455e+00  5.867505e-03      0.031252  \n",
       "min   -1.264037e+01 -1.497897e-01 -1.008105e+02 -1.448822e-02      0.000000  \n",
       "25%   -1.983326e+00  2.113508e-03  2.862190e-01 -2.857222e-03      0.000000  \n",
       "50%   -4.909555e-01  1.371576e-02  7.052215e-01  1.822780e-04      0.000000  \n",
       "75%    1.916942e+00  2.081001e-02  1.222019e+00  3.280278e-03      0.000000  \n",
       "max    6.922008e+00  6.724926e-02  6.985460e+00  2.050978e-02      1.000000  "
      ]
     },
     "execution_count": 7,
     "metadata": {},
     "output_type": "execute_result"
    }
   ],
   "source": [
    "papermf.describe().transpose().T  # change the rows and columns"
   ]
  },
  {
   "cell_type": "markdown",
   "metadata": {
    "_cell_guid": "e38ddf38-d027-4eae-95c8-749f8f40db43",
    "_uuid": "1e287038acf96fc6d6825e77ba97b03f0824be0a"
   },
   "source": [
    "### Imbalanced Data\n",
    "\n",
    "A rare event problem by definition has imbalanced data. The issue with imbalanced data sets is that the model is heavily skewed towards the majority class. In such situations, learning the underlying patterns predictive of the rare event becomes difficult.  \n",
    "\n",
    "A typical resolution to address the imbalanced data issue is oversampling. Oversampling, however, does not work in most rare event problems. This is because, \n",
    ">a. extreme imbalance in class distribution, and   \n",
    ">b. time series data.  \n",
    "\n",
    "The former typically make resampling approaches inapplicable because it requires excessive resampling to balance the data. This causes the model to get extremely biased.  \n",
    "\n",
    "The latter prohibits the usage of more sophisticated oversampling techniques, such as SMOTE. This is because samples “interpolation” for data synthesis done in SMOTE takes into account the spatial aspect of\n",
    "the process but not temporal. Due to this, the synthesized data does not necessarily accentuate or retain the underlying predictive patterns.  \n",
    "\n",
    "The temporal aspect of our problem also prohibits the use of most other data augmentation approaches. In problems like image classification, techniques such as reorientation and rotation augment the data. But with temporal features, any such augmentation distorts the data and, consequently, the inherent dependencies. Time series data augmentation methods using slicing and time warping are available but they do not work well with multivariate time series."
   ]
  },
  {
   "cell_type": "code",
   "execution_count": 8,
   "metadata": {},
   "outputs": [
    {
     "data": {
      "text/plain": [
       "0    0.993401\n",
       "1    0.006599\n",
       "Name: SheetBreak, dtype: float64"
      ]
     },
     "execution_count": 8,
     "metadata": {},
     "output_type": "execute_result"
    }
   ],
   "source": [
    "papermf['SheetBreak'].value_counts(normalize=True)"
   ]
  },
  {
   "cell_type": "code",
   "execution_count": 9,
   "metadata": {},
   "outputs": [
    {
     "data": {
      "text/plain": [
       "<AxesSubplot:>"
      ]
     },
     "execution_count": 9,
     "metadata": {},
     "output_type": "execute_result"
    },
    {
     "data": {
      "image/png": "[encoded data removed]",
      "text/plain": [
       "<Figure size 576x432 with 1 Axes>"
      ]
     },
     "metadata": {},
     "output_type": "display_data"
    }
   ],
   "source": [
    "plt.rcParams['figure.figsize'] = 8,6\n",
    "papermf['SheetBreak'].hist()"
   ]
  },
  {
   "cell_type": "code",
   "execution_count": 10,
   "metadata": {},
   "outputs": [],
   "source": [
    "to_drop = ['DateTime']"
   ]
  },
  {
   "cell_type": "code",
   "execution_count": 11,
   "metadata": {},
   "outputs": [],
   "source": [
    "papermf = papermf.drop(to_drop, axis = 1)"
   ]
  },
  {
   "cell_type": "code",
   "execution_count": 12,
   "metadata": {},
   "outputs": [
    {
     "name": "stdout",
     "output_type": "stream",
     "text": [
      "Class 0: 20323\n",
      "Class 1: 135\n",
      "Proportion of 1s vs 0s: 150.54 : 1\n"
     ]
    },
    {
     "data": {
      "image/png": "[encoded data removed]",
      "text/plain": [
       "<Figure size 576x432 with 1 Axes>"
      ]
     },
     "metadata": {},
     "output_type": "display_data"
    }
   ],
   "source": [
    "# Review Target Variable\n",
    "\n",
    "target_count = papermf.SheetBreak.value_counts()\n",
    "print('Class 0:', target_count[0])\n",
    "print('Class 1:', target_count[1])\n",
    "\n",
    "# Calculate the proportion of the 0S Over 1s\n",
    "print('Proportion of 1s vs 0s:', round(target_count[0] / target_count[1], 2), ': 1')\n",
    "# print('Proportion of 0s:', round(target_count[0] / len(papermf), 2), ': 1')\n",
    "# print('Proportion of 1s:', round(target_count[1] / len(papermf), 2), ': 1')\n",
    "\n",
    "# Plot the Target distibution\n",
    "target_count.plot(kind='bar', title='Count (target)');"
   ]
  },
  {
   "cell_type": "markdown",
   "metadata": {},
   "source": [
    "<h2 id=\"t1\" style=\"margin-bottom: 18px\">Data Preprocessing</h2>\n",
    "\n",
    "The objective is to predict a rare event in advance to prevent it, or its consequences.   \n",
    "\n",
    "From a modeling standpoint, this translates to teaching the model to identify a transitional phase that would lead to a rare event.   \n",
    "\n",
    "For example, in the sheet-break problem, a transitional phase could be the speed of one of the rollers (in Figure 1.1) drifting away and rising in comparison to the other rollers. Such asynchronous change stretches the paper sheet. If this continues, the sheet’s tension increases and ultimately causes a break.   \n",
    "\n",
    "The sheet break would typically happen a few minutes after the drift starts. Therefore, if the model is taught to identify the start of the drift it can predict the break in advance."
   ]
  },
  {
   "cell_type": "code",
   "execution_count": 13,
   "metadata": {},
   "outputs": [],
   "source": [
    "# Hot encoding\n",
    "hotencoding1 = pd.get_dummies(papermf['Grade&Bwt'])\n",
    "hotencoding1 = hotencoding1.add_prefix ('grade_')\n",
    "hotencoding2 = pd.get_dummies(papermf['EventPress'])\n",
    "hotencoding2 = hotencoding2.add_prefix ('eventpress_')\n",
    "\n",
    "papermf = papermf.drop(['Grade&Bwt', 'EventPress'], axis =1)\n",
    "\n",
    "papermf = pd.concat([papermf , hotencoding1 , hotencoding2 ],axis =1)"
   ]
  },
  {
   "cell_type": "code",
   "execution_count": 14,
   "metadata": {},
   "outputs": [],
   "source": [
    "# Calculate Correlation\n",
    "corr_matrix = papermf.corr()"
   ]
  },
  {
   "cell_type": "code",
   "execution_count": 15,
   "metadata": {},
   "outputs": [
    {
     "data": {
      "image/png": "[encoded data removed]",
      "text/plain": [
       "<Figure size 1440x720 with 2 Axes>"
      ]
     },
     "metadata": {},
     "output_type": "display_data"
    }
   ],
   "source": [
    "# Correlation Matrix Plot\n",
    "\n",
    "import seaborn\n",
    "\n",
    "plt.rcParams['figure.figsize'] = 20,10  # control plot size\n",
    "\n",
    "corr_matrix = papermf.corr()\n",
    "seaborn.heatmap(corr_matrix )\n",
    "plt.show()"
   ]
  },
  {
   "cell_type": "markdown",
   "metadata": {},
   "source": [
    "This is basically a bivariate version of the *Kernel Density Plot* discussed earlier.\n",
    "\n",
    "##### Scatterplot matrix\n",
    "\n",
    "In some cases, we may want to plot a *scatterplot matrix* such as the one shown below. Its diagonal contains the distributions of the corresponding variables, and the scatter plots for each pair of variables fill the rest of the matrix."
   ]
  },
  {
   "cell_type": "code",
   "execution_count": 16,
   "metadata": {},
   "outputs": [],
   "source": [
    "# #`pairplot()` may become very slow with the SVG format\n",
    "# import seaborn as sns\n",
    "# %config InlineBackend.figure_format = 'png'\n",
    "# sns.pairplot(papermf);"
   ]
  },
  {
   "cell_type": "markdown",
   "metadata": {},
   "source": [
    "<h2 id=\"t1\" style=\"margin-bottom: 18px\">Machine Learning</h2>"
   ]
  },
  {
   "cell_type": "code",
   "execution_count": 17,
   "metadata": {},
   "outputs": [],
   "source": [
    " X = papermf.drop('SheetBreak', axis = 1)\n",
    " y = papermf.SheetBreak"
   ]
  },
  {
   "cell_type": "code",
   "execution_count": 18,
   "metadata": {},
   "outputs": [],
   "source": [
    "# Splitting the dataset into the Training set and Test set\n",
    "from sklearn.model_selection import train_test_split\n",
    "\n",
    "training_features, test_features, \\\n",
    "training_target, test_target, = train_test_split(papermf.drop('SheetBreak', axis = 1),\n",
    "                                               papermf.SheetBreak,\n",
    "                                               test_size = .2,\n",
    "                                               random_state=12)\n"
   ]
  },
  {
   "cell_type": "code",
   "execution_count": 19,
   "metadata": {},
   "outputs": [],
   "source": [
    "# Confusion Matrix\n",
    "from sklearn.model_selection import cross_val_score, cross_val_predict\n",
    "from sklearn.metrics import accuracy_score, classification_report, confusion_matrix"
   ]
  },
  {
   "cell_type": "code",
   "execution_count": 20,
   "metadata": {},
   "outputs": [],
   "source": [
    "# # Using a Dummy Classifier\n",
    "\n",
    "# from sklearn.dummy import DummyClassifier\n",
    "# dummy_baseline = DummyClassifier(strategy=\"most_frequent\")\n",
    "# dummy_baseline.fit(test_features, test_target)\n",
    "\n",
    "# DummyClf = dummy_baseline.score(test_features, test_target)\n"
   ]
  },
  {
   "cell_type": "code",
   "execution_count": 21,
   "metadata": {},
   "outputs": [],
   "source": [
    "# DecisionTreeModel  = DecisionTreeClassifier(criterion = 'entropy', random_state = 45)\n",
    "# NBModel            = GaussianNB()\n",
    "# LRModel            = LogisticRegression(random_state = 45)\n",
    "# SVMModel           = SVC(kernel = 'linear', random_state = 45)\n",
    "# KSVMModel          = SVC(kernel = 'rbf', random_state = 0)\n",
    "# RFModel            = RandomForestClassifier( n_estimators=80, max_features=7, oob_score= True, random_state= 42)\n",
    "# BModel             = BaggingClassifier(tree.DecisionTreeClassifier(random_state=45), n_estimators = 99)\n",
    "# ADBModel           = AdaBoostClassifier(random_state=42 , n_estimators=  53, learning_rate = .7, algorithm = 'SAMME.R')\n",
    "# GBModel            = GradientBoostingClassifier()\n",
    "# ExTrModel          = ExtraTreesClassifier()\n",
    "# KNNModel           = KNeighborsClassifier(n_neighbors = 57)#  , metric = 'minkowski', p = 2"
   ]
  },
  {
   "cell_type": "code",
   "execution_count": 22,
   "metadata": {},
   "outputs": [],
   "source": [
    "# DecisionTreeModel.fit(training_features, training_target)\n",
    "# NBModel.fit(training_features, training_target)\n",
    "# LRModel.fit(training_features, training_target)\n",
    "# SVMModel.fit(training_features, training_target)\n",
    "# KSVMModel.fit(training_features, training_target)\n",
    "# RFModel.fit(training_features, training_target)\n",
    "# BModel.fit(training_features, training_target)\n",
    "# ADBModel.fit(training_features, training_target)\n",
    "# GBModel.fit(training_features, training_target)\n",
    "# ExTrModel.fit(training_features, training_target)\n",
    "# KNNModel.fit(training_features, training_target)"
   ]
  },
  {
   "cell_type": "code",
   "execution_count": 23,
   "metadata": {},
   "outputs": [],
   "source": [
    "# DT_Pred = DecisionTreeModel.predict(test_features)\n",
    "# NB_pred = NBModel.predict(test_features)\n",
    "# LR_pred =LRModel.predict(test_features)\n",
    "# SVM_pred = SVMModel.predict(test_features)\n",
    "# KSVM_pred = KSVMModel.predict(test_features)\n",
    "# RF_pred = RFModel.predict(test_features)\n",
    "# Bagg_pred = BModel.predict(test_features)\n",
    "# ADB_pred = ADBModel.predict(test_features)\n",
    "# GB_pred = GBModel.predict(test_features)\n",
    "# ExTr_pred = ExTrModel.predict(test_features)\n",
    "# KNN_pred = KNNModel.predict(test_features)"
   ]
  },
  {
   "cell_type": "code",
   "execution_count": 24,
   "metadata": {},
   "outputs": [],
   "source": [
    "# ADT= accuracy_score(test_target, DT_Pred)\n",
    "# ACNB= accuracy_score(test_target, NB_pred)\n",
    "# ACLR= accuracy_score(test_target, LR_pred )\n",
    "# ACSVM= accuracy_score(test_target, SVM_pred )\n",
    "# ACKSVM= accuracy_score(test_target, KSVM_pred)\n",
    "# ACRF= accuracy_score(test_target, RF_pred )\n",
    "# ACBagg= accuracy_score(test_target, Bagg_pred )\n",
    "# CMADB= confusion_matrix(test_target, ADB_pred)\n",
    "# ACGB= accuracy_score(test_target, GB_pred )\n",
    "# ACExTr= accuracy_score(test_target, ExTr_pred )\n",
    "# ACKNN= accuracy_score(test_target, KNN_pred )"
   ]
  },
  {
   "cell_type": "code",
   "execution_count": 25,
   "metadata": {},
   "outputs": [],
   "source": [
    "# # Accuracy Score\n",
    "# print(\" Random Prediction on frequency                            : {:.2f}%\".format(score * 100))\n",
    "# print(\" Naive Byes Prediction Accuracy                            : {:.2f}%\".format(ACNB    *   100))\n",
    "# print(\" Ensemble - Ada-Boost Prediction Accuracy                  : {:.2f}%\".format(ACADB * 100)) \n",
    "# print(\" Ensemble - Bagging Prediction Accuracy                    : {:.2f}%\".format(ACBagg * 100))\n",
    "# print(\" Ridge Classifier Prediction Accuracy                      : {:.2f}%\".format(ACRC * 100))\n",
    "# print(\" Decision Tree Prediction Accuracy                         : {:.2f}%\".format(ADT * 100))\n",
    "# print(\" Ensemble - ExtraTrees Prediction Accuracy                 : {:.2f}%\".format(ACExTr * 100))\n",
    "# print(\" Random Forest Prediction Accuracy                         : {:.2f}%\".format(ACRF * 100))\n",
    "# print(\" Logistic Regression Prediction Accuracy                   : {:.2f}%\".format(ACLR    *   100))\n",
    "# print(\" Support Vector Machine Prediction Accuracy                : {:.2f}%\".format(ACSVM   *   100))\n",
    "# print(\" Ensemble - Gradient Boosting Prediction Accuracy          : {:.2f}%\".format(ACGB * 100))\n",
    "# print(\" K-Support Vector Machine Prediction Accuracy              : {:.2f}%\".format(ACKSVM  *   100))\n"
   ]
  },
  {
   "cell_type": "code",
   "execution_count": 26,
   "metadata": {},
   "outputs": [
    {
     "name": "stdout",
     "output_type": "stream",
     "text": [
      "LRM    : 0.994806 (0.000432)\n",
      "LDA    : 0.994806 (0.000274)\n",
      "KNN    : 0.993890 (0.000001)\n",
      "CART   : 0.994990 (0.000566)\n",
      "GNB    : 0.705866 (0.102531)\n",
      "SVM    : 0.994867 (0.000829)\n",
      "KSVM   : 0.993890 (0.000001)\n",
      "ABM    : 0.995295 (0.000834)\n",
      "GBM    : 0.994928 (0.000739)\n",
      "RFM    : 0.995784 (0.000708)\n",
      "ExT    : 0.994806 (0.000274)\n"
     ]
    }
   ],
   "source": [
    "#from sklearn.model_selection import KFold\n",
    "from sklearn import model_selection\n",
    "\n",
    "# Spot Check Algorithms\n",
    "scoring = 'accuracy'\n",
    "models = []\n",
    "models.append(('LRM  ', LogisticRegression(random_state = 45, solver='newton-cg', max_iter=1000)))\n",
    "models.append(('LDA  ', LinearDiscriminantAnalysis()))\n",
    "models.append(('KNN  ', KNeighborsClassifier(n_neighbors = 57  , metric = 'minkowski', p = 2)))\n",
    "models.append(('CART ', DecisionTreeClassifier(criterion = 'entropy', random_state = 45)))\n",
    "models.append(('GNB  ', GaussianNB()))\n",
    "models.append(('SVM  ', SVC(kernel = 'linear', random_state = 45)))\n",
    "models.append(('KSVM ', SVC(kernel = 'rbf', random_state = 45)))\n",
    "models.append(('ABM  ', AdaBoostClassifier(random_state=42 , n_estimators=  53, learning_rate = .7, algorithm = 'SAMME.R')))\n",
    "models.append(('GBM  ', GradientBoostingClassifier()))\n",
    "models.append(('RFM  ', RandomForestClassifier(n_estimators=80, max_features=7, oob_score= True, random_state= 42)))\n",
    "models.append(('ExT  ', ExtraTreesClassifier()))\n",
    "results = []\n",
    "names = []\n",
    "for name, model in models:\n",
    "    cv_results = model_selection.cross_val_score(model, training_features, training_target,  scoring=scoring)\n",
    "    results.append(cv_results)\n",
    "    names.append(name)\n",
    "    msg = \"%s  : %f (%f)\" % (name, cv_results.mean(), cv_results.std())\n",
    "    print(msg)"
   ]
  },
  {
   "cell_type": "code",
   "execution_count": 27,
   "metadata": {},
   "outputs": [
    {
     "data": {
      "image/png": "[encoded data removed]",
      "text/plain": [
       "<Figure size 720x432 with 1 Axes>"
      ]
     },
     "metadata": {},
     "output_type": "display_data"
    }
   ],
   "source": [
    "# Compare Algorithms\n",
    "fig = plt.figure(figsize=(10, 6))\n",
    "fig.suptitle('Algorithm Comparison')\n",
    "ax = fig.add_subplot(111)\n",
    "plt.boxplot(results)\n",
    "ax.set_xticklabels(names)\n",
    "plt.show()"
   ]
  },
  {
   "cell_type": "markdown",
   "metadata": {
    "_cell_guid": "c91f9c5d-05d2-478e-9dfb-1cb848bc0fe4",
    "_uuid": "8683656d1bfdef6b5c0c623597dcbc4160a0edc1"
   },
   "source": [
    "<h2 id=\"t2\" style=\"margin-bottom: 18px\">The metric trap</h2>\n",
    "\n",
    "One of the major issues that novice users fall into when dealing with unbalanced datasets relates to the metrics used to evaluate their model. Using simpler metrics like <code>accuracy_score</code> can be misleading. In a dataset with highly unbalanced classes, if the classifier always \"predicts\" the most common class without performing any analysis of the features, it will still have a high accuracy rate, obviously illusory.\n",
    "\n",
    "Let's do this experiment, using simple cross-validation and no feature engineering:"
   ]
  },
  {
   "cell_type": "markdown",
   "metadata": {
    "_cell_guid": "68d4ffaf-4412-4ff3-a9cd-38bea195da3b",
    "_uuid": "d9d8b57f458bdd107ae08b76b0008d80e0674d97"
   },
   "source": [
    "As we can see, the high accuracy rate was just an illusion. In this way, the choice of the metric used in unbalanced datasets is extremely important. In this competition, the evaluation metric is the Normalized Gini Coefficient, a more robust metric for imbalanced datasets, that ranges from approximately 0 for random guessing, to approximately 0.5 for a perfect score."
   ]
  },
  {
   "cell_type": "code",
   "execution_count": 28,
   "metadata": {
    "_cell_guid": "0efbfb8a-76ab-4a86-b093-25271dcfcc06",
    "_uuid": "6d33cfa94ebb019b7c3065ea5f5dbe99ae52aeb1"
   },
   "outputs": [
    {
     "name": "stdout",
     "output_type": "stream",
     "text": [
      "Accuracy: 99.58%\n"
     ]
    }
   ],
   "source": [
    "RFModel = RandomForestClassifier( n_estimators=80, max_features=7, oob_score= True, random_state= 42)\n",
    "RFModel.fit(training_features, training_target)\n",
    "RF_pred = RFModel.predict(test_features)\n",
    "ACRF= accuracy_score(test_target, RF_pred )\n",
    "\n",
    "print(\"Accuracy: %.2f%%\" % (ACRF * 100.0))\n",
    "\n"
   ]
  },
  {
   "cell_type": "markdown",
   "metadata": {
    "_cell_guid": "e53e9f0f-8888-4fd9-b0d8-3bc937448162",
    "_uuid": "a176bd80315afd0f7c21fd26ab1841867a5eb7d0"
   },
   "source": [
    "<h2 id=\"t3\" style=\"margin-bottom: 18px\">Confusion matrix</h2>\n",
    "\n",
    "An interesting way to evaluate the results is by means of a confusion matrix, which shows the correct and incorrect predictions for each class. In the first row, the first column indicates how many classes 0 were predicted correctly, and the second column, how many classes 0 were predicted as 1. In the second row, we note that all class 1 entries were erroneously predicted as class 0.\n",
    "\n",
    "Therefore, the higher the diagonal values of the confusion matrix the better, indicating many correct predictions."
   ]
  },
  {
   "cell_type": "code",
   "execution_count": 29,
   "metadata": {
    "_cell_guid": "394daa2b-700c-45fc-99d7-db08245a7697",
    "_uuid": "39c3256de9817f64c9ae47de5f1f78531d373015"
   },
   "outputs": [
    {
     "name": "stdout",
     "output_type": "stream",
     "text": [
      "Confusion matrix:\n",
      " [[4057    0]\n",
      " [  17   18]]\n"
     ]
    },
    {
     "data": {
      "image/png": "[encoded data removed]",
      "text/plain": [
       "<Figure size 1440x720 with 2 Axes>"
      ]
     },
     "metadata": {},
     "output_type": "display_data"
    }
   ],
   "source": [
    "from sklearn.metrics import confusion_matrix\n",
    "from matplotlib import pyplot as plt\n",
    "\n",
    "conf_mat = confusion_matrix(y_true = test_target, y_pred = RF_pred)\n",
    "print('Confusion matrix:\\n', conf_mat)\n",
    "\n",
    "labels = ['Class 0', 'Class 1']\n",
    "fig = plt.figure()\n",
    "ax = fig.add_subplot(111)\n",
    "#cax = ax.matshow(conf_mat, cmap=plt.cm.Blues)\n",
    "# fig.colorbar(cax)\n",
    "# ax.set_xticklabels([''] + labels)\n",
    "# ax.set_yticklabels([''] + labels)\n",
    "sns.heatmap(conf_mat/np.sum(conf_mat), annot=True, fmt='.2%', cmap='Blues')\n",
    "plt.xlabel('Predicted')\n",
    "plt.ylabel('Expected')\n",
    "plt.show()"
   ]
  },
  {
   "cell_type": "markdown",
   "metadata": {
    "_cell_guid": "b27346eb-7bf3-4360-993a-fb91e62bb937",
    "_uuid": "875f5ab3b5afcdaf3c7754ce957cb01fd32bf65c"
   },
   "source": [
    "<h2 id=\"t4\" style=\"margin-bottom: 18px\">Resampling</h2>\n",
    "\n",
    "A widely adopted technique for dealing with highly unbalanced datasets is called resampling. It consists of removing samples from the majority class (under-sampling) and / or adding more examples from the minority class (over-sampling)."
   ]
  },
  {
   "cell_type": "markdown",
   "metadata": {
    "_cell_guid": "03d31a16-7b66-4096-88d7-d548db734390",
    "_uuid": "2232ac0fb192a468486b400846f88913a36957e6"
   },
   "source": [
    "![](https://raw.githubusercontent.com/rafjaa/machine_learning_fecib/master/src/static/img/resampling.png)"
   ]
  },
  {
   "cell_type": "markdown",
   "metadata": {
    "_cell_guid": "0df1a3f3-49ff-4ada-80f1-198bbbd79525",
    "_uuid": "67e203e0919c818e871650ef194fe497df2d39b5"
   },
   "source": [
    "Despite the advantage of balancing classes, these techniques also have their weaknesses (there is no free lunch). The simplest implementation of over-sampling is to duplicate random records from the minority class, which can cause overfitting. In under-sampling, the simplest technique involves removing random records from the majority class, which can cause loss of information.\n",
    "\n",
    "Let's implement a basic example, which uses the <code>DataFrame.sample</code> method to get random samples each class:"
   ]
  },
  {
   "cell_type": "code",
   "execution_count": 30,
   "metadata": {
    "_cell_guid": "2adbc1c9-8cdf-43d9-9a57-f24f503ba523",
    "_uuid": "f959c30be59ad1eccaed33f48a35d99be053b547"
   },
   "outputs": [],
   "source": [
    "# Class count\n",
    "#df_train = papermf\n",
    "count_class_0, count_class_1 = papermf.SheetBreak.value_counts()\n",
    "\n",
    "# Divide by class\n",
    "df_class_0 = papermf[papermf['SheetBreak'] == 0]\n",
    "df_class_1 = papermf[papermf['SheetBreak'] == 1]"
   ]
  },
  {
   "cell_type": "code",
   "execution_count": 31,
   "metadata": {},
   "outputs": [
    {
     "name": "stdout",
     "output_type": "stream",
     "text": [
      "20323\n",
      "135\n"
     ]
    }
   ],
   "source": [
    "print(count_class_0)\n",
    "print(count_class_1)"
   ]
  },
  {
   "cell_type": "markdown",
   "metadata": {
    "_cell_guid": "152ea73a-aa23-4fd2-a3f5-1f55c69041ae",
    "_uuid": "b765be76a182930feb650b01dd4d1de90501bbce"
   },
   "source": [
    "<h2 id=\"t5\">Random under-sampling</h2>"
   ]
  },
  {
   "cell_type": "code",
   "execution_count": 32,
   "metadata": {},
   "outputs": [
    {
     "data": {
      "text/plain": [
       "(135, 70)"
      ]
     },
     "execution_count": 32,
     "metadata": {},
     "output_type": "execute_result"
    }
   ],
   "source": [
    "df_class_0_under = df_class_0.sample(count_class_1)\n",
    "df_class_0_under.shape"
   ]
  },
  {
   "cell_type": "code",
   "execution_count": 33,
   "metadata": {
    "_cell_guid": "a0e61bc8-cef1-4828-9c5f-49c1c50c522c",
    "_uuid": "2a667d73560fb6408897835809a9d67310b45323"
   },
   "outputs": [
    {
     "name": "stdout",
     "output_type": "stream",
     "text": [
      "Random under-sampling:\n",
      "0    135\n",
      "1    135\n",
      "Name: SheetBreak, dtype: int64\n"
     ]
    },
    {
     "data": {
      "image/png": "[encoded data removed]",
      "text/plain": [
       "<Figure size 1440x720 with 1 Axes>"
      ]
     },
     "metadata": {},
     "output_type": "display_data"
    }
   ],
   "source": [
    "df_class_0_under = df_class_0.sample(count_class_1)\n",
    "df_test_under = pd.concat([df_class_0_under, df_class_1], axis=0)\n",
    "\n",
    "print('Random under-sampling:')\n",
    "print(df_test_under.SheetBreak.value_counts())\n",
    "\n",
    "df_test_under.SheetBreak.value_counts().plot(kind='bar', title='Count (SheetBreak)');"
   ]
  },
  {
   "cell_type": "code",
   "execution_count": 34,
   "metadata": {},
   "outputs": [],
   "source": [
    " X = df_test_under.drop('SheetBreak', axis = 1)\n",
    " y = df_test_under.SheetBreak"
   ]
  },
  {
   "cell_type": "code",
   "execution_count": 35,
   "metadata": {},
   "outputs": [],
   "source": [
    "# Splitting the dataset into the Training set and Test set\n",
    "from sklearn.model_selection import train_test_split\n",
    "\n",
    "training_features_under, test_features_under, \\\n",
    "training_target_under, test_target_under, = train_test_split(df_test_under.drop('SheetBreak', axis = 1),\n",
    "                                               df_test_under.SheetBreak,\n",
    "                                               test_size = .2,\n",
    "                                               random_state=12)\n"
   ]
  },
  {
   "cell_type": "code",
   "execution_count": 36,
   "metadata": {
    "_cell_guid": "bd97a34a-8e27-4eb2-a552-fe21f860dd15",
    "_uuid": "5c7c4e3f364c664f52d04d24f948cc416d2d7e4c"
   },
   "outputs": [
    {
     "name": "stdout",
     "output_type": "stream",
     "text": [
      " Logistic Regression Prediction Accuracy Under              : 98.15%\n"
     ]
    }
   ],
   "source": [
    "RFModelUnder = RandomForestClassifier( n_estimators=80, max_features=7, oob_score= True, random_state= 42)\n",
    "\n",
    "RFModelUnder.fit(training_features_under, training_target_under)\n",
    "RF_predUnder =RFModelUnder.predict(test_features_under)\n",
    "\n",
    "\n",
    "ACRFUnder = accuracy_score(test_target_under, RF_predUnder)\n",
    "print(\" Logistic Regression Prediction Accuracy Under              : {:.2f}%\".format(ACRFUnder * 100))"
   ]
  },
  {
   "cell_type": "code",
   "execution_count": 37,
   "metadata": {},
   "outputs": [
    {
     "name": "stdout",
     "output_type": "stream",
     "text": [
      "LRM    : 0.787104 (0.053516)\n",
      "LDA    : 0.736152 (0.068146)\n",
      "KNN    : 0.523044 (0.052940)\n",
      "CART   : 0.805497 (0.045775)\n",
      "GNB    : 0.666808 (0.083295)\n",
      "KSVM   : 0.532135 (0.059504)\n",
      "ABM    : 0.768922 (0.068623)\n",
      "GBM    : 0.805814 (0.035953)\n",
      "RFM    : 0.805603 (0.031180)\n",
      "ExT    : 0.773150 (0.027022)\n"
     ]
    }
   ],
   "source": [
    "#from sklearn.model_selection import KFold\n",
    "from sklearn import model_selection\n",
    "\n",
    "# Spot Check Algorithms\n",
    "scoring = 'accuracy'\n",
    "models = []\n",
    "models.append(('LRM  ', LogisticRegression(random_state = 45, solver='newton-cg', max_iter=1000)))\n",
    "models.append(('LDA  ', LinearDiscriminantAnalysis()))\n",
    "models.append(('KNN  ', KNeighborsClassifier(n_neighbors = 57  , metric = 'minkowski', p = 2)))\n",
    "models.append(('CART ', DecisionTreeClassifier(criterion = 'entropy', random_state = 45)))\n",
    "models.append(('GNB  ', GaussianNB()))\n",
    "#models.append(('SVM  ', SVC(kernel = 'linear', random_state = 45)))\n",
    "models.append(('KSVM ', SVC(kernel = 'rbf', random_state = 45)))\n",
    "models.append(('ABM  ', AdaBoostClassifier(random_state=42 , n_estimators=  53, learning_rate = .7, algorithm = 'SAMME.R')))\n",
    "models.append(('GBM  ', GradientBoostingClassifier()))\n",
    "models.append(('RFM  ', RandomForestClassifier(n_estimators=80, max_features=7, oob_score= True, random_state= 42)))\n",
    "models.append(('ExT  ', ExtraTreesClassifier()))\n",
    "results = []\n",
    "names = []\n",
    "for name, model in models:\n",
    "    cv_results = model_selection.cross_val_score(model, training_features_under, training_target_under,  scoring=scoring)\n",
    "    results.append(cv_results)\n",
    "    names.append(name)\n",
    "    msg = \"%s  : %f (%f)\" % (name, cv_results.mean(), cv_results.std())\n",
    "    print(msg)"
   ]
  },
  {
   "cell_type": "code",
   "execution_count": 38,
   "metadata": {},
   "outputs": [
    {
     "data": {
      "image/png": "[encoded data removed]",
      "text/plain": [
       "<Figure size 720x432 with 1 Axes>"
      ]
     },
     "metadata": {},
     "output_type": "display_data"
    }
   ],
   "source": [
    "# Compare Algorithms\n",
    "fig = plt.figure(figsize=(10, 6))\n",
    "fig.suptitle('Algorithm Comparison')\n",
    "ax = fig.add_subplot(111)\n",
    "plt.boxplot(results)\n",
    "ax.set_xticklabels(names)\n",
    "plt.show()"
   ]
  },
  {
   "cell_type": "markdown",
   "metadata": {
    "_cell_guid": "be656d47-e529-4533-b975-cf6de072d959",
    "_uuid": "17192fe8557463941e3abd4633b58ced0037721b"
   },
   "source": [
    "<h2 id=\"t6\">Random over-sampling</h2>"
   ]
  },
  {
   "cell_type": "code",
   "execution_count": 39,
   "metadata": {},
   "outputs": [
    {
     "data": {
      "text/plain": [
       "(20323, 70)"
      ]
     },
     "execution_count": 39,
     "metadata": {},
     "output_type": "execute_result"
    }
   ],
   "source": [
    "df_class_1_over = df_class_1.sample(count_class_0, replace=True)\n",
    "df_class_1_over.shape"
   ]
  },
  {
   "cell_type": "code",
   "execution_count": 40,
   "metadata": {
    "_cell_guid": "8ca1ac09-5d61-4cf7-99a4-e299f4955c97",
    "_uuid": "431942c08c59f0a6ae629c3c38485bf85d001892"
   },
   "outputs": [
    {
     "name": "stdout",
     "output_type": "stream",
     "text": [
      "Random over-sampling:\n",
      "0    20323\n",
      "1    20323\n",
      "Name: SheetBreak, dtype: int64\n"
     ]
    },
    {
     "data": {
      "image/png": "[encoded data removed]",
      "text/plain": [
       "<Figure size 1440x720 with 1 Axes>"
      ]
     },
     "metadata": {},
     "output_type": "display_data"
    }
   ],
   "source": [
    "df_class_1_over = df_class_1.sample(count_class_0, replace=True)\n",
    "df_test_over = pd.concat([df_class_0, df_class_1_over], axis=0)\n",
    "\n",
    "print('Random over-sampling:')\n",
    "print(df_test_over.SheetBreak.value_counts())\n",
    "\n",
    "df_test_over.SheetBreak.value_counts().plot(kind='bar', title='Count (SheetBreak)');"
   ]
  },
  {
   "cell_type": "code",
   "execution_count": 41,
   "metadata": {},
   "outputs": [],
   "source": [
    " X = df_test_over.drop('SheetBreak', axis = 1)\n",
    " y = df_test_over.SheetBreak"
   ]
  },
  {
   "cell_type": "code",
   "execution_count": 42,
   "metadata": {},
   "outputs": [],
   "source": [
    "# Splitting the dataset into the Training set and Test set\n",
    "from sklearn.model_selection import train_test_split\n",
    "\n",
    "training_features_over, test_features_over, \\\n",
    "training_target_over, test_target_over, = train_test_split(df_test_over.drop('SheetBreak', axis = 1),\n",
    "                                               df_test_over.SheetBreak,\n",
    "                                               test_size = .2,\n",
    "                                               random_state=12)\n"
   ]
  },
  {
   "cell_type": "code",
   "execution_count": 43,
   "metadata": {
    "_cell_guid": "bd97a34a-8e27-4eb2-a552-fe21f860dd15",
    "_uuid": "5c7c4e3f364c664f52d04d24f948cc416d2d7e4c"
   },
   "outputs": [
    {
     "name": "stdout",
     "output_type": "stream",
     "text": [
      " RandomForest Prediction Accuracy Over              : 99.99%\n"
     ]
    }
   ],
   "source": [
    "RFModelOver = RandomForestClassifier( n_estimators=80, max_features=7, oob_score= True, random_state= 42)\n",
    "\n",
    "RFModelOver.fit(training_features_over, training_target_over)\n",
    "RF_predOver =RFModelOver.predict(test_features_over)\n",
    "\n",
    "\n",
    "ACRFOver = accuracy_score(test_target_over, RF_predOver)\n",
    "print(\" RandomForest Prediction Accuracy Over              : {:.2f}%\".format(ACRFOver * 100))"
   ]
  },
  {
   "cell_type": "code",
   "execution_count": 44,
   "metadata": {},
   "outputs": [
    {
     "name": "stdout",
     "output_type": "stream",
     "text": [
      " RandomForest Prediction Accuracy                   : 99.58%\n",
      " RandomForest Prediction Accuracy Under             : 98.15%\n",
      " RandomForest Prediction Accuracy Over              : 99.99%\n"
     ]
    }
   ],
   "source": [
    "print(\" RandomForest Prediction Accuracy                   : {:.2f}%\".format(ACRF * 100))\n",
    "print(\" RandomForest Prediction Accuracy Under             : {:.2f}%\".format(ACRFUnder * 100))\n",
    "print(\" RandomForest Prediction Accuracy Over              : {:.2f}%\".format(ACRFOver * 100))"
   ]
  },
  {
   "cell_type": "code",
   "execution_count": 45,
   "metadata": {},
   "outputs": [
    {
     "name": "stdout",
     "output_type": "stream",
     "text": [
      "LRM    : 0.850965 (0.005644)\n",
      "LDA    : 0.825778 (0.003960)\n",
      "KNN    : 0.912474 (0.001744)\n",
      "CART   : 0.998124 (0.000265)\n",
      "GNB    : 0.720384 (0.005613)\n",
      "KSVM   : 0.686462 (0.006513)\n",
      "ABM    : 0.979795 (0.003888)\n",
      "GBM    : 0.995202 (0.001157)\n",
      "RFM    : 0.999846 (0.000097)\n",
      "ExT    : 0.999969 (0.000062)\n"
     ]
    }
   ],
   "source": [
    "#from sklearn.model_selection import KFold\n",
    "from sklearn import model_selection\n",
    "\n",
    "# Spot Check Algorithms\n",
    "scoring = 'accuracy'\n",
    "models = []\n",
    "models.append(('LRM  ', LogisticRegression(random_state = 45, solver='newton-cg', max_iter=1000)))\n",
    "models.append(('LDA  ', LinearDiscriminantAnalysis()))\n",
    "models.append(('KNN  ', KNeighborsClassifier(n_neighbors = 57  , metric = 'minkowski', p = 2)))\n",
    "models.append(('CART ', DecisionTreeClassifier(criterion = 'entropy', random_state = 45)))\n",
    "models.append(('GNB  ', GaussianNB()))\n",
    "#models.append(('SVM  ', SVC(kernel = 'linear', random_state = 45)))\n",
    "models.append(('KSVM ', SVC(kernel = 'rbf', random_state = 45)))\n",
    "models.append(('ABM  ', AdaBoostClassifier(random_state=42 , n_estimators=  53, learning_rate = .7, algorithm = 'SAMME.R')))\n",
    "models.append(('GBM  ', GradientBoostingClassifier()))\n",
    "models.append(('RFM  ', RandomForestClassifier(n_estimators=80, max_features=7, oob_score= True, random_state= 42)))\n",
    "models.append(('ExT  ', ExtraTreesClassifier()))\n",
    "results = []\n",
    "names = []\n",
    "for name, model in models:\n",
    "    cv_results = model_selection.cross_val_score(model, training_features_over, training_target_over,  scoring=scoring)\n",
    "    results.append(cv_results)\n",
    "    names.append(name)\n",
    "    msg = \"%s  : %f (%f)\" % (name, cv_results.mean(), cv_results.std())\n",
    "    print(msg)"
   ]
  },
  {
   "cell_type": "code",
   "execution_count": 46,
   "metadata": {},
   "outputs": [
    {
     "data": {
      "image/png": "[encoded data removed]",
      "text/plain": [
       "<Figure size 720x432 with 1 Axes>"
      ]
     },
     "metadata": {},
     "output_type": "display_data"
    }
   ],
   "source": [
    "# Compare Algorithms\n",
    "fig = plt.figure(figsize=(10, 6))\n",
    "fig.suptitle('Algorithm Comparison')\n",
    "ax = fig.add_subplot(111)\n",
    "plt.boxplot(results)\n",
    "ax.set_xticklabels(names)\n",
    "plt.show()"
   ]
  },
  {
   "cell_type": "code",
   "execution_count": null,
   "metadata": {},
   "outputs": [],
   "source": []
  },
  {
   "cell_type": "code",
   "execution_count": null,
   "metadata": {},
   "outputs": [],
   "source": [
    "smote = SMOTE(random_state = 212 , k_neighbors =1)\n",
    "X_train_scaled_resampled , y_train_resampled =smote.fit_resample(X_train_scaled ,y_train )\n",
    "print ('Resampled dataset shape %s' % Counter (y_train_resampled))"
   ]
  },
  {
   "cell_type": "markdown",
   "metadata": {
    "_cell_guid": "9fd90ddc-f2fc-487d-b177-0c540daf2eff",
    "_uuid": "9672899d4029b71b72897927ce464d6d7427ce77"
   },
   "source": [
    "<h2 id=\"t7\" style=\"margin-bottom: 18px\">Python imbalanced-learn module</h2>\n",
    "\n",
    "A number of more sophisticated resapling techniques have been proposed in the scientific literature.\n",
    "\n",
    "For example, we can cluster the records of the majority class, and do the under-sampling by removing records from each cluster, thus seeking to preserve information. In over-sampling, instead of creating exact copies of the minority class records, we can introduce small variations into those copies, creating more diverse synthetic samples.\n",
    "\n",
    "Let's apply some of these resampling techniques, using the Python library [imbalanced-learn](http://contrib.scikit-learn.org/imbalanced-learn/stable/). It is compatible with scikit-learn and is part of scikit-learn-contrib projects."
   ]
  },
  {
   "cell_type": "code",
   "execution_count": 47,
   "metadata": {},
   "outputs": [
    {
     "name": "stdout",
     "output_type": "stream",
     "text": [
      "Requirement already satisfied: imblearn in c:\\users\\medwa\\anaconda3\\lib\\site-packages (0.0)"
     ]
    },
    {
     "name": "stderr",
     "output_type": "stream",
     "text": [
      "WARNING: You are using pip version 20.3.3; however, version 21.0.1 is available.\n",
      "You should consider upgrading via the 'c:\\users\\medwa\\anaconda3\\python.exe -m pip install --upgrade pip' command.\n"
     ]
    },
    {
     "name": "stdout",
     "output_type": "stream",
     "text": [
      "\n",
      "Requirement already satisfied: imbalanced-learn in c:\\users\\medwa\\appdata\\roaming\\python\\python37\\site-packages (from imblearn) (0.7.0)\n",
      "Requirement already satisfied: joblib>=0.11 in c:\\users\\medwa\\appdata\\roaming\\python\\python37\\site-packages (from imbalanced-learn->imblearn) (1.0.1)\n",
      "Requirement already satisfied: scikit-learn>=0.23 in c:\\users\\medwa\\appdata\\roaming\\python\\python37\\site-packages (from imbalanced-learn->imblearn) (0.23.2)\n",
      "Requirement already satisfied: scipy>=0.19.1 in c:\\users\\medwa\\appdata\\roaming\\python\\python37\\site-packages (from imbalanced-learn->imblearn) (1.5.4)\n",
      "Requirement already satisfied: numpy>=1.13.3 in c:\\users\\medwa\\appdata\\roaming\\python\\python37\\site-packages (from imbalanced-learn->imblearn) (1.19.5)\n",
      "Requirement already satisfied: threadpoolctl>=2.0.0 in c:\\users\\medwa\\appdata\\roaming\\python\\python37\\site-packages (from scikit-learn>=0.23->imbalanced-learn->imblearn) (2.1.0)\n"
     ]
    }
   ],
   "source": [
    "! pip install imblearn"
   ]
  },
  {
   "cell_type": "code",
   "execution_count": 48,
   "metadata": {
    "_cell_guid": "fdf3f76d-aacb-4ccc-9649-736dce7a237c",
    "_uuid": "41b482ec89f13dd22e85612404300041a3e71deb"
   },
   "outputs": [],
   "source": [
    "import imblearn"
   ]
  },
  {
   "cell_type": "markdown",
   "metadata": {
    "_cell_guid": "5542beb4-6aee-401a-8bc0-2a522fbbe90b",
    "_uuid": "ff93d1707c416178c010c125319220b785dca984"
   },
   "source": [
    "For ease of visualization, let's create a small unbalanced sample dataset using the <code>make_classification</code> method:"
   ]
  },
  {
   "cell_type": "code",
   "execution_count": 49,
   "metadata": {
    "_cell_guid": "e97abde1-c324-47b5-a33c-3b8b92268b5e",
    "_uuid": "3126327b6f4b4c469701ac7a76590f5e55e17076"
   },
   "outputs": [
    {
     "data": {
      "image/png": "[encoded data removed]",
      "text/plain": [
       "<Figure size 1440x720 with 1 Axes>"
      ]
     },
     "metadata": {},
     "output_type": "display_data"
    }
   ],
   "source": [
    "from sklearn.datasets import make_classification\n",
    "\n",
    "X, y = make_classification(\n",
    "    n_classes=2, class_sep=1.5, weights=[0.9, 0.1],\n",
    "    n_informative=3, n_redundant=1, flip_y=0,\n",
    "    n_features=20, n_clusters_per_class=1,\n",
    "    n_samples=100, random_state=10\n",
    ")\n",
    "\n",
    "papermf = pd.DataFrame(X)\n",
    "papermf['SheetBreak'] = y\n",
    "papermf.SheetBreak.value_counts().plot(kind='bar', title='Count (target)');"
   ]
  },
  {
   "cell_type": "markdown",
   "metadata": {
    "_cell_guid": "4de57657-3aed-4444-a609-318063391763",
    "_uuid": "d348b114ec1594eeefa0a67aab8b54e5b9ee2bdf"
   },
   "source": [
    "We will also create a 2-dimensional plot function, <code>plot_2d_space</code>, to see the data distribution:"
   ]
  },
  {
   "cell_type": "code",
   "execution_count": 53,
   "metadata": {
    "_cell_guid": "8003c84c-fee4-45c7-b490-90a185799760",
    "_uuid": "b2a02a4ff687fb099232a0468917ec8ab737d22d"
   },
   "outputs": [],
   "source": [
    "def plot_2d_space(X, y, label='Classes'):   \n",
    "    colors = ['#1F77B4', '#FF7F0E']\n",
    "    markers = ['o', 's']\n",
    "    for l, c, m in zip(np.unique(y), colors, markers):\n",
    "        plt.scatter(\n",
    "            X[y==l, 0],\n",
    "            X[y==l, 1],\n",
    "            c=c, label=l, marker=m\n",
    "        )\n",
    "    plt.title(label)\n",
    "    plt.legend(loc='upper right')\n",
    "    plt.show()"
   ]
  },
  {
   "cell_type": "markdown",
   "metadata": {
    "_cell_guid": "2c565bbc-39ed-45a2-8b3d-bc501e2510aa",
    "_uuid": "aabc110dd8d1b36345df6aada1c59b864e48e8e6"
   },
   "source": [
    "Because the dataset has many dimensions (features) and our graphs will be 2D, we will reduce the size of the dataset using Principal Component Analysis (PCA):"
   ]
  },
  {
   "cell_type": "code",
   "execution_count": 51,
   "metadata": {
    "_cell_guid": "22b689c8-b296-4736-9aa6-46f36283f91f",
    "_uuid": "f64eff19d1304d4bd1e92d2c51a8a953cd17d7f9"
   },
   "outputs": [
    {
     "data": {
      "image/png": "[encoded data removed]",
      "text/plain": [
       "<Figure size 1440x720 with 1 Axes>"
      ]
     },
     "metadata": {},
     "output_type": "display_data"
    }
   ],
   "source": [
    "from sklearn.decomposition import PCA\n",
    "\n",
    "pca = PCA(n_components=2)\n",
    "X = pca.fit_transform(X)\n",
    "\n",
    "plot_2d_space(X, y, 'Imbalanced dataset (2 PCA components)')"
   ]
  },
  {
   "cell_type": "markdown",
   "metadata": {
    "_cell_guid": "c3c9a24f-3cd0-4c8d-8a4d-4403c4f1a641",
    "_uuid": "0d7316b04837aa103003d667f63ecb05d43fc04e"
   },
   "source": [
    "<h2 id=\"#t72\">Random under-sampling and over-sampling with imbalanced-learn</h2>"
   ]
  },
  {
   "cell_type": "code",
   "execution_count": null,
   "metadata": {
    "_cell_guid": "28bdbe23-5eeb-4335-8c70-7a00bbac3e03",
    "_uuid": "8a56a4b118d7cae885e4c6a45fa02b2f066ece78"
   },
   "outputs": [],
   "source": [
    "from imblearn.under_sampling import RandomUnderSampler\n",
    "\n",
    "rus = RandomUnderSampler(return_indices=True)\n",
    "X_rus, y_rus, id_rus = rus.fit_sample(X, y)\n",
    "\n",
    "print('Removed indexes:', id_rus)\n",
    "\n",
    "plot_2d_space(X_rus, y_rus, 'Random under-sampling')"
   ]
  },
  {
   "cell_type": "code",
   "execution_count": 54,
   "metadata": {
    "_cell_guid": "c8eaed30-339e-4d23-a0f2-fbd687b217ea",
    "_uuid": "be5b90300f0a25bbe7d1822503e7fc5185a906b2",
    "scrolled": true
   },
   "outputs": [
    {
     "name": "stdout",
     "output_type": "stream",
     "text": [
      "80 new random picked points\n"
     ]
    },
    {
     "data": {
      "image/png": "[encoded data removed]",
      "text/plain": [
       "<Figure size 1440x720 with 1 Axes>"
      ]
     },
     "metadata": {},
     "output_type": "display_data"
    }
   ],
   "source": [
    "from imblearn.over_sampling import RandomOverSampler\n",
    "\n",
    "ros = RandomOverSampler()\n",
    "X_ros, y_ros = ros.fit_sample(X, y)\n",
    "\n",
    "print(X_ros.shape[0] - X.shape[0], 'new random picked points')\n",
    "\n",
    "plot_2d_space(X_ros, y_ros, 'Random over-sampling')"
   ]
  },
  {
   "cell_type": "markdown",
   "metadata": {
    "_cell_guid": "3156134f-539b-48b8-b9d0-64095fe50c1c",
    "_uuid": "b3f9ac47a157d9096a626360408859b795299c24"
   },
   "source": [
    "<h2 id=\"t8\" style=\"margin-bottom: 18px\">Under-sampling: Tomek links</h2>\n",
    "\n",
    "Tomek links are pairs of very close instances, but of opposite classes. Removing the instances of the majority class of each pair increases the space between the two classes, facilitating the classification process."
   ]
  },
  {
   "cell_type": "markdown",
   "metadata": {
    "_cell_guid": "f131f7e0-007d-406e-9e1c-db352d2d8433",
    "_uuid": "85c01c0e6baa1b984585c1db34c5ab0315cbf8ff"
   },
   "source": [
    "![](https://raw.githubusercontent.com/rafjaa/machine_learning_fecib/master/src/static/img/tomek.png?v=2)"
   ]
  },
  {
   "cell_type": "markdown",
   "metadata": {
    "_cell_guid": "45bf057b-369c-4f37-a5ac-7417ad79253d",
    "_uuid": "733a86ccfaaabf701fb2d1f9997c732b19630df3"
   },
   "source": [
    "In the code below, we'll use <code>ratio='majority'</code> to resample the majority class."
   ]
  },
  {
   "cell_type": "code",
   "execution_count": null,
   "metadata": {
    "_cell_guid": "58f13562-c0c6-4247-bf40-c6dec764ff3a",
    "_uuid": "0c93b1e11359f4d1eb873280b61aa0f54ee8bd36"
   },
   "outputs": [],
   "source": [
    "from imblearn.under_sampling import TomekLinks\n",
    "\n",
    "tl = TomekLinks(return_indices=True, ratio='majority')\n",
    "X_tl, y_tl, id_tl = tl.fit_sample(X, y)\n",
    "\n",
    "print('Removed indexes:', id_tl)\n",
    "\n",
    "plot_2d_space(X_tl, y_tl, 'Tomek links under-sampling')"
   ]
  },
  {
   "cell_type": "markdown",
   "metadata": {
    "_cell_guid": "fef831bd-ecec-429c-aef2-5d51d1188820",
    "_uuid": "b4e75fffe4c91afcd63705aa7bcb16b6fd9f6b1f"
   },
   "source": [
    "<h2 id=\"t9\" style=\"margin-bottom: 18px\">Under-sampling: Cluster Centroids</h2>\n",
    "\n",
    "This technique performs under-sampling by generating centroids based on clustering methods. The data will be previously grouped by similarity, in order to preserve information.\n",
    "\n",
    "In this example we will pass the <code>{0: 10}</code> dict for the parameter <code>ratio</code>, to preserve 10 elements from the majority class (0), and all minority class (1) ."
   ]
  },
  {
   "cell_type": "code",
   "execution_count": null,
   "metadata": {
    "_cell_guid": "91001b3e-fe5c-4dc1-8501-395e1218cba1",
    "_uuid": "ad088a08f4f9e0b646571950928c7fff47f52f98"
   },
   "outputs": [],
   "source": [
    "from imblearn.under_sampling import ClusterCentroids\n",
    "\n",
    "cc = ClusterCentroids(ratio={0: 10})\n",
    "X_cc, y_cc = cc.fit_sample(X, y)\n",
    "\n",
    "plot_2d_space(X_cc, y_cc, 'Cluster Centroids under-sampling')"
   ]
  },
  {
   "cell_type": "markdown",
   "metadata": {
    "_cell_guid": "78adb7b4-a7e1-4d10-9cc2-6bf6477c63df",
    "_uuid": "b3741f5c14acdbd76e25725e2d73df5f2cb0a239"
   },
   "source": [
    "<h2 id=\"t10\" style=\"margin-bottom: 18px\">Over-sampling: SMOTE</h2>\n",
    "\n",
    "SMOTE (Synthetic Minority Oversampling TEchnique) consists of synthesizing elements for the minority class, based on those that already exist. It works randomly picingk a point from the minority class and computing the k-nearest neighbors for this point. The synthetic points are added between the chosen point and its neighbors."
   ]
  },
  {
   "cell_type": "markdown",
   "metadata": {
    "_cell_guid": "5162646f-da82-4877-b6d8-25a8be7f42e9",
    "_uuid": "51697e21b7cdb4064dda18aa24e6ecf039b1132b"
   },
   "source": [
    " ![](https://raw.githubusercontent.com/rafjaa/machine_learning_fecib/master/src/static/img/smote.png)"
   ]
  },
  {
   "cell_type": "markdown",
   "metadata": {
    "_cell_guid": "9c0a0d78-8427-437e-aa24-ffe2bd12edb2",
    "_uuid": "9393851db694c178faf93615bf05addedf5d678b"
   },
   "source": [
    "We'll use <code>ratio='minority'</code> to resample the minority class."
   ]
  },
  {
   "cell_type": "code",
   "execution_count": null,
   "metadata": {
    "_cell_guid": "97e9f84e-0951-4037-b882-57545f9d967a",
    "_uuid": "74457c951aabf5b16be1c4282c15d9cb2034f26b"
   },
   "outputs": [],
   "source": [
    "from imblearn.over_sampling import SMOTE\n",
    "\n",
    "smote = SMOTE(ratio='minority')\n",
    "X_sm, y_sm = smote.fit_sample(X, y)\n",
    "\n",
    "plot_2d_space(X_sm, y_sm, 'SMOTE over-sampling')"
   ]
  },
  {
   "cell_type": "markdown",
   "metadata": {
    "_cell_guid": "20c3cdbb-a7c1-45a5-8dd9-84cff7d9af31",
    "_uuid": "d7ebbeb741ad6469cb7ebbced3499acd3c49856a"
   },
   "source": [
    "<h2 id=\"t11\" style=\"margin-bottom: 18px\">Over-sampling followed by under-sampling</h2>\n",
    "\n",
    "Now, we will do a combination of over-sampling and under-sampling, using the SMOTE and Tomek links techniques:"
   ]
  },
  {
   "cell_type": "code",
   "execution_count": null,
   "metadata": {
    "_cell_guid": "ab732fe1-45c1-4163-b70e-7a2ce2dbe42f",
    "_uuid": "b740fbaf8677522d3b3040e2f47e3b954dc56877",
    "scrolled": true
   },
   "outputs": [],
   "source": [
    "from imblearn.combine import SMOTETomek\n",
    "\n",
    "smt = SMOTETomek(ratio='auto')\n",
    "X_smt, y_smt = smt.fit_sample(X, y)\n",
    "\n",
    "plot_2d_space(X_smt, y_smt, 'SMOTE + Tomek links')"
   ]
  },
  {
   "cell_type": "code",
   "execution_count": null,
   "metadata": {},
   "outputs": [],
   "source": [
    "model = XGBClassifier()\n",
    "model.fit(training_features[['age']], training_target)\n",
    "XGB_pred = model.predict(test_features[['age']])\n",
    "\n",
    "accuracy = accuracy_score(test_target, XGB_pred)\n",
    "print(\"Accuracy: %.2f%%\" % (accuracy * 100.0))"
   ]
  },
  {
   "cell_type": "code",
   "execution_count": null,
   "metadata": {},
   "outputs": [],
   "source": []
  },
  {
   "cell_type": "code",
   "execution_count": null,
   "metadata": {},
   "outputs": [],
   "source": []
  },
  {
   "cell_type": "code",
   "execution_count": null,
   "metadata": {},
   "outputs": [],
   "source": []
  }
 ],
 "metadata": {
  "kernelspec": {
   "display_name": "Python 3",
   "language": "python",
   "name": "python3"
  },
  "language_info": {
   "codemirror_mode": {
    "name": "ipython",
    "version": 3
   },
   "file_extension": ".py",
   "mimetype": "text/x-python",
   "name": "python",
   "nbconvert_exporter": "python",
   "pygments_lexer": "ipython3",
   "version": "3.7.3"
  },
  "toc": {
   "base_numbering": 1,
   "nav_menu": {},
   "number_sections": true,
   "sideBar": true,
   "skip_h1_title": false,
   "title_cell": "Table of Contents",
   "title_sidebar": "Contents",
   "toc_cell": false,
   "toc_position": {},
   "toc_section_display": true,
   "toc_window_display": false
  }
 },
 "nbformat": 4,
 "nbformat_minor": 1
}
